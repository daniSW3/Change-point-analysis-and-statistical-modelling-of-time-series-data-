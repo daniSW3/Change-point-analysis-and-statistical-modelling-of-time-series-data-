{
 "cells": [
  {
   "cell_type": "code",
   "execution_count": 2,
   "id": "d12bce9a",
   "metadata": {},
   "outputs": [
    {
     "name": "stderr",
     "output_type": "stream",
     "text": [
      "WARNING (pytensor.configdefaults): g++ not available, if using conda: `conda install gxx`\n",
      "WARNING (pytensor.configdefaults): g++ not detected!  PyTensor will be unable to compile C-implementations and will default to Python. Performance may be severely degraded. To remove this warning, set PyTensor flags cxx to an empty string.\n"
     ]
    }
   ],
   "source": [
    "import pymc as pm\n",
    "import pandas as pd\n",
    "import numpy as np\n",
    "import matplotlib.pyplot as plt\n"
   ]
  },
  {
   "cell_type": "code",
   "execution_count": 10,
   "id": "89698a08",
   "metadata": {},
   "outputs": [
    {
     "name": "stderr",
     "output_type": "stream",
     "text": [
      "C:\\Users\\Daniel.Temesgen\\AppData\\Local\\Temp\\ipykernel_30364\\1172273739.py:12: UserWarning: Could not infer format, so each element will be parsed individually, falling back to `dateutil`. To ensure parsing is consistent and as-expected, please specify a format.\n",
      "  df['Date'] = pd.to_datetime(df['Date'])\n",
      "Sequential sampling (1 chains in 1 job)\n",
      "CompoundStep\n",
      ">Metropolis: [tau]\n",
      ">NUTS: [mu1, mu2, sigma]\n"
     ]
    },
    {
     "data": {
      "text/html": [
       "<pre style=\"white-space:pre;overflow-x:auto;line-height:normal;font-family:Menlo,'DejaVu Sans Mono',consolas,'Courier New',monospace\">c:\\Users\\Daniel.Temesgen\\Desktop\\KIAM\\Change point analysis and statistical modelling of time series \n",
       "data\\week10\\Lib\\site-packages\\rich\\live.py:256: UserWarning: install \"ipywidgets\" for Jupyter support\n",
       "  warnings.warn('install \"ipywidgets\" for Jupyter support')\n",
       "</pre>\n"
      ],
      "text/plain": [
       "c:\\Users\\Daniel.Temesgen\\Desktop\\KIAM\\Change point analysis and statistical modelling of time series \n",
       "data\\week10\\Lib\\site-packages\\rich\\live.py:256: UserWarning: install \"ipywidgets\" for Jupyter support\n",
       "  warnings.warn('install \"ipywidgets\" for Jupyter support')\n"
      ]
     },
     "metadata": {},
     "output_type": "display_data"
    },
    {
     "data": {
      "text/html": [
       "<pre style=\"white-space:pre;overflow-x:auto;line-height:normal;font-family:Menlo,'DejaVu Sans Mono',consolas,'Courier New',monospace\">Draw object attributes: ['__add__', '__class__', '__class_getitem__', '__contains__', '__delattr__', '__dir__', \n",
       "'__doc__', '__eq__', '__format__', '__ge__', '__getattribute__', '__getitem__', '__getnewargs__', '__getstate__', \n",
       "'__gt__', '__hash__', '__init__', '__init_subclass__', '__iter__', '__le__', '__len__', '__lt__', '__match_args__',\n",
       "'__module__', '__mul__', '__ne__', '__new__', '__reduce__', '__reduce_ex__', '__replace__', '__repr__', '__rmul__',\n",
       "'__setattr__', '__sizeof__', '__slots__', '__str__', '__subclasshook__', '_asdict', '_field_defaults', '_fields', \n",
       "'_make', '_replace', 'chain', 'count', 'draw_idx', 'index', 'is_last', 'point', 'stats', 'tuning']\n",
       "</pre>\n"
      ],
      "text/plain": [
       "Draw object attributes: ['__add__', '__class__', '__class_getitem__', '__contains__', '__delattr__', '__dir__', \n",
       "'__doc__', '__eq__', '__format__', '__ge__', '__getattribute__', '__getitem__', '__getnewargs__', '__getstate__', \n",
       "'__gt__', '__hash__', '__init__', '__init_subclass__', '__iter__', '__le__', '__len__', '__lt__', '__match_args__',\n",
       "'__module__', '__mul__', '__ne__', '__new__', '__reduce__', '__reduce_ex__', '__replace__', '__repr__', '__rmul__',\n",
       "'__setattr__', '__sizeof__', '__slots__', '__str__', '__subclasshook__', '_asdict', '_field_defaults', '_fields', \n",
       "'_make', '_replace', 'chain', 'count', 'draw_idx', 'index', 'is_last', 'point', 'stats', 'tuning']\n"
      ]
     },
     "metadata": {},
     "output_type": "display_data"
    },
    {
     "data": {
      "text/html": [
       "<pre style=\"white-space:pre;overflow-x:auto;line-height:normal;font-family:Menlo,'DejaVu Sans Mono',consolas,'Courier New',monospace\">c:\\Users\\Daniel.Temesgen\\Desktop\\KIAM\\Change point analysis and statistical modelling of time series \n",
       "data\\week10\\Lib\\site-packages\\pytensor\\tensor\\elemwise.py:710: RuntimeWarning: divide by zero encountered in log\n",
       "  variables = ufunc(*ufunc_args, **ufunc_kwargs)\n",
       "</pre>\n"
      ],
      "text/plain": [
       "c:\\Users\\Daniel.Temesgen\\Desktop\\KIAM\\Change point analysis and statistical modelling of time series \n",
       "data\\week10\\Lib\\site-packages\\pytensor\\tensor\\elemwise.py:710: RuntimeWarning: divide by zero encountered in log\n",
       "  variables = ufunc(*ufunc_args, **ufunc_kwargs)\n"
      ]
     },
     "metadata": {},
     "output_type": "display_data"
    },
    {
     "data": {
      "text/html": [
       "<pre style=\"white-space:pre;overflow-x:auto;line-height:normal;font-family:Menlo,'DejaVu Sans Mono',consolas,'Courier New',monospace\">c:\\Users\\Daniel.Temesgen\\Desktop\\KIAM\\Change point analysis and statistical modelling of time series \n",
       "data\\week10\\Lib\\site-packages\\pytensor\\scalar\\basic.py:2094: RuntimeWarning: divide by zero encountered in divide\n",
       "  return x / y\n",
       "</pre>\n"
      ],
      "text/plain": [
       "c:\\Users\\Daniel.Temesgen\\Desktop\\KIAM\\Change point analysis and statistical modelling of time series \n",
       "data\\week10\\Lib\\site-packages\\pytensor\\scalar\\basic.py:2094: RuntimeWarning: divide by zero encountered in divide\n",
       "  return x / y\n"
      ]
     },
     "metadata": {},
     "output_type": "display_data"
    },
    {
     "data": {
      "text/html": [
       "<pre style=\"white-space:pre;overflow-x:auto;line-height:normal;font-family:Menlo,'DejaVu Sans Mono',consolas,'Courier New',monospace\">c:\\Users\\Daniel.Temesgen\\Desktop\\KIAM\\Change point analysis and statistical modelling of time series \n",
       "data\\week10\\Lib\\site-packages\\pytensor\\scalar\\basic.py:2052: RuntimeWarning: invalid value encountered in scalar \n",
       "subtract\n",
       "  return x - y\n",
       "</pre>\n"
      ],
      "text/plain": [
       "c:\\Users\\Daniel.Temesgen\\Desktop\\KIAM\\Change point analysis and statistical modelling of time series \n",
       "data\\week10\\Lib\\site-packages\\pytensor\\scalar\\basic.py:2052: RuntimeWarning: invalid value encountered in scalar \n",
       "subtract\n",
       "  return x - y\n"
      ]
     },
     "metadata": {},
     "output_type": "display_data"
    },
    {
     "data": {
      "text/html": [
       "<pre style=\"white-space:pre;overflow-x:auto;line-height:normal;font-family:Menlo,'DejaVu Sans Mono',consolas,'Courier New',monospace\">c:\\Users\\Daniel.Temesgen\\Desktop\\KIAM\\Change point analysis and statistical modelling of time series \n",
       "data\\week10\\Lib\\site-packages\\numpy\\_core\\fromnumeric.py:86: RuntimeWarning: invalid value encountered in reduce\n",
       "  return ufunc.reduce(obj, axis, dtype, out, **passkwargs)\n",
       "</pre>\n"
      ],
      "text/plain": [
       "c:\\Users\\Daniel.Temesgen\\Desktop\\KIAM\\Change point analysis and statistical modelling of time series \n",
       "data\\week10\\Lib\\site-packages\\numpy\\_core\\fromnumeric.py:86: RuntimeWarning: invalid value encountered in reduce\n",
       "  return ufunc.reduce(obj, axis, dtype, out, **passkwargs)\n"
      ]
     },
     "metadata": {},
     "output_type": "display_data"
    },
    {
     "data": {
      "text/html": [
       "<pre style=\"white-space:pre;overflow-x:auto;line-height:normal;font-family:Menlo,'DejaVu Sans Mono',consolas,'Courier New',monospace\">Draw object attributes: ['__add__', '__class__', '__class_getitem__', '__contains__', '__delattr__', '__dir__', \n",
       "'__doc__', '__eq__', '__format__', '__ge__', '__getattribute__', '__getitem__', '__getnewargs__', '__getstate__', \n",
       "'__gt__', '__hash__', '__init__', '__init_subclass__', '__iter__', '__le__', '__len__', '__lt__', '__match_args__',\n",
       "'__module__', '__mul__', '__ne__', '__new__', '__reduce__', '__reduce_ex__', '__replace__', '__repr__', '__rmul__',\n",
       "'__setattr__', '__sizeof__', '__slots__', '__str__', '__subclasshook__', '_asdict', '_field_defaults', '_fields', \n",
       "'_make', '_replace', 'chain', 'count', 'draw_idx', 'index', 'is_last', 'point', 'stats', 'tuning']\n",
       "</pre>\n"
      ],
      "text/plain": [
       "Draw object attributes: ['__add__', '__class__', '__class_getitem__', '__contains__', '__delattr__', '__dir__', \n",
       "'__doc__', '__eq__', '__format__', '__ge__', '__getattribute__', '__getitem__', '__getnewargs__', '__getstate__', \n",
       "'__gt__', '__hash__', '__init__', '__init_subclass__', '__iter__', '__le__', '__len__', '__lt__', '__match_args__',\n",
       "'__module__', '__mul__', '__ne__', '__new__', '__reduce__', '__reduce_ex__', '__replace__', '__repr__', '__rmul__',\n",
       "'__setattr__', '__sizeof__', '__slots__', '__str__', '__subclasshook__', '_asdict', '_field_defaults', '_fields', \n",
       "'_make', '_replace', 'chain', 'count', 'draw_idx', 'index', 'is_last', 'point', 'stats', 'tuning']\n"
      ]
     },
     "metadata": {},
     "output_type": "display_data"
    },
    {
     "data": {
      "text/html": [
       "<pre style=\"white-space:pre;overflow-x:auto;line-height:normal;font-family:Menlo,'DejaVu Sans Mono',consolas,'Courier New',monospace\">Draw object attributes: ['__add__', '__class__', '__class_getitem__', '__contains__', '__delattr__', '__dir__', \n",
       "'__doc__', '__eq__', '__format__', '__ge__', '__getattribute__', '__getitem__', '__getnewargs__', '__getstate__', \n",
       "'__gt__', '__hash__', '__init__', '__init_subclass__', '__iter__', '__le__', '__len__', '__lt__', '__match_args__',\n",
       "'__module__', '__mul__', '__ne__', '__new__', '__reduce__', '__reduce_ex__', '__replace__', '__repr__', '__rmul__',\n",
       "'__setattr__', '__sizeof__', '__slots__', '__str__', '__subclasshook__', '_asdict', '_field_defaults', '_fields', \n",
       "'_make', '_replace', 'chain', 'count', 'draw_idx', 'index', 'is_last', 'point', 'stats', 'tuning']\n",
       "</pre>\n"
      ],
      "text/plain": [
       "Draw object attributes: ['__add__', '__class__', '__class_getitem__', '__contains__', '__delattr__', '__dir__', \n",
       "'__doc__', '__eq__', '__format__', '__ge__', '__getattribute__', '__getitem__', '__getnewargs__', '__getstate__', \n",
       "'__gt__', '__hash__', '__init__', '__init_subclass__', '__iter__', '__le__', '__len__', '__lt__', '__match_args__',\n",
       "'__module__', '__mul__', '__ne__', '__new__', '__reduce__', '__reduce_ex__', '__replace__', '__repr__', '__rmul__',\n",
       "'__setattr__', '__sizeof__', '__slots__', '__str__', '__subclasshook__', '_asdict', '_field_defaults', '_fields', \n",
       "'_make', '_replace', 'chain', 'count', 'draw_idx', 'index', 'is_last', 'point', 'stats', 'tuning']\n"
      ]
     },
     "metadata": {},
     "output_type": "display_data"
    },
    {
     "data": {
      "text/html": [
       "<pre style=\"white-space:pre;overflow-x:auto;line-height:normal;font-family:Menlo,'DejaVu Sans Mono',consolas,'Courier New',monospace\">Draw object attributes: ['__add__', '__class__', '__class_getitem__', '__contains__', '__delattr__', '__dir__', \n",
       "'__doc__', '__eq__', '__format__', '__ge__', '__getattribute__', '__getitem__', '__getnewargs__', '__getstate__', \n",
       "'__gt__', '__hash__', '__init__', '__init_subclass__', '__iter__', '__le__', '__len__', '__lt__', '__match_args__',\n",
       "'__module__', '__mul__', '__ne__', '__new__', '__reduce__', '__reduce_ex__', '__replace__', '__repr__', '__rmul__',\n",
       "'__setattr__', '__sizeof__', '__slots__', '__str__', '__subclasshook__', '_asdict', '_field_defaults', '_fields', \n",
       "'_make', '_replace', 'chain', 'count', 'draw_idx', 'index', 'is_last', 'point', 'stats', 'tuning']\n",
       "</pre>\n"
      ],
      "text/plain": [
       "Draw object attributes: ['__add__', '__class__', '__class_getitem__', '__contains__', '__delattr__', '__dir__', \n",
       "'__doc__', '__eq__', '__format__', '__ge__', '__getattribute__', '__getitem__', '__getnewargs__', '__getstate__', \n",
       "'__gt__', '__hash__', '__init__', '__init_subclass__', '__iter__', '__le__', '__len__', '__lt__', '__match_args__',\n",
       "'__module__', '__mul__', '__ne__', '__new__', '__reduce__', '__reduce_ex__', '__replace__', '__repr__', '__rmul__',\n",
       "'__setattr__', '__sizeof__', '__slots__', '__str__', '__subclasshook__', '_asdict', '_field_defaults', '_fields', \n",
       "'_make', '_replace', 'chain', 'count', 'draw_idx', 'index', 'is_last', 'point', 'stats', 'tuning']\n"
      ]
     },
     "metadata": {},
     "output_type": "display_data"
    },
    {
     "data": {
      "text/html": [
       "<pre style=\"white-space:pre;overflow-x:auto;line-height:normal;font-family:Menlo,'DejaVu Sans Mono',consolas,'Courier New',monospace\">Draw object attributes: ['__add__', '__class__', '__class_getitem__', '__contains__', '__delattr__', '__dir__', \n",
       "'__doc__', '__eq__', '__format__', '__ge__', '__getattribute__', '__getitem__', '__getnewargs__', '__getstate__', \n",
       "'__gt__', '__hash__', '__init__', '__init_subclass__', '__iter__', '__le__', '__len__', '__lt__', '__match_args__',\n",
       "'__module__', '__mul__', '__ne__', '__new__', '__reduce__', '__reduce_ex__', '__replace__', '__repr__', '__rmul__',\n",
       "'__setattr__', '__sizeof__', '__slots__', '__str__', '__subclasshook__', '_asdict', '_field_defaults', '_fields', \n",
       "'_make', '_replace', 'chain', 'count', 'draw_idx', 'index', 'is_last', 'point', 'stats', 'tuning']\n",
       "</pre>\n"
      ],
      "text/plain": [
       "Draw object attributes: ['__add__', '__class__', '__class_getitem__', '__contains__', '__delattr__', '__dir__', \n",
       "'__doc__', '__eq__', '__format__', '__ge__', '__getattribute__', '__getitem__', '__getnewargs__', '__getstate__', \n",
       "'__gt__', '__hash__', '__init__', '__init_subclass__', '__iter__', '__le__', '__len__', '__lt__', '__match_args__',\n",
       "'__module__', '__mul__', '__ne__', '__new__', '__reduce__', '__reduce_ex__', '__replace__', '__repr__', '__rmul__',\n",
       "'__setattr__', '__sizeof__', '__slots__', '__str__', '__subclasshook__', '_asdict', '_field_defaults', '_fields', \n",
       "'_make', '_replace', 'chain', 'count', 'draw_idx', 'index', 'is_last', 'point', 'stats', 'tuning']\n"
      ]
     },
     "metadata": {},
     "output_type": "display_data"
    },
    {
     "data": {
      "text/html": [
       "<pre style=\"white-space:pre;overflow-x:auto;line-height:normal;font-family:Menlo,'DejaVu Sans Mono',consolas,'Courier New',monospace\">Draw object attributes: ['__add__', '__class__', '__class_getitem__', '__contains__', '__delattr__', '__dir__', \n",
       "'__doc__', '__eq__', '__format__', '__ge__', '__getattribute__', '__getitem__', '__getnewargs__', '__getstate__', \n",
       "'__gt__', '__hash__', '__init__', '__init_subclass__', '__iter__', '__le__', '__len__', '__lt__', '__match_args__',\n",
       "'__module__', '__mul__', '__ne__', '__new__', '__reduce__', '__reduce_ex__', '__replace__', '__repr__', '__rmul__',\n",
       "'__setattr__', '__sizeof__', '__slots__', '__str__', '__subclasshook__', '_asdict', '_field_defaults', '_fields', \n",
       "'_make', '_replace', 'chain', 'count', 'draw_idx', 'index', 'is_last', 'point', 'stats', 'tuning']\n",
       "</pre>\n"
      ],
      "text/plain": [
       "Draw object attributes: ['__add__', '__class__', '__class_getitem__', '__contains__', '__delattr__', '__dir__', \n",
       "'__doc__', '__eq__', '__format__', '__ge__', '__getattribute__', '__getitem__', '__getnewargs__', '__getstate__', \n",
       "'__gt__', '__hash__', '__init__', '__init_subclass__', '__iter__', '__le__', '__len__', '__lt__', '__match_args__',\n",
       "'__module__', '__mul__', '__ne__', '__new__', '__reduce__', '__reduce_ex__', '__replace__', '__repr__', '__rmul__',\n",
       "'__setattr__', '__sizeof__', '__slots__', '__str__', '__subclasshook__', '_asdict', '_field_defaults', '_fields', \n",
       "'_make', '_replace', 'chain', 'count', 'draw_idx', 'index', 'is_last', 'point', 'stats', 'tuning']\n"
      ]
     },
     "metadata": {},
     "output_type": "display_data"
    },
    {
     "data": {
      "text/html": [
       "<pre style=\"white-space:pre;overflow-x:auto;line-height:normal;font-family:Menlo,'DejaVu Sans Mono',consolas,'Courier New',monospace\">Draw object attributes: ['__add__', '__class__', '__class_getitem__', '__contains__', '__delattr__', '__dir__', \n",
       "'__doc__', '__eq__', '__format__', '__ge__', '__getattribute__', '__getitem__', '__getnewargs__', '__getstate__', \n",
       "'__gt__', '__hash__', '__init__', '__init_subclass__', '__iter__', '__le__', '__len__', '__lt__', '__match_args__',\n",
       "'__module__', '__mul__', '__ne__', '__new__', '__reduce__', '__reduce_ex__', '__replace__', '__repr__', '__rmul__',\n",
       "'__setattr__', '__sizeof__', '__slots__', '__str__', '__subclasshook__', '_asdict', '_field_defaults', '_fields', \n",
       "'_make', '_replace', 'chain', 'count', 'draw_idx', 'index', 'is_last', 'point', 'stats', 'tuning']\n",
       "</pre>\n"
      ],
      "text/plain": [
       "Draw object attributes: ['__add__', '__class__', '__class_getitem__', '__contains__', '__delattr__', '__dir__', \n",
       "'__doc__', '__eq__', '__format__', '__ge__', '__getattribute__', '__getitem__', '__getnewargs__', '__getstate__', \n",
       "'__gt__', '__hash__', '__init__', '__init_subclass__', '__iter__', '__le__', '__len__', '__lt__', '__match_args__',\n",
       "'__module__', '__mul__', '__ne__', '__new__', '__reduce__', '__reduce_ex__', '__replace__', '__repr__', '__rmul__',\n",
       "'__setattr__', '__sizeof__', '__slots__', '__str__', '__subclasshook__', '_asdict', '_field_defaults', '_fields', \n",
       "'_make', '_replace', 'chain', 'count', 'draw_idx', 'index', 'is_last', 'point', 'stats', 'tuning']\n"
      ]
     },
     "metadata": {},
     "output_type": "display_data"
    },
    {
     "data": {
      "text/html": [
       "<pre style=\"white-space:pre;overflow-x:auto;line-height:normal;font-family:Menlo,'DejaVu Sans Mono',consolas,'Courier New',monospace\">Draw object attributes: ['__add__', '__class__', '__class_getitem__', '__contains__', '__delattr__', '__dir__', \n",
       "'__doc__', '__eq__', '__format__', '__ge__', '__getattribute__', '__getitem__', '__getnewargs__', '__getstate__', \n",
       "'__gt__', '__hash__', '__init__', '__init_subclass__', '__iter__', '__le__', '__len__', '__lt__', '__match_args__',\n",
       "'__module__', '__mul__', '__ne__', '__new__', '__reduce__', '__reduce_ex__', '__replace__', '__repr__', '__rmul__',\n",
       "'__setattr__', '__sizeof__', '__slots__', '__str__', '__subclasshook__', '_asdict', '_field_defaults', '_fields', \n",
       "'_make', '_replace', 'chain', 'count', 'draw_idx', 'index', 'is_last', 'point', 'stats', 'tuning']\n",
       "</pre>\n"
      ],
      "text/plain": [
       "Draw object attributes: ['__add__', '__class__', '__class_getitem__', '__contains__', '__delattr__', '__dir__', \n",
       "'__doc__', '__eq__', '__format__', '__ge__', '__getattribute__', '__getitem__', '__getnewargs__', '__getstate__', \n",
       "'__gt__', '__hash__', '__init__', '__init_subclass__', '__iter__', '__le__', '__len__', '__lt__', '__match_args__',\n",
       "'__module__', '__mul__', '__ne__', '__new__', '__reduce__', '__reduce_ex__', '__replace__', '__repr__', '__rmul__',\n",
       "'__setattr__', '__sizeof__', '__slots__', '__str__', '__subclasshook__', '_asdict', '_field_defaults', '_fields', \n",
       "'_make', '_replace', 'chain', 'count', 'draw_idx', 'index', 'is_last', 'point', 'stats', 'tuning']\n"
      ]
     },
     "metadata": {},
     "output_type": "display_data"
    },
    {
     "data": {
      "text/html": [
       "<pre style=\"white-space:pre;overflow-x:auto;line-height:normal;font-family:Menlo,'DejaVu Sans Mono',consolas,'Courier New',monospace\">Draw object attributes: ['__add__', '__class__', '__class_getitem__', '__contains__', '__delattr__', '__dir__', \n",
       "'__doc__', '__eq__', '__format__', '__ge__', '__getattribute__', '__getitem__', '__getnewargs__', '__getstate__', \n",
       "'__gt__', '__hash__', '__init__', '__init_subclass__', '__iter__', '__le__', '__len__', '__lt__', '__match_args__',\n",
       "'__module__', '__mul__', '__ne__', '__new__', '__reduce__', '__reduce_ex__', '__replace__', '__repr__', '__rmul__',\n",
       "'__setattr__', '__sizeof__', '__slots__', '__str__', '__subclasshook__', '_asdict', '_field_defaults', '_fields', \n",
       "'_make', '_replace', 'chain', 'count', 'draw_idx', 'index', 'is_last', 'point', 'stats', 'tuning']\n",
       "</pre>\n"
      ],
      "text/plain": [
       "Draw object attributes: ['__add__', '__class__', '__class_getitem__', '__contains__', '__delattr__', '__dir__', \n",
       "'__doc__', '__eq__', '__format__', '__ge__', '__getattribute__', '__getitem__', '__getnewargs__', '__getstate__', \n",
       "'__gt__', '__hash__', '__init__', '__init_subclass__', '__iter__', '__le__', '__len__', '__lt__', '__match_args__',\n",
       "'__module__', '__mul__', '__ne__', '__new__', '__reduce__', '__reduce_ex__', '__replace__', '__repr__', '__rmul__',\n",
       "'__setattr__', '__sizeof__', '__slots__', '__str__', '__subclasshook__', '_asdict', '_field_defaults', '_fields', \n",
       "'_make', '_replace', 'chain', 'count', 'draw_idx', 'index', 'is_last', 'point', 'stats', 'tuning']\n"
      ]
     },
     "metadata": {},
     "output_type": "display_data"
    },
    {
     "data": {
      "text/html": [
       "<pre style=\"white-space:pre;overflow-x:auto;line-height:normal;font-family:Menlo,'DejaVu Sans Mono',consolas,'Courier New',monospace\">Draw object attributes: ['__add__', '__class__', '__class_getitem__', '__contains__', '__delattr__', '__dir__', \n",
       "'__doc__', '__eq__', '__format__', '__ge__', '__getattribute__', '__getitem__', '__getnewargs__', '__getstate__', \n",
       "'__gt__', '__hash__', '__init__', '__init_subclass__', '__iter__', '__le__', '__len__', '__lt__', '__match_args__',\n",
       "'__module__', '__mul__', '__ne__', '__new__', '__reduce__', '__reduce_ex__', '__replace__', '__repr__', '__rmul__',\n",
       "'__setattr__', '__sizeof__', '__slots__', '__str__', '__subclasshook__', '_asdict', '_field_defaults', '_fields', \n",
       "'_make', '_replace', 'chain', 'count', 'draw_idx', 'index', 'is_last', 'point', 'stats', 'tuning']\n",
       "</pre>\n"
      ],
      "text/plain": [
       "Draw object attributes: ['__add__', '__class__', '__class_getitem__', '__contains__', '__delattr__', '__dir__', \n",
       "'__doc__', '__eq__', '__format__', '__ge__', '__getattribute__', '__getitem__', '__getnewargs__', '__getstate__', \n",
       "'__gt__', '__hash__', '__init__', '__init_subclass__', '__iter__', '__le__', '__len__', '__lt__', '__match_args__',\n",
       "'__module__', '__mul__', '__ne__', '__new__', '__reduce__', '__reduce_ex__', '__replace__', '__repr__', '__rmul__',\n",
       "'__setattr__', '__sizeof__', '__slots__', '__str__', '__subclasshook__', '_asdict', '_field_defaults', '_fields', \n",
       "'_make', '_replace', 'chain', 'count', 'draw_idx', 'index', 'is_last', 'point', 'stats', 'tuning']\n"
      ]
     },
     "metadata": {},
     "output_type": "display_data"
    },
    {
     "data": {
      "text/html": [
       "<pre style=\"white-space:pre;overflow-x:auto;line-height:normal;font-family:Menlo,'DejaVu Sans Mono',consolas,'Courier New',monospace\">Draw object attributes: ['__add__', '__class__', '__class_getitem__', '__contains__', '__delattr__', '__dir__', \n",
       "'__doc__', '__eq__', '__format__', '__ge__', '__getattribute__', '__getitem__', '__getnewargs__', '__getstate__', \n",
       "'__gt__', '__hash__', '__init__', '__init_subclass__', '__iter__', '__le__', '__len__', '__lt__', '__match_args__',\n",
       "'__module__', '__mul__', '__ne__', '__new__', '__reduce__', '__reduce_ex__', '__replace__', '__repr__', '__rmul__',\n",
       "'__setattr__', '__sizeof__', '__slots__', '__str__', '__subclasshook__', '_asdict', '_field_defaults', '_fields', \n",
       "'_make', '_replace', 'chain', 'count', 'draw_idx', 'index', 'is_last', 'point', 'stats', 'tuning']\n",
       "</pre>\n"
      ],
      "text/plain": [
       "Draw object attributes: ['__add__', '__class__', '__class_getitem__', '__contains__', '__delattr__', '__dir__', \n",
       "'__doc__', '__eq__', '__format__', '__ge__', '__getattribute__', '__getitem__', '__getnewargs__', '__getstate__', \n",
       "'__gt__', '__hash__', '__init__', '__init_subclass__', '__iter__', '__le__', '__len__', '__lt__', '__match_args__',\n",
       "'__module__', '__mul__', '__ne__', '__new__', '__reduce__', '__reduce_ex__', '__replace__', '__repr__', '__rmul__',\n",
       "'__setattr__', '__sizeof__', '__slots__', '__str__', '__subclasshook__', '_asdict', '_field_defaults', '_fields', \n",
       "'_make', '_replace', 'chain', 'count', 'draw_idx', 'index', 'is_last', 'point', 'stats', 'tuning']\n"
      ]
     },
     "metadata": {},
     "output_type": "display_data"
    },
    {
     "data": {
      "text/html": [
       "<pre style=\"white-space:pre;overflow-x:auto;line-height:normal;font-family:Menlo,'DejaVu Sans Mono',consolas,'Courier New',monospace\">Draw object attributes: ['__add__', '__class__', '__class_getitem__', '__contains__', '__delattr__', '__dir__', \n",
       "'__doc__', '__eq__', '__format__', '__ge__', '__getattribute__', '__getitem__', '__getnewargs__', '__getstate__', \n",
       "'__gt__', '__hash__', '__init__', '__init_subclass__', '__iter__', '__le__', '__len__', '__lt__', '__match_args__',\n",
       "'__module__', '__mul__', '__ne__', '__new__', '__reduce__', '__reduce_ex__', '__replace__', '__repr__', '__rmul__',\n",
       "'__setattr__', '__sizeof__', '__slots__', '__str__', '__subclasshook__', '_asdict', '_field_defaults', '_fields', \n",
       "'_make', '_replace', 'chain', 'count', 'draw_idx', 'index', 'is_last', 'point', 'stats', 'tuning']\n",
       "</pre>\n"
      ],
      "text/plain": [
       "Draw object attributes: ['__add__', '__class__', '__class_getitem__', '__contains__', '__delattr__', '__dir__', \n",
       "'__doc__', '__eq__', '__format__', '__ge__', '__getattribute__', '__getitem__', '__getnewargs__', '__getstate__', \n",
       "'__gt__', '__hash__', '__init__', '__init_subclass__', '__iter__', '__le__', '__len__', '__lt__', '__match_args__',\n",
       "'__module__', '__mul__', '__ne__', '__new__', '__reduce__', '__reduce_ex__', '__replace__', '__repr__', '__rmul__',\n",
       "'__setattr__', '__sizeof__', '__slots__', '__str__', '__subclasshook__', '_asdict', '_field_defaults', '_fields', \n",
       "'_make', '_replace', 'chain', 'count', 'draw_idx', 'index', 'is_last', 'point', 'stats', 'tuning']\n"
      ]
     },
     "metadata": {},
     "output_type": "display_data"
    },
    {
     "data": {
      "text/html": [
       "<pre style=\"white-space:pre;overflow-x:auto;line-height:normal;font-family:Menlo,'DejaVu Sans Mono',consolas,'Courier New',monospace\">Draw object attributes: ['__add__', '__class__', '__class_getitem__', '__contains__', '__delattr__', '__dir__', \n",
       "'__doc__', '__eq__', '__format__', '__ge__', '__getattribute__', '__getitem__', '__getnewargs__', '__getstate__', \n",
       "'__gt__', '__hash__', '__init__', '__init_subclass__', '__iter__', '__le__', '__len__', '__lt__', '__match_args__',\n",
       "'__module__', '__mul__', '__ne__', '__new__', '__reduce__', '__reduce_ex__', '__replace__', '__repr__', '__rmul__',\n",
       "'__setattr__', '__sizeof__', '__slots__', '__str__', '__subclasshook__', '_asdict', '_field_defaults', '_fields', \n",
       "'_make', '_replace', 'chain', 'count', 'draw_idx', 'index', 'is_last', 'point', 'stats', 'tuning']\n",
       "</pre>\n"
      ],
      "text/plain": [
       "Draw object attributes: ['__add__', '__class__', '__class_getitem__', '__contains__', '__delattr__', '__dir__', \n",
       "'__doc__', '__eq__', '__format__', '__ge__', '__getattribute__', '__getitem__', '__getnewargs__', '__getstate__', \n",
       "'__gt__', '__hash__', '__init__', '__init_subclass__', '__iter__', '__le__', '__len__', '__lt__', '__match_args__',\n",
       "'__module__', '__mul__', '__ne__', '__new__', '__reduce__', '__reduce_ex__', '__replace__', '__repr__', '__rmul__',\n",
       "'__setattr__', '__sizeof__', '__slots__', '__str__', '__subclasshook__', '_asdict', '_field_defaults', '_fields', \n",
       "'_make', '_replace', 'chain', 'count', 'draw_idx', 'index', 'is_last', 'point', 'stats', 'tuning']\n"
      ]
     },
     "metadata": {},
     "output_type": "display_data"
    },
    {
     "data": {
      "text/html": [
       "<pre style=\"white-space:pre;overflow-x:auto;line-height:normal;font-family:Menlo,'DejaVu Sans Mono',consolas,'Courier New',monospace\">Draw object attributes: ['__add__', '__class__', '__class_getitem__', '__contains__', '__delattr__', '__dir__', \n",
       "'__doc__', '__eq__', '__format__', '__ge__', '__getattribute__', '__getitem__', '__getnewargs__', '__getstate__', \n",
       "'__gt__', '__hash__', '__init__', '__init_subclass__', '__iter__', '__le__', '__len__', '__lt__', '__match_args__',\n",
       "'__module__', '__mul__', '__ne__', '__new__', '__reduce__', '__reduce_ex__', '__replace__', '__repr__', '__rmul__',\n",
       "'__setattr__', '__sizeof__', '__slots__', '__str__', '__subclasshook__', '_asdict', '_field_defaults', '_fields', \n",
       "'_make', '_replace', 'chain', 'count', 'draw_idx', 'index', 'is_last', 'point', 'stats', 'tuning']\n",
       "</pre>\n"
      ],
      "text/plain": [
       "Draw object attributes: ['__add__', '__class__', '__class_getitem__', '__contains__', '__delattr__', '__dir__', \n",
       "'__doc__', '__eq__', '__format__', '__ge__', '__getattribute__', '__getitem__', '__getnewargs__', '__getstate__', \n",
       "'__gt__', '__hash__', '__init__', '__init_subclass__', '__iter__', '__le__', '__len__', '__lt__', '__match_args__',\n",
       "'__module__', '__mul__', '__ne__', '__new__', '__reduce__', '__reduce_ex__', '__replace__', '__repr__', '__rmul__',\n",
       "'__setattr__', '__sizeof__', '__slots__', '__str__', '__subclasshook__', '_asdict', '_field_defaults', '_fields', \n",
       "'_make', '_replace', 'chain', 'count', 'draw_idx', 'index', 'is_last', 'point', 'stats', 'tuning']\n"
      ]
     },
     "metadata": {},
     "output_type": "display_data"
    },
    {
     "data": {
      "text/html": [
       "<pre style=\"white-space:pre;overflow-x:auto;line-height:normal;font-family:Menlo,'DejaVu Sans Mono',consolas,'Courier New',monospace\">Draw object attributes: ['__add__', '__class__', '__class_getitem__', '__contains__', '__delattr__', '__dir__', \n",
       "'__doc__', '__eq__', '__format__', '__ge__', '__getattribute__', '__getitem__', '__getnewargs__', '__getstate__', \n",
       "'__gt__', '__hash__', '__init__', '__init_subclass__', '__iter__', '__le__', '__len__', '__lt__', '__match_args__',\n",
       "'__module__', '__mul__', '__ne__', '__new__', '__reduce__', '__reduce_ex__', '__replace__', '__repr__', '__rmul__',\n",
       "'__setattr__', '__sizeof__', '__slots__', '__str__', '__subclasshook__', '_asdict', '_field_defaults', '_fields', \n",
       "'_make', '_replace', 'chain', 'count', 'draw_idx', 'index', 'is_last', 'point', 'stats', 'tuning']\n",
       "</pre>\n"
      ],
      "text/plain": [
       "Draw object attributes: ['__add__', '__class__', '__class_getitem__', '__contains__', '__delattr__', '__dir__', \n",
       "'__doc__', '__eq__', '__format__', '__ge__', '__getattribute__', '__getitem__', '__getnewargs__', '__getstate__', \n",
       "'__gt__', '__hash__', '__init__', '__init_subclass__', '__iter__', '__le__', '__len__', '__lt__', '__match_args__',\n",
       "'__module__', '__mul__', '__ne__', '__new__', '__reduce__', '__reduce_ex__', '__replace__', '__repr__', '__rmul__',\n",
       "'__setattr__', '__sizeof__', '__slots__', '__str__', '__subclasshook__', '_asdict', '_field_defaults', '_fields', \n",
       "'_make', '_replace', 'chain', 'count', 'draw_idx', 'index', 'is_last', 'point', 'stats', 'tuning']\n"
      ]
     },
     "metadata": {},
     "output_type": "display_data"
    },
    {
     "data": {
      "text/html": [
       "<pre style=\"white-space:pre;overflow-x:auto;line-height:normal;font-family:Menlo,'DejaVu Sans Mono',consolas,'Courier New',monospace\">Draw object attributes: ['__add__', '__class__', '__class_getitem__', '__contains__', '__delattr__', '__dir__', \n",
       "'__doc__', '__eq__', '__format__', '__ge__', '__getattribute__', '__getitem__', '__getnewargs__', '__getstate__', \n",
       "'__gt__', '__hash__', '__init__', '__init_subclass__', '__iter__', '__le__', '__len__', '__lt__', '__match_args__',\n",
       "'__module__', '__mul__', '__ne__', '__new__', '__reduce__', '__reduce_ex__', '__replace__', '__repr__', '__rmul__',\n",
       "'__setattr__', '__sizeof__', '__slots__', '__str__', '__subclasshook__', '_asdict', '_field_defaults', '_fields', \n",
       "'_make', '_replace', 'chain', 'count', 'draw_idx', 'index', 'is_last', 'point', 'stats', 'tuning']\n",
       "</pre>\n"
      ],
      "text/plain": [
       "Draw object attributes: ['__add__', '__class__', '__class_getitem__', '__contains__', '__delattr__', '__dir__', \n",
       "'__doc__', '__eq__', '__format__', '__ge__', '__getattribute__', '__getitem__', '__getnewargs__', '__getstate__', \n",
       "'__gt__', '__hash__', '__init__', '__init_subclass__', '__iter__', '__le__', '__len__', '__lt__', '__match_args__',\n",
       "'__module__', '__mul__', '__ne__', '__new__', '__reduce__', '__reduce_ex__', '__replace__', '__repr__', '__rmul__',\n",
       "'__setattr__', '__sizeof__', '__slots__', '__str__', '__subclasshook__', '_asdict', '_field_defaults', '_fields', \n",
       "'_make', '_replace', 'chain', 'count', 'draw_idx', 'index', 'is_last', 'point', 'stats', 'tuning']\n"
      ]
     },
     "metadata": {},
     "output_type": "display_data"
    },
    {
     "data": {
      "text/html": [
       "<pre style=\"white-space:pre;overflow-x:auto;line-height:normal;font-family:Menlo,'DejaVu Sans Mono',consolas,'Courier New',monospace\">Draw object attributes: ['__add__', '__class__', '__class_getitem__', '__contains__', '__delattr__', '__dir__', \n",
       "'__doc__', '__eq__', '__format__', '__ge__', '__getattribute__', '__getitem__', '__getnewargs__', '__getstate__', \n",
       "'__gt__', '__hash__', '__init__', '__init_subclass__', '__iter__', '__le__', '__len__', '__lt__', '__match_args__',\n",
       "'__module__', '__mul__', '__ne__', '__new__', '__reduce__', '__reduce_ex__', '__replace__', '__repr__', '__rmul__',\n",
       "'__setattr__', '__sizeof__', '__slots__', '__str__', '__subclasshook__', '_asdict', '_field_defaults', '_fields', \n",
       "'_make', '_replace', 'chain', 'count', 'draw_idx', 'index', 'is_last', 'point', 'stats', 'tuning']\n",
       "</pre>\n"
      ],
      "text/plain": [
       "Draw object attributes: ['__add__', '__class__', '__class_getitem__', '__contains__', '__delattr__', '__dir__', \n",
       "'__doc__', '__eq__', '__format__', '__ge__', '__getattribute__', '__getitem__', '__getnewargs__', '__getstate__', \n",
       "'__gt__', '__hash__', '__init__', '__init_subclass__', '__iter__', '__le__', '__len__', '__lt__', '__match_args__',\n",
       "'__module__', '__mul__', '__ne__', '__new__', '__reduce__', '__reduce_ex__', '__replace__', '__repr__', '__rmul__',\n",
       "'__setattr__', '__sizeof__', '__slots__', '__str__', '__subclasshook__', '_asdict', '_field_defaults', '_fields', \n",
       "'_make', '_replace', 'chain', 'count', 'draw_idx', 'index', 'is_last', 'point', 'stats', 'tuning']\n"
      ]
     },
     "metadata": {},
     "output_type": "display_data"
    },
    {
     "data": {
      "text/html": [
       "<pre style=\"white-space:pre;overflow-x:auto;line-height:normal;font-family:Menlo,'DejaVu Sans Mono',consolas,'Courier New',monospace\">Draw object attributes: ['__add__', '__class__', '__class_getitem__', '__contains__', '__delattr__', '__dir__', \n",
       "'__doc__', '__eq__', '__format__', '__ge__', '__getattribute__', '__getitem__', '__getnewargs__', '__getstate__', \n",
       "'__gt__', '__hash__', '__init__', '__init_subclass__', '__iter__', '__le__', '__len__', '__lt__', '__match_args__',\n",
       "'__module__', '__mul__', '__ne__', '__new__', '__reduce__', '__reduce_ex__', '__replace__', '__repr__', '__rmul__',\n",
       "'__setattr__', '__sizeof__', '__slots__', '__str__', '__subclasshook__', '_asdict', '_field_defaults', '_fields', \n",
       "'_make', '_replace', 'chain', 'count', 'draw_idx', 'index', 'is_last', 'point', 'stats', 'tuning']\n",
       "</pre>\n"
      ],
      "text/plain": [
       "Draw object attributes: ['__add__', '__class__', '__class_getitem__', '__contains__', '__delattr__', '__dir__', \n",
       "'__doc__', '__eq__', '__format__', '__ge__', '__getattribute__', '__getitem__', '__getnewargs__', '__getstate__', \n",
       "'__gt__', '__hash__', '__init__', '__init_subclass__', '__iter__', '__le__', '__len__', '__lt__', '__match_args__',\n",
       "'__module__', '__mul__', '__ne__', '__new__', '__reduce__', '__reduce_ex__', '__replace__', '__repr__', '__rmul__',\n",
       "'__setattr__', '__sizeof__', '__slots__', '__str__', '__subclasshook__', '_asdict', '_field_defaults', '_fields', \n",
       "'_make', '_replace', 'chain', 'count', 'draw_idx', 'index', 'is_last', 'point', 'stats', 'tuning']\n"
      ]
     },
     "metadata": {},
     "output_type": "display_data"
    },
    {
     "data": {
      "text/html": [
       "<pre style=\"white-space:pre;overflow-x:auto;line-height:normal;font-family:Menlo,'DejaVu Sans Mono',consolas,'Courier New',monospace\">Draw object attributes: ['__add__', '__class__', '__class_getitem__', '__contains__', '__delattr__', '__dir__', \n",
       "'__doc__', '__eq__', '__format__', '__ge__', '__getattribute__', '__getitem__', '__getnewargs__', '__getstate__', \n",
       "'__gt__', '__hash__', '__init__', '__init_subclass__', '__iter__', '__le__', '__len__', '__lt__', '__match_args__',\n",
       "'__module__', '__mul__', '__ne__', '__new__', '__reduce__', '__reduce_ex__', '__replace__', '__repr__', '__rmul__',\n",
       "'__setattr__', '__sizeof__', '__slots__', '__str__', '__subclasshook__', '_asdict', '_field_defaults', '_fields', \n",
       "'_make', '_replace', 'chain', 'count', 'draw_idx', 'index', 'is_last', 'point', 'stats', 'tuning']\n",
       "</pre>\n"
      ],
      "text/plain": [
       "Draw object attributes: ['__add__', '__class__', '__class_getitem__', '__contains__', '__delattr__', '__dir__', \n",
       "'__doc__', '__eq__', '__format__', '__ge__', '__getattribute__', '__getitem__', '__getnewargs__', '__getstate__', \n",
       "'__gt__', '__hash__', '__init__', '__init_subclass__', '__iter__', '__le__', '__len__', '__lt__', '__match_args__',\n",
       "'__module__', '__mul__', '__ne__', '__new__', '__reduce__', '__reduce_ex__', '__replace__', '__repr__', '__rmul__',\n",
       "'__setattr__', '__sizeof__', '__slots__', '__str__', '__subclasshook__', '_asdict', '_field_defaults', '_fields', \n",
       "'_make', '_replace', 'chain', 'count', 'draw_idx', 'index', 'is_last', 'point', 'stats', 'tuning']\n"
      ]
     },
     "metadata": {},
     "output_type": "display_data"
    },
    {
     "data": {
      "text/html": [
       "<pre style=\"white-space:pre;overflow-x:auto;line-height:normal;font-family:Menlo,'DejaVu Sans Mono',consolas,'Courier New',monospace\">Draw object attributes: ['__add__', '__class__', '__class_getitem__', '__contains__', '__delattr__', '__dir__', \n",
       "'__doc__', '__eq__', '__format__', '__ge__', '__getattribute__', '__getitem__', '__getnewargs__', '__getstate__', \n",
       "'__gt__', '__hash__', '__init__', '__init_subclass__', '__iter__', '__le__', '__len__', '__lt__', '__match_args__',\n",
       "'__module__', '__mul__', '__ne__', '__new__', '__reduce__', '__reduce_ex__', '__replace__', '__repr__', '__rmul__',\n",
       "'__setattr__', '__sizeof__', '__slots__', '__str__', '__subclasshook__', '_asdict', '_field_defaults', '_fields', \n",
       "'_make', '_replace', 'chain', 'count', 'draw_idx', 'index', 'is_last', 'point', 'stats', 'tuning']\n",
       "</pre>\n"
      ],
      "text/plain": [
       "Draw object attributes: ['__add__', '__class__', '__class_getitem__', '__contains__', '__delattr__', '__dir__', \n",
       "'__doc__', '__eq__', '__format__', '__ge__', '__getattribute__', '__getitem__', '__getnewargs__', '__getstate__', \n",
       "'__gt__', '__hash__', '__init__', '__init_subclass__', '__iter__', '__le__', '__len__', '__lt__', '__match_args__',\n",
       "'__module__', '__mul__', '__ne__', '__new__', '__reduce__', '__reduce_ex__', '__replace__', '__repr__', '__rmul__',\n",
       "'__setattr__', '__sizeof__', '__slots__', '__str__', '__subclasshook__', '_asdict', '_field_defaults', '_fields', \n",
       "'_make', '_replace', 'chain', 'count', 'draw_idx', 'index', 'is_last', 'point', 'stats', 'tuning']\n"
      ]
     },
     "metadata": {},
     "output_type": "display_data"
    },
    {
     "data": {
      "text/html": [
       "<pre style=\"white-space:pre;overflow-x:auto;line-height:normal;font-family:Menlo,'DejaVu Sans Mono',consolas,'Courier New',monospace\">Draw object attributes: ['__add__', '__class__', '__class_getitem__', '__contains__', '__delattr__', '__dir__', \n",
       "'__doc__', '__eq__', '__format__', '__ge__', '__getattribute__', '__getitem__', '__getnewargs__', '__getstate__', \n",
       "'__gt__', '__hash__', '__init__', '__init_subclass__', '__iter__', '__le__', '__len__', '__lt__', '__match_args__',\n",
       "'__module__', '__mul__', '__ne__', '__new__', '__reduce__', '__reduce_ex__', '__replace__', '__repr__', '__rmul__',\n",
       "'__setattr__', '__sizeof__', '__slots__', '__str__', '__subclasshook__', '_asdict', '_field_defaults', '_fields', \n",
       "'_make', '_replace', 'chain', 'count', 'draw_idx', 'index', 'is_last', 'point', 'stats', 'tuning']\n",
       "</pre>\n"
      ],
      "text/plain": [
       "Draw object attributes: ['__add__', '__class__', '__class_getitem__', '__contains__', '__delattr__', '__dir__', \n",
       "'__doc__', '__eq__', '__format__', '__ge__', '__getattribute__', '__getitem__', '__getnewargs__', '__getstate__', \n",
       "'__gt__', '__hash__', '__init__', '__init_subclass__', '__iter__', '__le__', '__len__', '__lt__', '__match_args__',\n",
       "'__module__', '__mul__', '__ne__', '__new__', '__reduce__', '__reduce_ex__', '__replace__', '__repr__', '__rmul__',\n",
       "'__setattr__', '__sizeof__', '__slots__', '__str__', '__subclasshook__', '_asdict', '_field_defaults', '_fields', \n",
       "'_make', '_replace', 'chain', 'count', 'draw_idx', 'index', 'is_last', 'point', 'stats', 'tuning']\n"
      ]
     },
     "metadata": {},
     "output_type": "display_data"
    },
    {
     "data": {
      "text/html": [
       "<pre style=\"white-space:pre;overflow-x:auto;line-height:normal;font-family:Menlo,'DejaVu Sans Mono',consolas,'Courier New',monospace\">Draw object attributes: ['__add__', '__class__', '__class_getitem__', '__contains__', '__delattr__', '__dir__', \n",
       "'__doc__', '__eq__', '__format__', '__ge__', '__getattribute__', '__getitem__', '__getnewargs__', '__getstate__', \n",
       "'__gt__', '__hash__', '__init__', '__init_subclass__', '__iter__', '__le__', '__len__', '__lt__', '__match_args__',\n",
       "'__module__', '__mul__', '__ne__', '__new__', '__reduce__', '__reduce_ex__', '__replace__', '__repr__', '__rmul__',\n",
       "'__setattr__', '__sizeof__', '__slots__', '__str__', '__subclasshook__', '_asdict', '_field_defaults', '_fields', \n",
       "'_make', '_replace', 'chain', 'count', 'draw_idx', 'index', 'is_last', 'point', 'stats', 'tuning']\n",
       "</pre>\n"
      ],
      "text/plain": [
       "Draw object attributes: ['__add__', '__class__', '__class_getitem__', '__contains__', '__delattr__', '__dir__', \n",
       "'__doc__', '__eq__', '__format__', '__ge__', '__getattribute__', '__getitem__', '__getnewargs__', '__getstate__', \n",
       "'__gt__', '__hash__', '__init__', '__init_subclass__', '__iter__', '__le__', '__len__', '__lt__', '__match_args__',\n",
       "'__module__', '__mul__', '__ne__', '__new__', '__reduce__', '__reduce_ex__', '__replace__', '__repr__', '__rmul__',\n",
       "'__setattr__', '__sizeof__', '__slots__', '__str__', '__subclasshook__', '_asdict', '_field_defaults', '_fields', \n",
       "'_make', '_replace', 'chain', 'count', 'draw_idx', 'index', 'is_last', 'point', 'stats', 'tuning']\n"
      ]
     },
     "metadata": {},
     "output_type": "display_data"
    },
    {
     "data": {
      "text/html": [
       "<pre style=\"white-space:pre;overflow-x:auto;line-height:normal;font-family:Menlo,'DejaVu Sans Mono',consolas,'Courier New',monospace\">Draw object attributes: ['__add__', '__class__', '__class_getitem__', '__contains__', '__delattr__', '__dir__', \n",
       "'__doc__', '__eq__', '__format__', '__ge__', '__getattribute__', '__getitem__', '__getnewargs__', '__getstate__', \n",
       "'__gt__', '__hash__', '__init__', '__init_subclass__', '__iter__', '__le__', '__len__', '__lt__', '__match_args__',\n",
       "'__module__', '__mul__', '__ne__', '__new__', '__reduce__', '__reduce_ex__', '__replace__', '__repr__', '__rmul__',\n",
       "'__setattr__', '__sizeof__', '__slots__', '__str__', '__subclasshook__', '_asdict', '_field_defaults', '_fields', \n",
       "'_make', '_replace', 'chain', 'count', 'draw_idx', 'index', 'is_last', 'point', 'stats', 'tuning']\n",
       "</pre>\n"
      ],
      "text/plain": [
       "Draw object attributes: ['__add__', '__class__', '__class_getitem__', '__contains__', '__delattr__', '__dir__', \n",
       "'__doc__', '__eq__', '__format__', '__ge__', '__getattribute__', '__getitem__', '__getnewargs__', '__getstate__', \n",
       "'__gt__', '__hash__', '__init__', '__init_subclass__', '__iter__', '__le__', '__len__', '__lt__', '__match_args__',\n",
       "'__module__', '__mul__', '__ne__', '__new__', '__reduce__', '__reduce_ex__', '__replace__', '__repr__', '__rmul__',\n",
       "'__setattr__', '__sizeof__', '__slots__', '__str__', '__subclasshook__', '_asdict', '_field_defaults', '_fields', \n",
       "'_make', '_replace', 'chain', 'count', 'draw_idx', 'index', 'is_last', 'point', 'stats', 'tuning']\n"
      ]
     },
     "metadata": {},
     "output_type": "display_data"
    },
    {
     "data": {
      "text/html": [
       "<pre style=\"white-space:pre;overflow-x:auto;line-height:normal;font-family:Menlo,'DejaVu Sans Mono',consolas,'Courier New',monospace\">Draw object attributes: ['__add__', '__class__', '__class_getitem__', '__contains__', '__delattr__', '__dir__', \n",
       "'__doc__', '__eq__', '__format__', '__ge__', '__getattribute__', '__getitem__', '__getnewargs__', '__getstate__', \n",
       "'__gt__', '__hash__', '__init__', '__init_subclass__', '__iter__', '__le__', '__len__', '__lt__', '__match_args__',\n",
       "'__module__', '__mul__', '__ne__', '__new__', '__reduce__', '__reduce_ex__', '__replace__', '__repr__', '__rmul__',\n",
       "'__setattr__', '__sizeof__', '__slots__', '__str__', '__subclasshook__', '_asdict', '_field_defaults', '_fields', \n",
       "'_make', '_replace', 'chain', 'count', 'draw_idx', 'index', 'is_last', 'point', 'stats', 'tuning']\n",
       "</pre>\n"
      ],
      "text/plain": [
       "Draw object attributes: ['__add__', '__class__', '__class_getitem__', '__contains__', '__delattr__', '__dir__', \n",
       "'__doc__', '__eq__', '__format__', '__ge__', '__getattribute__', '__getitem__', '__getnewargs__', '__getstate__', \n",
       "'__gt__', '__hash__', '__init__', '__init_subclass__', '__iter__', '__le__', '__len__', '__lt__', '__match_args__',\n",
       "'__module__', '__mul__', '__ne__', '__new__', '__reduce__', '__reduce_ex__', '__replace__', '__repr__', '__rmul__',\n",
       "'__setattr__', '__sizeof__', '__slots__', '__str__', '__subclasshook__', '_asdict', '_field_defaults', '_fields', \n",
       "'_make', '_replace', 'chain', 'count', 'draw_idx', 'index', 'is_last', 'point', 'stats', 'tuning']\n"
      ]
     },
     "metadata": {},
     "output_type": "display_data"
    },
    {
     "data": {
      "text/html": [
       "<pre style=\"white-space:pre;overflow-x:auto;line-height:normal;font-family:Menlo,'DejaVu Sans Mono',consolas,'Courier New',monospace\">Draw object attributes: ['__add__', '__class__', '__class_getitem__', '__contains__', '__delattr__', '__dir__', \n",
       "'__doc__', '__eq__', '__format__', '__ge__', '__getattribute__', '__getitem__', '__getnewargs__', '__getstate__', \n",
       "'__gt__', '__hash__', '__init__', '__init_subclass__', '__iter__', '__le__', '__len__', '__lt__', '__match_args__',\n",
       "'__module__', '__mul__', '__ne__', '__new__', '__reduce__', '__reduce_ex__', '__replace__', '__repr__', '__rmul__',\n",
       "'__setattr__', '__sizeof__', '__slots__', '__str__', '__subclasshook__', '_asdict', '_field_defaults', '_fields', \n",
       "'_make', '_replace', 'chain', 'count', 'draw_idx', 'index', 'is_last', 'point', 'stats', 'tuning']\n",
       "</pre>\n"
      ],
      "text/plain": [
       "Draw object attributes: ['__add__', '__class__', '__class_getitem__', '__contains__', '__delattr__', '__dir__', \n",
       "'__doc__', '__eq__', '__format__', '__ge__', '__getattribute__', '__getitem__', '__getnewargs__', '__getstate__', \n",
       "'__gt__', '__hash__', '__init__', '__init_subclass__', '__iter__', '__le__', '__len__', '__lt__', '__match_args__',\n",
       "'__module__', '__mul__', '__ne__', '__new__', '__reduce__', '__reduce_ex__', '__replace__', '__repr__', '__rmul__',\n",
       "'__setattr__', '__sizeof__', '__slots__', '__str__', '__subclasshook__', '_asdict', '_field_defaults', '_fields', \n",
       "'_make', '_replace', 'chain', 'count', 'draw_idx', 'index', 'is_last', 'point', 'stats', 'tuning']\n"
      ]
     },
     "metadata": {},
     "output_type": "display_data"
    },
    {
     "data": {
      "text/html": [
       "<pre style=\"white-space:pre;overflow-x:auto;line-height:normal;font-family:Menlo,'DejaVu Sans Mono',consolas,'Courier New',monospace\">Draw object attributes: ['__add__', '__class__', '__class_getitem__', '__contains__', '__delattr__', '__dir__', \n",
       "'__doc__', '__eq__', '__format__', '__ge__', '__getattribute__', '__getitem__', '__getnewargs__', '__getstate__', \n",
       "'__gt__', '__hash__', '__init__', '__init_subclass__', '__iter__', '__le__', '__len__', '__lt__', '__match_args__',\n",
       "'__module__', '__mul__', '__ne__', '__new__', '__reduce__', '__reduce_ex__', '__replace__', '__repr__', '__rmul__',\n",
       "'__setattr__', '__sizeof__', '__slots__', '__str__', '__subclasshook__', '_asdict', '_field_defaults', '_fields', \n",
       "'_make', '_replace', 'chain', 'count', 'draw_idx', 'index', 'is_last', 'point', 'stats', 'tuning']\n",
       "</pre>\n"
      ],
      "text/plain": [
       "Draw object attributes: ['__add__', '__class__', '__class_getitem__', '__contains__', '__delattr__', '__dir__', \n",
       "'__doc__', '__eq__', '__format__', '__ge__', '__getattribute__', '__getitem__', '__getnewargs__', '__getstate__', \n",
       "'__gt__', '__hash__', '__init__', '__init_subclass__', '__iter__', '__le__', '__len__', '__lt__', '__match_args__',\n",
       "'__module__', '__mul__', '__ne__', '__new__', '__reduce__', '__reduce_ex__', '__replace__', '__repr__', '__rmul__',\n",
       "'__setattr__', '__sizeof__', '__slots__', '__str__', '__subclasshook__', '_asdict', '_field_defaults', '_fields', \n",
       "'_make', '_replace', 'chain', 'count', 'draw_idx', 'index', 'is_last', 'point', 'stats', 'tuning']\n"
      ]
     },
     "metadata": {},
     "output_type": "display_data"
    },
    {
     "data": {
      "text/html": [
       "<pre style=\"white-space:pre;overflow-x:auto;line-height:normal;font-family:Menlo,'DejaVu Sans Mono',consolas,'Courier New',monospace\">Draw object attributes: ['__add__', '__class__', '__class_getitem__', '__contains__', '__delattr__', '__dir__', \n",
       "'__doc__', '__eq__', '__format__', '__ge__', '__getattribute__', '__getitem__', '__getnewargs__', '__getstate__', \n",
       "'__gt__', '__hash__', '__init__', '__init_subclass__', '__iter__', '__le__', '__len__', '__lt__', '__match_args__',\n",
       "'__module__', '__mul__', '__ne__', '__new__', '__reduce__', '__reduce_ex__', '__replace__', '__repr__', '__rmul__',\n",
       "'__setattr__', '__sizeof__', '__slots__', '__str__', '__subclasshook__', '_asdict', '_field_defaults', '_fields', \n",
       "'_make', '_replace', 'chain', 'count', 'draw_idx', 'index', 'is_last', 'point', 'stats', 'tuning']\n",
       "</pre>\n"
      ],
      "text/plain": [
       "Draw object attributes: ['__add__', '__class__', '__class_getitem__', '__contains__', '__delattr__', '__dir__', \n",
       "'__doc__', '__eq__', '__format__', '__ge__', '__getattribute__', '__getitem__', '__getnewargs__', '__getstate__', \n",
       "'__gt__', '__hash__', '__init__', '__init_subclass__', '__iter__', '__le__', '__len__', '__lt__', '__match_args__',\n",
       "'__module__', '__mul__', '__ne__', '__new__', '__reduce__', '__reduce_ex__', '__replace__', '__repr__', '__rmul__',\n",
       "'__setattr__', '__sizeof__', '__slots__', '__str__', '__subclasshook__', '_asdict', '_field_defaults', '_fields', \n",
       "'_make', '_replace', 'chain', 'count', 'draw_idx', 'index', 'is_last', 'point', 'stats', 'tuning']\n"
      ]
     },
     "metadata": {},
     "output_type": "display_data"
    },
    {
     "data": {
      "text/html": [
       "<pre style=\"white-space:pre;overflow-x:auto;line-height:normal;font-family:Menlo,'DejaVu Sans Mono',consolas,'Courier New',monospace\">Draw object attributes: ['__add__', '__class__', '__class_getitem__', '__contains__', '__delattr__', '__dir__', \n",
       "'__doc__', '__eq__', '__format__', '__ge__', '__getattribute__', '__getitem__', '__getnewargs__', '__getstate__', \n",
       "'__gt__', '__hash__', '__init__', '__init_subclass__', '__iter__', '__le__', '__len__', '__lt__', '__match_args__',\n",
       "'__module__', '__mul__', '__ne__', '__new__', '__reduce__', '__reduce_ex__', '__replace__', '__repr__', '__rmul__',\n",
       "'__setattr__', '__sizeof__', '__slots__', '__str__', '__subclasshook__', '_asdict', '_field_defaults', '_fields', \n",
       "'_make', '_replace', 'chain', 'count', 'draw_idx', 'index', 'is_last', 'point', 'stats', 'tuning']\n",
       "</pre>\n"
      ],
      "text/plain": [
       "Draw object attributes: ['__add__', '__class__', '__class_getitem__', '__contains__', '__delattr__', '__dir__', \n",
       "'__doc__', '__eq__', '__format__', '__ge__', '__getattribute__', '__getitem__', '__getnewargs__', '__getstate__', \n",
       "'__gt__', '__hash__', '__init__', '__init_subclass__', '__iter__', '__le__', '__len__', '__lt__', '__match_args__',\n",
       "'__module__', '__mul__', '__ne__', '__new__', '__reduce__', '__reduce_ex__', '__replace__', '__repr__', '__rmul__',\n",
       "'__setattr__', '__sizeof__', '__slots__', '__str__', '__subclasshook__', '_asdict', '_field_defaults', '_fields', \n",
       "'_make', '_replace', 'chain', 'count', 'draw_idx', 'index', 'is_last', 'point', 'stats', 'tuning']\n"
      ]
     },
     "metadata": {},
     "output_type": "display_data"
    },
    {
     "data": {
      "text/html": [
       "<pre style=\"white-space:pre;overflow-x:auto;line-height:normal;font-family:Menlo,'DejaVu Sans Mono',consolas,'Courier New',monospace\">Draw object attributes: ['__add__', '__class__', '__class_getitem__', '__contains__', '__delattr__', '__dir__', \n",
       "'__doc__', '__eq__', '__format__', '__ge__', '__getattribute__', '__getitem__', '__getnewargs__', '__getstate__', \n",
       "'__gt__', '__hash__', '__init__', '__init_subclass__', '__iter__', '__le__', '__len__', '__lt__', '__match_args__',\n",
       "'__module__', '__mul__', '__ne__', '__new__', '__reduce__', '__reduce_ex__', '__replace__', '__repr__', '__rmul__',\n",
       "'__setattr__', '__sizeof__', '__slots__', '__str__', '__subclasshook__', '_asdict', '_field_defaults', '_fields', \n",
       "'_make', '_replace', 'chain', 'count', 'draw_idx', 'index', 'is_last', 'point', 'stats', 'tuning']\n",
       "</pre>\n"
      ],
      "text/plain": [
       "Draw object attributes: ['__add__', '__class__', '__class_getitem__', '__contains__', '__delattr__', '__dir__', \n",
       "'__doc__', '__eq__', '__format__', '__ge__', '__getattribute__', '__getitem__', '__getnewargs__', '__getstate__', \n",
       "'__gt__', '__hash__', '__init__', '__init_subclass__', '__iter__', '__le__', '__len__', '__lt__', '__match_args__',\n",
       "'__module__', '__mul__', '__ne__', '__new__', '__reduce__', '__reduce_ex__', '__replace__', '__repr__', '__rmul__',\n",
       "'__setattr__', '__sizeof__', '__slots__', '__str__', '__subclasshook__', '_asdict', '_field_defaults', '_fields', \n",
       "'_make', '_replace', 'chain', 'count', 'draw_idx', 'index', 'is_last', 'point', 'stats', 'tuning']\n"
      ]
     },
     "metadata": {},
     "output_type": "display_data"
    },
    {
     "data": {
      "text/html": [
       "<pre style=\"white-space:pre;overflow-x:auto;line-height:normal;font-family:Menlo,'DejaVu Sans Mono',consolas,'Courier New',monospace\">Draw object attributes: ['__add__', '__class__', '__class_getitem__', '__contains__', '__delattr__', '__dir__', \n",
       "'__doc__', '__eq__', '__format__', '__ge__', '__getattribute__', '__getitem__', '__getnewargs__', '__getstate__', \n",
       "'__gt__', '__hash__', '__init__', '__init_subclass__', '__iter__', '__le__', '__len__', '__lt__', '__match_args__',\n",
       "'__module__', '__mul__', '__ne__', '__new__', '__reduce__', '__reduce_ex__', '__replace__', '__repr__', '__rmul__',\n",
       "'__setattr__', '__sizeof__', '__slots__', '__str__', '__subclasshook__', '_asdict', '_field_defaults', '_fields', \n",
       "'_make', '_replace', 'chain', 'count', 'draw_idx', 'index', 'is_last', 'point', 'stats', 'tuning']\n",
       "</pre>\n"
      ],
      "text/plain": [
       "Draw object attributes: ['__add__', '__class__', '__class_getitem__', '__contains__', '__delattr__', '__dir__', \n",
       "'__doc__', '__eq__', '__format__', '__ge__', '__getattribute__', '__getitem__', '__getnewargs__', '__getstate__', \n",
       "'__gt__', '__hash__', '__init__', '__init_subclass__', '__iter__', '__le__', '__len__', '__lt__', '__match_args__',\n",
       "'__module__', '__mul__', '__ne__', '__new__', '__reduce__', '__reduce_ex__', '__replace__', '__repr__', '__rmul__',\n",
       "'__setattr__', '__sizeof__', '__slots__', '__str__', '__subclasshook__', '_asdict', '_field_defaults', '_fields', \n",
       "'_make', '_replace', 'chain', 'count', 'draw_idx', 'index', 'is_last', 'point', 'stats', 'tuning']\n"
      ]
     },
     "metadata": {},
     "output_type": "display_data"
    },
    {
     "data": {
      "text/html": [
       "<pre style=\"white-space:pre;overflow-x:auto;line-height:normal;font-family:Menlo,'DejaVu Sans Mono',consolas,'Courier New',monospace\">Draw object attributes: ['__add__', '__class__', '__class_getitem__', '__contains__', '__delattr__', '__dir__', \n",
       "'__doc__', '__eq__', '__format__', '__ge__', '__getattribute__', '__getitem__', '__getnewargs__', '__getstate__', \n",
       "'__gt__', '__hash__', '__init__', '__init_subclass__', '__iter__', '__le__', '__len__', '__lt__', '__match_args__',\n",
       "'__module__', '__mul__', '__ne__', '__new__', '__reduce__', '__reduce_ex__', '__replace__', '__repr__', '__rmul__',\n",
       "'__setattr__', '__sizeof__', '__slots__', '__str__', '__subclasshook__', '_asdict', '_field_defaults', '_fields', \n",
       "'_make', '_replace', 'chain', 'count', 'draw_idx', 'index', 'is_last', 'point', 'stats', 'tuning']\n",
       "</pre>\n"
      ],
      "text/plain": [
       "Draw object attributes: ['__add__', '__class__', '__class_getitem__', '__contains__', '__delattr__', '__dir__', \n",
       "'__doc__', '__eq__', '__format__', '__ge__', '__getattribute__', '__getitem__', '__getnewargs__', '__getstate__', \n",
       "'__gt__', '__hash__', '__init__', '__init_subclass__', '__iter__', '__le__', '__len__', '__lt__', '__match_args__',\n",
       "'__module__', '__mul__', '__ne__', '__new__', '__reduce__', '__reduce_ex__', '__replace__', '__repr__', '__rmul__',\n",
       "'__setattr__', '__sizeof__', '__slots__', '__str__', '__subclasshook__', '_asdict', '_field_defaults', '_fields', \n",
       "'_make', '_replace', 'chain', 'count', 'draw_idx', 'index', 'is_last', 'point', 'stats', 'tuning']\n"
      ]
     },
     "metadata": {},
     "output_type": "display_data"
    },
    {
     "data": {
      "text/html": [
       "<pre style=\"white-space:pre;overflow-x:auto;line-height:normal;font-family:Menlo,'DejaVu Sans Mono',consolas,'Courier New',monospace\">Draw object attributes: ['__add__', '__class__', '__class_getitem__', '__contains__', '__delattr__', '__dir__', \n",
       "'__doc__', '__eq__', '__format__', '__ge__', '__getattribute__', '__getitem__', '__getnewargs__', '__getstate__', \n",
       "'__gt__', '__hash__', '__init__', '__init_subclass__', '__iter__', '__le__', '__len__', '__lt__', '__match_args__',\n",
       "'__module__', '__mul__', '__ne__', '__new__', '__reduce__', '__reduce_ex__', '__replace__', '__repr__', '__rmul__',\n",
       "'__setattr__', '__sizeof__', '__slots__', '__str__', '__subclasshook__', '_asdict', '_field_defaults', '_fields', \n",
       "'_make', '_replace', 'chain', 'count', 'draw_idx', 'index', 'is_last', 'point', 'stats', 'tuning']\n",
       "</pre>\n"
      ],
      "text/plain": [
       "Draw object attributes: ['__add__', '__class__', '__class_getitem__', '__contains__', '__delattr__', '__dir__', \n",
       "'__doc__', '__eq__', '__format__', '__ge__', '__getattribute__', '__getitem__', '__getnewargs__', '__getstate__', \n",
       "'__gt__', '__hash__', '__init__', '__init_subclass__', '__iter__', '__le__', '__len__', '__lt__', '__match_args__',\n",
       "'__module__', '__mul__', '__ne__', '__new__', '__reduce__', '__reduce_ex__', '__replace__', '__repr__', '__rmul__',\n",
       "'__setattr__', '__sizeof__', '__slots__', '__str__', '__subclasshook__', '_asdict', '_field_defaults', '_fields', \n",
       "'_make', '_replace', 'chain', 'count', 'draw_idx', 'index', 'is_last', 'point', 'stats', 'tuning']\n"
      ]
     },
     "metadata": {},
     "output_type": "display_data"
    },
    {
     "data": {
      "text/html": [
       "<pre style=\"white-space:pre;overflow-x:auto;line-height:normal;font-family:Menlo,'DejaVu Sans Mono',consolas,'Courier New',monospace\">Draw object attributes: ['__add__', '__class__', '__class_getitem__', '__contains__', '__delattr__', '__dir__', \n",
       "'__doc__', '__eq__', '__format__', '__ge__', '__getattribute__', '__getitem__', '__getnewargs__', '__getstate__', \n",
       "'__gt__', '__hash__', '__init__', '__init_subclass__', '__iter__', '__le__', '__len__', '__lt__', '__match_args__',\n",
       "'__module__', '__mul__', '__ne__', '__new__', '__reduce__', '__reduce_ex__', '__replace__', '__repr__', '__rmul__',\n",
       "'__setattr__', '__sizeof__', '__slots__', '__str__', '__subclasshook__', '_asdict', '_field_defaults', '_fields', \n",
       "'_make', '_replace', 'chain', 'count', 'draw_idx', 'index', 'is_last', 'point', 'stats', 'tuning']\n",
       "</pre>\n"
      ],
      "text/plain": [
       "Draw object attributes: ['__add__', '__class__', '__class_getitem__', '__contains__', '__delattr__', '__dir__', \n",
       "'__doc__', '__eq__', '__format__', '__ge__', '__getattribute__', '__getitem__', '__getnewargs__', '__getstate__', \n",
       "'__gt__', '__hash__', '__init__', '__init_subclass__', '__iter__', '__le__', '__len__', '__lt__', '__match_args__',\n",
       "'__module__', '__mul__', '__ne__', '__new__', '__reduce__', '__reduce_ex__', '__replace__', '__repr__', '__rmul__',\n",
       "'__setattr__', '__sizeof__', '__slots__', '__str__', '__subclasshook__', '_asdict', '_field_defaults', '_fields', \n",
       "'_make', '_replace', 'chain', 'count', 'draw_idx', 'index', 'is_last', 'point', 'stats', 'tuning']\n"
      ]
     },
     "metadata": {},
     "output_type": "display_data"
    },
    {
     "data": {
      "text/html": [
       "<pre style=\"white-space:pre;overflow-x:auto;line-height:normal;font-family:Menlo,'DejaVu Sans Mono',consolas,'Courier New',monospace\">Draw object attributes: ['__add__', '__class__', '__class_getitem__', '__contains__', '__delattr__', '__dir__', \n",
       "'__doc__', '__eq__', '__format__', '__ge__', '__getattribute__', '__getitem__', '__getnewargs__', '__getstate__', \n",
       "'__gt__', '__hash__', '__init__', '__init_subclass__', '__iter__', '__le__', '__len__', '__lt__', '__match_args__',\n",
       "'__module__', '__mul__', '__ne__', '__new__', '__reduce__', '__reduce_ex__', '__replace__', '__repr__', '__rmul__',\n",
       "'__setattr__', '__sizeof__', '__slots__', '__str__', '__subclasshook__', '_asdict', '_field_defaults', '_fields', \n",
       "'_make', '_replace', 'chain', 'count', 'draw_idx', 'index', 'is_last', 'point', 'stats', 'tuning']\n",
       "</pre>\n"
      ],
      "text/plain": [
       "Draw object attributes: ['__add__', '__class__', '__class_getitem__', '__contains__', '__delattr__', '__dir__', \n",
       "'__doc__', '__eq__', '__format__', '__ge__', '__getattribute__', '__getitem__', '__getnewargs__', '__getstate__', \n",
       "'__gt__', '__hash__', '__init__', '__init_subclass__', '__iter__', '__le__', '__len__', '__lt__', '__match_args__',\n",
       "'__module__', '__mul__', '__ne__', '__new__', '__reduce__', '__reduce_ex__', '__replace__', '__repr__', '__rmul__',\n",
       "'__setattr__', '__sizeof__', '__slots__', '__str__', '__subclasshook__', '_asdict', '_field_defaults', '_fields', \n",
       "'_make', '_replace', 'chain', 'count', 'draw_idx', 'index', 'is_last', 'point', 'stats', 'tuning']\n"
      ]
     },
     "metadata": {},
     "output_type": "display_data"
    },
    {
     "data": {
      "text/html": [
       "<pre style=\"white-space:pre;overflow-x:auto;line-height:normal;font-family:Menlo,'DejaVu Sans Mono',consolas,'Courier New',monospace\">Draw object attributes: ['__add__', '__class__', '__class_getitem__', '__contains__', '__delattr__', '__dir__', \n",
       "'__doc__', '__eq__', '__format__', '__ge__', '__getattribute__', '__getitem__', '__getnewargs__', '__getstate__', \n",
       "'__gt__', '__hash__', '__init__', '__init_subclass__', '__iter__', '__le__', '__len__', '__lt__', '__match_args__',\n",
       "'__module__', '__mul__', '__ne__', '__new__', '__reduce__', '__reduce_ex__', '__replace__', '__repr__', '__rmul__',\n",
       "'__setattr__', '__sizeof__', '__slots__', '__str__', '__subclasshook__', '_asdict', '_field_defaults', '_fields', \n",
       "'_make', '_replace', 'chain', 'count', 'draw_idx', 'index', 'is_last', 'point', 'stats', 'tuning']\n",
       "</pre>\n"
      ],
      "text/plain": [
       "Draw object attributes: ['__add__', '__class__', '__class_getitem__', '__contains__', '__delattr__', '__dir__', \n",
       "'__doc__', '__eq__', '__format__', '__ge__', '__getattribute__', '__getitem__', '__getnewargs__', '__getstate__', \n",
       "'__gt__', '__hash__', '__init__', '__init_subclass__', '__iter__', '__le__', '__len__', '__lt__', '__match_args__',\n",
       "'__module__', '__mul__', '__ne__', '__new__', '__reduce__', '__reduce_ex__', '__replace__', '__repr__', '__rmul__',\n",
       "'__setattr__', '__sizeof__', '__slots__', '__str__', '__subclasshook__', '_asdict', '_field_defaults', '_fields', \n",
       "'_make', '_replace', 'chain', 'count', 'draw_idx', 'index', 'is_last', 'point', 'stats', 'tuning']\n"
      ]
     },
     "metadata": {},
     "output_type": "display_data"
    },
    {
     "data": {
      "text/html": [
       "<pre style=\"white-space:pre;overflow-x:auto;line-height:normal;font-family:Menlo,'DejaVu Sans Mono',consolas,'Courier New',monospace\">Draw object attributes: ['__add__', '__class__', '__class_getitem__', '__contains__', '__delattr__', '__dir__', \n",
       "'__doc__', '__eq__', '__format__', '__ge__', '__getattribute__', '__getitem__', '__getnewargs__', '__getstate__', \n",
       "'__gt__', '__hash__', '__init__', '__init_subclass__', '__iter__', '__le__', '__len__', '__lt__', '__match_args__',\n",
       "'__module__', '__mul__', '__ne__', '__new__', '__reduce__', '__reduce_ex__', '__replace__', '__repr__', '__rmul__',\n",
       "'__setattr__', '__sizeof__', '__slots__', '__str__', '__subclasshook__', '_asdict', '_field_defaults', '_fields', \n",
       "'_make', '_replace', 'chain', 'count', 'draw_idx', 'index', 'is_last', 'point', 'stats', 'tuning']\n",
       "</pre>\n"
      ],
      "text/plain": [
       "Draw object attributes: ['__add__', '__class__', '__class_getitem__', '__contains__', '__delattr__', '__dir__', \n",
       "'__doc__', '__eq__', '__format__', '__ge__', '__getattribute__', '__getitem__', '__getnewargs__', '__getstate__', \n",
       "'__gt__', '__hash__', '__init__', '__init_subclass__', '__iter__', '__le__', '__len__', '__lt__', '__match_args__',\n",
       "'__module__', '__mul__', '__ne__', '__new__', '__reduce__', '__reduce_ex__', '__replace__', '__repr__', '__rmul__',\n",
       "'__setattr__', '__sizeof__', '__slots__', '__str__', '__subclasshook__', '_asdict', '_field_defaults', '_fields', \n",
       "'_make', '_replace', 'chain', 'count', 'draw_idx', 'index', 'is_last', 'point', 'stats', 'tuning']\n"
      ]
     },
     "metadata": {},
     "output_type": "display_data"
    },
    {
     "data": {
      "text/html": [
       "<pre style=\"white-space:pre;overflow-x:auto;line-height:normal;font-family:Menlo,'DejaVu Sans Mono',consolas,'Courier New',monospace\">Draw object attributes: ['__add__', '__class__', '__class_getitem__', '__contains__', '__delattr__', '__dir__', \n",
       "'__doc__', '__eq__', '__format__', '__ge__', '__getattribute__', '__getitem__', '__getnewargs__', '__getstate__', \n",
       "'__gt__', '__hash__', '__init__', '__init_subclass__', '__iter__', '__le__', '__len__', '__lt__', '__match_args__',\n",
       "'__module__', '__mul__', '__ne__', '__new__', '__reduce__', '__reduce_ex__', '__replace__', '__repr__', '__rmul__',\n",
       "'__setattr__', '__sizeof__', '__slots__', '__str__', '__subclasshook__', '_asdict', '_field_defaults', '_fields', \n",
       "'_make', '_replace', 'chain', 'count', 'draw_idx', 'index', 'is_last', 'point', 'stats', 'tuning']\n",
       "</pre>\n"
      ],
      "text/plain": [
       "Draw object attributes: ['__add__', '__class__', '__class_getitem__', '__contains__', '__delattr__', '__dir__', \n",
       "'__doc__', '__eq__', '__format__', '__ge__', '__getattribute__', '__getitem__', '__getnewargs__', '__getstate__', \n",
       "'__gt__', '__hash__', '__init__', '__init_subclass__', '__iter__', '__le__', '__len__', '__lt__', '__match_args__',\n",
       "'__module__', '__mul__', '__ne__', '__new__', '__reduce__', '__reduce_ex__', '__replace__', '__repr__', '__rmul__',\n",
       "'__setattr__', '__sizeof__', '__slots__', '__str__', '__subclasshook__', '_asdict', '_field_defaults', '_fields', \n",
       "'_make', '_replace', 'chain', 'count', 'draw_idx', 'index', 'is_last', 'point', 'stats', 'tuning']\n"
      ]
     },
     "metadata": {},
     "output_type": "display_data"
    },
    {
     "data": {
      "text/html": [
       "<pre style=\"white-space:pre;overflow-x:auto;line-height:normal;font-family:Menlo,'DejaVu Sans Mono',consolas,'Courier New',monospace\">Draw object attributes: ['__add__', '__class__', '__class_getitem__', '__contains__', '__delattr__', '__dir__', \n",
       "'__doc__', '__eq__', '__format__', '__ge__', '__getattribute__', '__getitem__', '__getnewargs__', '__getstate__', \n",
       "'__gt__', '__hash__', '__init__', '__init_subclass__', '__iter__', '__le__', '__len__', '__lt__', '__match_args__',\n",
       "'__module__', '__mul__', '__ne__', '__new__', '__reduce__', '__reduce_ex__', '__replace__', '__repr__', '__rmul__',\n",
       "'__setattr__', '__sizeof__', '__slots__', '__str__', '__subclasshook__', '_asdict', '_field_defaults', '_fields', \n",
       "'_make', '_replace', 'chain', 'count', 'draw_idx', 'index', 'is_last', 'point', 'stats', 'tuning']\n",
       "</pre>\n"
      ],
      "text/plain": [
       "Draw object attributes: ['__add__', '__class__', '__class_getitem__', '__contains__', '__delattr__', '__dir__', \n",
       "'__doc__', '__eq__', '__format__', '__ge__', '__getattribute__', '__getitem__', '__getnewargs__', '__getstate__', \n",
       "'__gt__', '__hash__', '__init__', '__init_subclass__', '__iter__', '__le__', '__len__', '__lt__', '__match_args__',\n",
       "'__module__', '__mul__', '__ne__', '__new__', '__reduce__', '__reduce_ex__', '__replace__', '__repr__', '__rmul__',\n",
       "'__setattr__', '__sizeof__', '__slots__', '__str__', '__subclasshook__', '_asdict', '_field_defaults', '_fields', \n",
       "'_make', '_replace', 'chain', 'count', 'draw_idx', 'index', 'is_last', 'point', 'stats', 'tuning']\n"
      ]
     },
     "metadata": {},
     "output_type": "display_data"
    },
    {
     "data": {
      "text/html": [
       "<pre style=\"white-space:pre;overflow-x:auto;line-height:normal;font-family:Menlo,'DejaVu Sans Mono',consolas,'Courier New',monospace\">Draw object attributes: ['__add__', '__class__', '__class_getitem__', '__contains__', '__delattr__', '__dir__', \n",
       "'__doc__', '__eq__', '__format__', '__ge__', '__getattribute__', '__getitem__', '__getnewargs__', '__getstate__', \n",
       "'__gt__', '__hash__', '__init__', '__init_subclass__', '__iter__', '__le__', '__len__', '__lt__', '__match_args__',\n",
       "'__module__', '__mul__', '__ne__', '__new__', '__reduce__', '__reduce_ex__', '__replace__', '__repr__', '__rmul__',\n",
       "'__setattr__', '__sizeof__', '__slots__', '__str__', '__subclasshook__', '_asdict', '_field_defaults', '_fields', \n",
       "'_make', '_replace', 'chain', 'count', 'draw_idx', 'index', 'is_last', 'point', 'stats', 'tuning']\n",
       "</pre>\n"
      ],
      "text/plain": [
       "Draw object attributes: ['__add__', '__class__', '__class_getitem__', '__contains__', '__delattr__', '__dir__', \n",
       "'__doc__', '__eq__', '__format__', '__ge__', '__getattribute__', '__getitem__', '__getnewargs__', '__getstate__', \n",
       "'__gt__', '__hash__', '__init__', '__init_subclass__', '__iter__', '__le__', '__len__', '__lt__', '__match_args__',\n",
       "'__module__', '__mul__', '__ne__', '__new__', '__reduce__', '__reduce_ex__', '__replace__', '__repr__', '__rmul__',\n",
       "'__setattr__', '__sizeof__', '__slots__', '__str__', '__subclasshook__', '_asdict', '_field_defaults', '_fields', \n",
       "'_make', '_replace', 'chain', 'count', 'draw_idx', 'index', 'is_last', 'point', 'stats', 'tuning']\n"
      ]
     },
     "metadata": {},
     "output_type": "display_data"
    },
    {
     "data": {
      "text/html": [
       "<pre style=\"white-space:pre;overflow-x:auto;line-height:normal;font-family:Menlo,'DejaVu Sans Mono',consolas,'Courier New',monospace\">Draw object attributes: ['__add__', '__class__', '__class_getitem__', '__contains__', '__delattr__', '__dir__', \n",
       "'__doc__', '__eq__', '__format__', '__ge__', '__getattribute__', '__getitem__', '__getnewargs__', '__getstate__', \n",
       "'__gt__', '__hash__', '__init__', '__init_subclass__', '__iter__', '__le__', '__len__', '__lt__', '__match_args__',\n",
       "'__module__', '__mul__', '__ne__', '__new__', '__reduce__', '__reduce_ex__', '__replace__', '__repr__', '__rmul__',\n",
       "'__setattr__', '__sizeof__', '__slots__', '__str__', '__subclasshook__', '_asdict', '_field_defaults', '_fields', \n",
       "'_make', '_replace', 'chain', 'count', 'draw_idx', 'index', 'is_last', 'point', 'stats', 'tuning']\n",
       "</pre>\n"
      ],
      "text/plain": [
       "Draw object attributes: ['__add__', '__class__', '__class_getitem__', '__contains__', '__delattr__', '__dir__', \n",
       "'__doc__', '__eq__', '__format__', '__ge__', '__getattribute__', '__getitem__', '__getnewargs__', '__getstate__', \n",
       "'__gt__', '__hash__', '__init__', '__init_subclass__', '__iter__', '__le__', '__len__', '__lt__', '__match_args__',\n",
       "'__module__', '__mul__', '__ne__', '__new__', '__reduce__', '__reduce_ex__', '__replace__', '__repr__', '__rmul__',\n",
       "'__setattr__', '__sizeof__', '__slots__', '__str__', '__subclasshook__', '_asdict', '_field_defaults', '_fields', \n",
       "'_make', '_replace', 'chain', 'count', 'draw_idx', 'index', 'is_last', 'point', 'stats', 'tuning']\n"
      ]
     },
     "metadata": {},
     "output_type": "display_data"
    },
    {
     "data": {
      "text/html": [
       "<pre style=\"white-space:pre;overflow-x:auto;line-height:normal;font-family:Menlo,'DejaVu Sans Mono',consolas,'Courier New',monospace\">Draw object attributes: ['__add__', '__class__', '__class_getitem__', '__contains__', '__delattr__', '__dir__', \n",
       "'__doc__', '__eq__', '__format__', '__ge__', '__getattribute__', '__getitem__', '__getnewargs__', '__getstate__', \n",
       "'__gt__', '__hash__', '__init__', '__init_subclass__', '__iter__', '__le__', '__len__', '__lt__', '__match_args__',\n",
       "'__module__', '__mul__', '__ne__', '__new__', '__reduce__', '__reduce_ex__', '__replace__', '__repr__', '__rmul__',\n",
       "'__setattr__', '__sizeof__', '__slots__', '__str__', '__subclasshook__', '_asdict', '_field_defaults', '_fields', \n",
       "'_make', '_replace', 'chain', 'count', 'draw_idx', 'index', 'is_last', 'point', 'stats', 'tuning']\n",
       "</pre>\n"
      ],
      "text/plain": [
       "Draw object attributes: ['__add__', '__class__', '__class_getitem__', '__contains__', '__delattr__', '__dir__', \n",
       "'__doc__', '__eq__', '__format__', '__ge__', '__getattribute__', '__getitem__', '__getnewargs__', '__getstate__', \n",
       "'__gt__', '__hash__', '__init__', '__init_subclass__', '__iter__', '__le__', '__len__', '__lt__', '__match_args__',\n",
       "'__module__', '__mul__', '__ne__', '__new__', '__reduce__', '__reduce_ex__', '__replace__', '__repr__', '__rmul__',\n",
       "'__setattr__', '__sizeof__', '__slots__', '__str__', '__subclasshook__', '_asdict', '_field_defaults', '_fields', \n",
       "'_make', '_replace', 'chain', 'count', 'draw_idx', 'index', 'is_last', 'point', 'stats', 'tuning']\n"
      ]
     },
     "metadata": {},
     "output_type": "display_data"
    },
    {
     "data": {
      "text/html": [
       "<pre style=\"white-space:pre;overflow-x:auto;line-height:normal;font-family:Menlo,'DejaVu Sans Mono',consolas,'Courier New',monospace\">Draw object attributes: ['__add__', '__class__', '__class_getitem__', '__contains__', '__delattr__', '__dir__', \n",
       "'__doc__', '__eq__', '__format__', '__ge__', '__getattribute__', '__getitem__', '__getnewargs__', '__getstate__', \n",
       "'__gt__', '__hash__', '__init__', '__init_subclass__', '__iter__', '__le__', '__len__', '__lt__', '__match_args__',\n",
       "'__module__', '__mul__', '__ne__', '__new__', '__reduce__', '__reduce_ex__', '__replace__', '__repr__', '__rmul__',\n",
       "'__setattr__', '__sizeof__', '__slots__', '__str__', '__subclasshook__', '_asdict', '_field_defaults', '_fields', \n",
       "'_make', '_replace', 'chain', 'count', 'draw_idx', 'index', 'is_last', 'point', 'stats', 'tuning']\n",
       "</pre>\n"
      ],
      "text/plain": [
       "Draw object attributes: ['__add__', '__class__', '__class_getitem__', '__contains__', '__delattr__', '__dir__', \n",
       "'__doc__', '__eq__', '__format__', '__ge__', '__getattribute__', '__getitem__', '__getnewargs__', '__getstate__', \n",
       "'__gt__', '__hash__', '__init__', '__init_subclass__', '__iter__', '__le__', '__len__', '__lt__', '__match_args__',\n",
       "'__module__', '__mul__', '__ne__', '__new__', '__reduce__', '__reduce_ex__', '__replace__', '__repr__', '__rmul__',\n",
       "'__setattr__', '__sizeof__', '__slots__', '__str__', '__subclasshook__', '_asdict', '_field_defaults', '_fields', \n",
       "'_make', '_replace', 'chain', 'count', 'draw_idx', 'index', 'is_last', 'point', 'stats', 'tuning']\n"
      ]
     },
     "metadata": {},
     "output_type": "display_data"
    },
    {
     "data": {
      "text/html": [
       "<pre style=\"white-space:pre;overflow-x:auto;line-height:normal;font-family:Menlo,'DejaVu Sans Mono',consolas,'Courier New',monospace\">Draw object attributes: ['__add__', '__class__', '__class_getitem__', '__contains__', '__delattr__', '__dir__', \n",
       "'__doc__', '__eq__', '__format__', '__ge__', '__getattribute__', '__getitem__', '__getnewargs__', '__getstate__', \n",
       "'__gt__', '__hash__', '__init__', '__init_subclass__', '__iter__', '__le__', '__len__', '__lt__', '__match_args__',\n",
       "'__module__', '__mul__', '__ne__', '__new__', '__reduce__', '__reduce_ex__', '__replace__', '__repr__', '__rmul__',\n",
       "'__setattr__', '__sizeof__', '__slots__', '__str__', '__subclasshook__', '_asdict', '_field_defaults', '_fields', \n",
       "'_make', '_replace', 'chain', 'count', 'draw_idx', 'index', 'is_last', 'point', 'stats', 'tuning']\n",
       "</pre>\n"
      ],
      "text/plain": [
       "Draw object attributes: ['__add__', '__class__', '__class_getitem__', '__contains__', '__delattr__', '__dir__', \n",
       "'__doc__', '__eq__', '__format__', '__ge__', '__getattribute__', '__getitem__', '__getnewargs__', '__getstate__', \n",
       "'__gt__', '__hash__', '__init__', '__init_subclass__', '__iter__', '__le__', '__len__', '__lt__', '__match_args__',\n",
       "'__module__', '__mul__', '__ne__', '__new__', '__reduce__', '__reduce_ex__', '__replace__', '__repr__', '__rmul__',\n",
       "'__setattr__', '__sizeof__', '__slots__', '__str__', '__subclasshook__', '_asdict', '_field_defaults', '_fields', \n",
       "'_make', '_replace', 'chain', 'count', 'draw_idx', 'index', 'is_last', 'point', 'stats', 'tuning']\n"
      ]
     },
     "metadata": {},
     "output_type": "display_data"
    },
    {
     "data": {
      "text/html": [
       "<pre style=\"white-space:pre;overflow-x:auto;line-height:normal;font-family:Menlo,'DejaVu Sans Mono',consolas,'Courier New',monospace\">Draw object attributes: ['__add__', '__class__', '__class_getitem__', '__contains__', '__delattr__', '__dir__', \n",
       "'__doc__', '__eq__', '__format__', '__ge__', '__getattribute__', '__getitem__', '__getnewargs__', '__getstate__', \n",
       "'__gt__', '__hash__', '__init__', '__init_subclass__', '__iter__', '__le__', '__len__', '__lt__', '__match_args__',\n",
       "'__module__', '__mul__', '__ne__', '__new__', '__reduce__', '__reduce_ex__', '__replace__', '__repr__', '__rmul__',\n",
       "'__setattr__', '__sizeof__', '__slots__', '__str__', '__subclasshook__', '_asdict', '_field_defaults', '_fields', \n",
       "'_make', '_replace', 'chain', 'count', 'draw_idx', 'index', 'is_last', 'point', 'stats', 'tuning']\n",
       "</pre>\n"
      ],
      "text/plain": [
       "Draw object attributes: ['__add__', '__class__', '__class_getitem__', '__contains__', '__delattr__', '__dir__', \n",
       "'__doc__', '__eq__', '__format__', '__ge__', '__getattribute__', '__getitem__', '__getnewargs__', '__getstate__', \n",
       "'__gt__', '__hash__', '__init__', '__init_subclass__', '__iter__', '__le__', '__len__', '__lt__', '__match_args__',\n",
       "'__module__', '__mul__', '__ne__', '__new__', '__reduce__', '__reduce_ex__', '__replace__', '__repr__', '__rmul__',\n",
       "'__setattr__', '__sizeof__', '__slots__', '__str__', '__subclasshook__', '_asdict', '_field_defaults', '_fields', \n",
       "'_make', '_replace', 'chain', 'count', 'draw_idx', 'index', 'is_last', 'point', 'stats', 'tuning']\n"
      ]
     },
     "metadata": {},
     "output_type": "display_data"
    },
    {
     "data": {
      "text/html": [
       "<pre style=\"white-space:pre;overflow-x:auto;line-height:normal;font-family:Menlo,'DejaVu Sans Mono',consolas,'Courier New',monospace\">Draw object attributes: ['__add__', '__class__', '__class_getitem__', '__contains__', '__delattr__', '__dir__', \n",
       "'__doc__', '__eq__', '__format__', '__ge__', '__getattribute__', '__getitem__', '__getnewargs__', '__getstate__', \n",
       "'__gt__', '__hash__', '__init__', '__init_subclass__', '__iter__', '__le__', '__len__', '__lt__', '__match_args__',\n",
       "'__module__', '__mul__', '__ne__', '__new__', '__reduce__', '__reduce_ex__', '__replace__', '__repr__', '__rmul__',\n",
       "'__setattr__', '__sizeof__', '__slots__', '__str__', '__subclasshook__', '_asdict', '_field_defaults', '_fields', \n",
       "'_make', '_replace', 'chain', 'count', 'draw_idx', 'index', 'is_last', 'point', 'stats', 'tuning']\n",
       "</pre>\n"
      ],
      "text/plain": [
       "Draw object attributes: ['__add__', '__class__', '__class_getitem__', '__contains__', '__delattr__', '__dir__', \n",
       "'__doc__', '__eq__', '__format__', '__ge__', '__getattribute__', '__getitem__', '__getnewargs__', '__getstate__', \n",
       "'__gt__', '__hash__', '__init__', '__init_subclass__', '__iter__', '__le__', '__len__', '__lt__', '__match_args__',\n",
       "'__module__', '__mul__', '__ne__', '__new__', '__reduce__', '__reduce_ex__', '__replace__', '__repr__', '__rmul__',\n",
       "'__setattr__', '__sizeof__', '__slots__', '__str__', '__subclasshook__', '_asdict', '_field_defaults', '_fields', \n",
       "'_make', '_replace', 'chain', 'count', 'draw_idx', 'index', 'is_last', 'point', 'stats', 'tuning']\n"
      ]
     },
     "metadata": {},
     "output_type": "display_data"
    },
    {
     "data": {
      "text/html": [
       "<pre style=\"white-space:pre;overflow-x:auto;line-height:normal;font-family:Menlo,'DejaVu Sans Mono',consolas,'Courier New',monospace\">Draw object attributes: ['__add__', '__class__', '__class_getitem__', '__contains__', '__delattr__', '__dir__', \n",
       "'__doc__', '__eq__', '__format__', '__ge__', '__getattribute__', '__getitem__', '__getnewargs__', '__getstate__', \n",
       "'__gt__', '__hash__', '__init__', '__init_subclass__', '__iter__', '__le__', '__len__', '__lt__', '__match_args__',\n",
       "'__module__', '__mul__', '__ne__', '__new__', '__reduce__', '__reduce_ex__', '__replace__', '__repr__', '__rmul__',\n",
       "'__setattr__', '__sizeof__', '__slots__', '__str__', '__subclasshook__', '_asdict', '_field_defaults', '_fields', \n",
       "'_make', '_replace', 'chain', 'count', 'draw_idx', 'index', 'is_last', 'point', 'stats', 'tuning']\n",
       "</pre>\n"
      ],
      "text/plain": [
       "Draw object attributes: ['__add__', '__class__', '__class_getitem__', '__contains__', '__delattr__', '__dir__', \n",
       "'__doc__', '__eq__', '__format__', '__ge__', '__getattribute__', '__getitem__', '__getnewargs__', '__getstate__', \n",
       "'__gt__', '__hash__', '__init__', '__init_subclass__', '__iter__', '__le__', '__len__', '__lt__', '__match_args__',\n",
       "'__module__', '__mul__', '__ne__', '__new__', '__reduce__', '__reduce_ex__', '__replace__', '__repr__', '__rmul__',\n",
       "'__setattr__', '__sizeof__', '__slots__', '__str__', '__subclasshook__', '_asdict', '_field_defaults', '_fields', \n",
       "'_make', '_replace', 'chain', 'count', 'draw_idx', 'index', 'is_last', 'point', 'stats', 'tuning']\n"
      ]
     },
     "metadata": {},
     "output_type": "display_data"
    },
    {
     "data": {
      "text/html": [
       "<pre style=\"white-space:pre;overflow-x:auto;line-height:normal;font-family:Menlo,'DejaVu Sans Mono',consolas,'Courier New',monospace\">Draw object attributes: ['__add__', '__class__', '__class_getitem__', '__contains__', '__delattr__', '__dir__', \n",
       "'__doc__', '__eq__', '__format__', '__ge__', '__getattribute__', '__getitem__', '__getnewargs__', '__getstate__', \n",
       "'__gt__', '__hash__', '__init__', '__init_subclass__', '__iter__', '__le__', '__len__', '__lt__', '__match_args__',\n",
       "'__module__', '__mul__', '__ne__', '__new__', '__reduce__', '__reduce_ex__', '__replace__', '__repr__', '__rmul__',\n",
       "'__setattr__', '__sizeof__', '__slots__', '__str__', '__subclasshook__', '_asdict', '_field_defaults', '_fields', \n",
       "'_make', '_replace', 'chain', 'count', 'draw_idx', 'index', 'is_last', 'point', 'stats', 'tuning']\n",
       "</pre>\n"
      ],
      "text/plain": [
       "Draw object attributes: ['__add__', '__class__', '__class_getitem__', '__contains__', '__delattr__', '__dir__', \n",
       "'__doc__', '__eq__', '__format__', '__ge__', '__getattribute__', '__getitem__', '__getnewargs__', '__getstate__', \n",
       "'__gt__', '__hash__', '__init__', '__init_subclass__', '__iter__', '__le__', '__len__', '__lt__', '__match_args__',\n",
       "'__module__', '__mul__', '__ne__', '__new__', '__reduce__', '__reduce_ex__', '__replace__', '__repr__', '__rmul__',\n",
       "'__setattr__', '__sizeof__', '__slots__', '__str__', '__subclasshook__', '_asdict', '_field_defaults', '_fields', \n",
       "'_make', '_replace', 'chain', 'count', 'draw_idx', 'index', 'is_last', 'point', 'stats', 'tuning']\n"
      ]
     },
     "metadata": {},
     "output_type": "display_data"
    },
    {
     "data": {
      "text/html": [
       "<pre style=\"white-space:pre;overflow-x:auto;line-height:normal;font-family:Menlo,'DejaVu Sans Mono',consolas,'Courier New',monospace\">Draw object attributes: ['__add__', '__class__', '__class_getitem__', '__contains__', '__delattr__', '__dir__', \n",
       "'__doc__', '__eq__', '__format__', '__ge__', '__getattribute__', '__getitem__', '__getnewargs__', '__getstate__', \n",
       "'__gt__', '__hash__', '__init__', '__init_subclass__', '__iter__', '__le__', '__len__', '__lt__', '__match_args__',\n",
       "'__module__', '__mul__', '__ne__', '__new__', '__reduce__', '__reduce_ex__', '__replace__', '__repr__', '__rmul__',\n",
       "'__setattr__', '__sizeof__', '__slots__', '__str__', '__subclasshook__', '_asdict', '_field_defaults', '_fields', \n",
       "'_make', '_replace', 'chain', 'count', 'draw_idx', 'index', 'is_last', 'point', 'stats', 'tuning']\n",
       "</pre>\n"
      ],
      "text/plain": [
       "Draw object attributes: ['__add__', '__class__', '__class_getitem__', '__contains__', '__delattr__', '__dir__', \n",
       "'__doc__', '__eq__', '__format__', '__ge__', '__getattribute__', '__getitem__', '__getnewargs__', '__getstate__', \n",
       "'__gt__', '__hash__', '__init__', '__init_subclass__', '__iter__', '__le__', '__len__', '__lt__', '__match_args__',\n",
       "'__module__', '__mul__', '__ne__', '__new__', '__reduce__', '__reduce_ex__', '__replace__', '__repr__', '__rmul__',\n",
       "'__setattr__', '__sizeof__', '__slots__', '__str__', '__subclasshook__', '_asdict', '_field_defaults', '_fields', \n",
       "'_make', '_replace', 'chain', 'count', 'draw_idx', 'index', 'is_last', 'point', 'stats', 'tuning']\n"
      ]
     },
     "metadata": {},
     "output_type": "display_data"
    },
    {
     "data": {
      "text/html": [
       "<pre style=\"white-space:pre;overflow-x:auto;line-height:normal;font-family:Menlo,'DejaVu Sans Mono',consolas,'Courier New',monospace\">Draw object attributes: ['__add__', '__class__', '__class_getitem__', '__contains__', '__delattr__', '__dir__', \n",
       "'__doc__', '__eq__', '__format__', '__ge__', '__getattribute__', '__getitem__', '__getnewargs__', '__getstate__', \n",
       "'__gt__', '__hash__', '__init__', '__init_subclass__', '__iter__', '__le__', '__len__', '__lt__', '__match_args__',\n",
       "'__module__', '__mul__', '__ne__', '__new__', '__reduce__', '__reduce_ex__', '__replace__', '__repr__', '__rmul__',\n",
       "'__setattr__', '__sizeof__', '__slots__', '__str__', '__subclasshook__', '_asdict', '_field_defaults', '_fields', \n",
       "'_make', '_replace', 'chain', 'count', 'draw_idx', 'index', 'is_last', 'point', 'stats', 'tuning']\n",
       "</pre>\n"
      ],
      "text/plain": [
       "Draw object attributes: ['__add__', '__class__', '__class_getitem__', '__contains__', '__delattr__', '__dir__', \n",
       "'__doc__', '__eq__', '__format__', '__ge__', '__getattribute__', '__getitem__', '__getnewargs__', '__getstate__', \n",
       "'__gt__', '__hash__', '__init__', '__init_subclass__', '__iter__', '__le__', '__len__', '__lt__', '__match_args__',\n",
       "'__module__', '__mul__', '__ne__', '__new__', '__reduce__', '__reduce_ex__', '__replace__', '__repr__', '__rmul__',\n",
       "'__setattr__', '__sizeof__', '__slots__', '__str__', '__subclasshook__', '_asdict', '_field_defaults', '_fields', \n",
       "'_make', '_replace', 'chain', 'count', 'draw_idx', 'index', 'is_last', 'point', 'stats', 'tuning']\n"
      ]
     },
     "metadata": {},
     "output_type": "display_data"
    },
    {
     "data": {
      "text/html": [
       "<pre style=\"white-space:pre;overflow-x:auto;line-height:normal;font-family:Menlo,'DejaVu Sans Mono',consolas,'Courier New',monospace\">Draw object attributes: ['__add__', '__class__', '__class_getitem__', '__contains__', '__delattr__', '__dir__', \n",
       "'__doc__', '__eq__', '__format__', '__ge__', '__getattribute__', '__getitem__', '__getnewargs__', '__getstate__', \n",
       "'__gt__', '__hash__', '__init__', '__init_subclass__', '__iter__', '__le__', '__len__', '__lt__', '__match_args__',\n",
       "'__module__', '__mul__', '__ne__', '__new__', '__reduce__', '__reduce_ex__', '__replace__', '__repr__', '__rmul__',\n",
       "'__setattr__', '__sizeof__', '__slots__', '__str__', '__subclasshook__', '_asdict', '_field_defaults', '_fields', \n",
       "'_make', '_replace', 'chain', 'count', 'draw_idx', 'index', 'is_last', 'point', 'stats', 'tuning']\n",
       "</pre>\n"
      ],
      "text/plain": [
       "Draw object attributes: ['__add__', '__class__', '__class_getitem__', '__contains__', '__delattr__', '__dir__', \n",
       "'__doc__', '__eq__', '__format__', '__ge__', '__getattribute__', '__getitem__', '__getnewargs__', '__getstate__', \n",
       "'__gt__', '__hash__', '__init__', '__init_subclass__', '__iter__', '__le__', '__len__', '__lt__', '__match_args__',\n",
       "'__module__', '__mul__', '__ne__', '__new__', '__reduce__', '__reduce_ex__', '__replace__', '__repr__', '__rmul__',\n",
       "'__setattr__', '__sizeof__', '__slots__', '__str__', '__subclasshook__', '_asdict', '_field_defaults', '_fields', \n",
       "'_make', '_replace', 'chain', 'count', 'draw_idx', 'index', 'is_last', 'point', 'stats', 'tuning']\n"
      ]
     },
     "metadata": {},
     "output_type": "display_data"
    },
    {
     "data": {
      "text/html": [
       "<pre style=\"white-space:pre;overflow-x:auto;line-height:normal;font-family:Menlo,'DejaVu Sans Mono',consolas,'Courier New',monospace\">Draw object attributes: ['__add__', '__class__', '__class_getitem__', '__contains__', '__delattr__', '__dir__', \n",
       "'__doc__', '__eq__', '__format__', '__ge__', '__getattribute__', '__getitem__', '__getnewargs__', '__getstate__', \n",
       "'__gt__', '__hash__', '__init__', '__init_subclass__', '__iter__', '__le__', '__len__', '__lt__', '__match_args__',\n",
       "'__module__', '__mul__', '__ne__', '__new__', '__reduce__', '__reduce_ex__', '__replace__', '__repr__', '__rmul__',\n",
       "'__setattr__', '__sizeof__', '__slots__', '__str__', '__subclasshook__', '_asdict', '_field_defaults', '_fields', \n",
       "'_make', '_replace', 'chain', 'count', 'draw_idx', 'index', 'is_last', 'point', 'stats', 'tuning']\n",
       "</pre>\n"
      ],
      "text/plain": [
       "Draw object attributes: ['__add__', '__class__', '__class_getitem__', '__contains__', '__delattr__', '__dir__', \n",
       "'__doc__', '__eq__', '__format__', '__ge__', '__getattribute__', '__getitem__', '__getnewargs__', '__getstate__', \n",
       "'__gt__', '__hash__', '__init__', '__init_subclass__', '__iter__', '__le__', '__len__', '__lt__', '__match_args__',\n",
       "'__module__', '__mul__', '__ne__', '__new__', '__reduce__', '__reduce_ex__', '__replace__', '__repr__', '__rmul__',\n",
       "'__setattr__', '__sizeof__', '__slots__', '__str__', '__subclasshook__', '_asdict', '_field_defaults', '_fields', \n",
       "'_make', '_replace', 'chain', 'count', 'draw_idx', 'index', 'is_last', 'point', 'stats', 'tuning']\n"
      ]
     },
     "metadata": {},
     "output_type": "display_data"
    },
    {
     "data": {
      "text/html": [
       "<pre style=\"white-space:pre;overflow-x:auto;line-height:normal;font-family:Menlo,'DejaVu Sans Mono',consolas,'Courier New',monospace\">Draw object attributes: ['__add__', '__class__', '__class_getitem__', '__contains__', '__delattr__', '__dir__', \n",
       "'__doc__', '__eq__', '__format__', '__ge__', '__getattribute__', '__getitem__', '__getnewargs__', '__getstate__', \n",
       "'__gt__', '__hash__', '__init__', '__init_subclass__', '__iter__', '__le__', '__len__', '__lt__', '__match_args__',\n",
       "'__module__', '__mul__', '__ne__', '__new__', '__reduce__', '__reduce_ex__', '__replace__', '__repr__', '__rmul__',\n",
       "'__setattr__', '__sizeof__', '__slots__', '__str__', '__subclasshook__', '_asdict', '_field_defaults', '_fields', \n",
       "'_make', '_replace', 'chain', 'count', 'draw_idx', 'index', 'is_last', 'point', 'stats', 'tuning']\n",
       "</pre>\n"
      ],
      "text/plain": [
       "Draw object attributes: ['__add__', '__class__', '__class_getitem__', '__contains__', '__delattr__', '__dir__', \n",
       "'__doc__', '__eq__', '__format__', '__ge__', '__getattribute__', '__getitem__', '__getnewargs__', '__getstate__', \n",
       "'__gt__', '__hash__', '__init__', '__init_subclass__', '__iter__', '__le__', '__len__', '__lt__', '__match_args__',\n",
       "'__module__', '__mul__', '__ne__', '__new__', '__reduce__', '__reduce_ex__', '__replace__', '__repr__', '__rmul__',\n",
       "'__setattr__', '__sizeof__', '__slots__', '__str__', '__subclasshook__', '_asdict', '_field_defaults', '_fields', \n",
       "'_make', '_replace', 'chain', 'count', 'draw_idx', 'index', 'is_last', 'point', 'stats', 'tuning']\n"
      ]
     },
     "metadata": {},
     "output_type": "display_data"
    },
    {
     "data": {
      "text/html": [
       "<pre style=\"white-space:pre;overflow-x:auto;line-height:normal;font-family:Menlo,'DejaVu Sans Mono',consolas,'Courier New',monospace\">Draw object attributes: ['__add__', '__class__', '__class_getitem__', '__contains__', '__delattr__', '__dir__', \n",
       "'__doc__', '__eq__', '__format__', '__ge__', '__getattribute__', '__getitem__', '__getnewargs__', '__getstate__', \n",
       "'__gt__', '__hash__', '__init__', '__init_subclass__', '__iter__', '__le__', '__len__', '__lt__', '__match_args__',\n",
       "'__module__', '__mul__', '__ne__', '__new__', '__reduce__', '__reduce_ex__', '__replace__', '__repr__', '__rmul__',\n",
       "'__setattr__', '__sizeof__', '__slots__', '__str__', '__subclasshook__', '_asdict', '_field_defaults', '_fields', \n",
       "'_make', '_replace', 'chain', 'count', 'draw_idx', 'index', 'is_last', 'point', 'stats', 'tuning']\n",
       "</pre>\n"
      ],
      "text/plain": [
       "Draw object attributes: ['__add__', '__class__', '__class_getitem__', '__contains__', '__delattr__', '__dir__', \n",
       "'__doc__', '__eq__', '__format__', '__ge__', '__getattribute__', '__getitem__', '__getnewargs__', '__getstate__', \n",
       "'__gt__', '__hash__', '__init__', '__init_subclass__', '__iter__', '__le__', '__len__', '__lt__', '__match_args__',\n",
       "'__module__', '__mul__', '__ne__', '__new__', '__reduce__', '__reduce_ex__', '__replace__', '__repr__', '__rmul__',\n",
       "'__setattr__', '__sizeof__', '__slots__', '__str__', '__subclasshook__', '_asdict', '_field_defaults', '_fields', \n",
       "'_make', '_replace', 'chain', 'count', 'draw_idx', 'index', 'is_last', 'point', 'stats', 'tuning']\n"
      ]
     },
     "metadata": {},
     "output_type": "display_data"
    },
    {
     "data": {
      "text/html": [
       "<pre style=\"white-space:pre;overflow-x:auto;line-height:normal;font-family:Menlo,'DejaVu Sans Mono',consolas,'Courier New',monospace\">Draw object attributes: ['__add__', '__class__', '__class_getitem__', '__contains__', '__delattr__', '__dir__', \n",
       "'__doc__', '__eq__', '__format__', '__ge__', '__getattribute__', '__getitem__', '__getnewargs__', '__getstate__', \n",
       "'__gt__', '__hash__', '__init__', '__init_subclass__', '__iter__', '__le__', '__len__', '__lt__', '__match_args__',\n",
       "'__module__', '__mul__', '__ne__', '__new__', '__reduce__', '__reduce_ex__', '__replace__', '__repr__', '__rmul__',\n",
       "'__setattr__', '__sizeof__', '__slots__', '__str__', '__subclasshook__', '_asdict', '_field_defaults', '_fields', \n",
       "'_make', '_replace', 'chain', 'count', 'draw_idx', 'index', 'is_last', 'point', 'stats', 'tuning']\n",
       "</pre>\n"
      ],
      "text/plain": [
       "Draw object attributes: ['__add__', '__class__', '__class_getitem__', '__contains__', '__delattr__', '__dir__', \n",
       "'__doc__', '__eq__', '__format__', '__ge__', '__getattribute__', '__getitem__', '__getnewargs__', '__getstate__', \n",
       "'__gt__', '__hash__', '__init__', '__init_subclass__', '__iter__', '__le__', '__len__', '__lt__', '__match_args__',\n",
       "'__module__', '__mul__', '__ne__', '__new__', '__reduce__', '__reduce_ex__', '__replace__', '__repr__', '__rmul__',\n",
       "'__setattr__', '__sizeof__', '__slots__', '__str__', '__subclasshook__', '_asdict', '_field_defaults', '_fields', \n",
       "'_make', '_replace', 'chain', 'count', 'draw_idx', 'index', 'is_last', 'point', 'stats', 'tuning']\n"
      ]
     },
     "metadata": {},
     "output_type": "display_data"
    },
    {
     "data": {
      "text/html": [
       "<pre style=\"white-space:pre;overflow-x:auto;line-height:normal;font-family:Menlo,'DejaVu Sans Mono',consolas,'Courier New',monospace\">Draw object attributes: ['__add__', '__class__', '__class_getitem__', '__contains__', '__delattr__', '__dir__', \n",
       "'__doc__', '__eq__', '__format__', '__ge__', '__getattribute__', '__getitem__', '__getnewargs__', '__getstate__', \n",
       "'__gt__', '__hash__', '__init__', '__init_subclass__', '__iter__', '__le__', '__len__', '__lt__', '__match_args__',\n",
       "'__module__', '__mul__', '__ne__', '__new__', '__reduce__', '__reduce_ex__', '__replace__', '__repr__', '__rmul__',\n",
       "'__setattr__', '__sizeof__', '__slots__', '__str__', '__subclasshook__', '_asdict', '_field_defaults', '_fields', \n",
       "'_make', '_replace', 'chain', 'count', 'draw_idx', 'index', 'is_last', 'point', 'stats', 'tuning']\n",
       "</pre>\n"
      ],
      "text/plain": [
       "Draw object attributes: ['__add__', '__class__', '__class_getitem__', '__contains__', '__delattr__', '__dir__', \n",
       "'__doc__', '__eq__', '__format__', '__ge__', '__getattribute__', '__getitem__', '__getnewargs__', '__getstate__', \n",
       "'__gt__', '__hash__', '__init__', '__init_subclass__', '__iter__', '__le__', '__len__', '__lt__', '__match_args__',\n",
       "'__module__', '__mul__', '__ne__', '__new__', '__reduce__', '__reduce_ex__', '__replace__', '__repr__', '__rmul__',\n",
       "'__setattr__', '__sizeof__', '__slots__', '__str__', '__subclasshook__', '_asdict', '_field_defaults', '_fields', \n",
       "'_make', '_replace', 'chain', 'count', 'draw_idx', 'index', 'is_last', 'point', 'stats', 'tuning']\n"
      ]
     },
     "metadata": {},
     "output_type": "display_data"
    },
    {
     "data": {
      "text/html": [
       "<pre style=\"white-space:pre;overflow-x:auto;line-height:normal;font-family:Menlo,'DejaVu Sans Mono',consolas,'Courier New',monospace\">Draw object attributes: ['__add__', '__class__', '__class_getitem__', '__contains__', '__delattr__', '__dir__', \n",
       "'__doc__', '__eq__', '__format__', '__ge__', '__getattribute__', '__getitem__', '__getnewargs__', '__getstate__', \n",
       "'__gt__', '__hash__', '__init__', '__init_subclass__', '__iter__', '__le__', '__len__', '__lt__', '__match_args__',\n",
       "'__module__', '__mul__', '__ne__', '__new__', '__reduce__', '__reduce_ex__', '__replace__', '__repr__', '__rmul__',\n",
       "'__setattr__', '__sizeof__', '__slots__', '__str__', '__subclasshook__', '_asdict', '_field_defaults', '_fields', \n",
       "'_make', '_replace', 'chain', 'count', 'draw_idx', 'index', 'is_last', 'point', 'stats', 'tuning']\n",
       "</pre>\n"
      ],
      "text/plain": [
       "Draw object attributes: ['__add__', '__class__', '__class_getitem__', '__contains__', '__delattr__', '__dir__', \n",
       "'__doc__', '__eq__', '__format__', '__ge__', '__getattribute__', '__getitem__', '__getnewargs__', '__getstate__', \n",
       "'__gt__', '__hash__', '__init__', '__init_subclass__', '__iter__', '__le__', '__len__', '__lt__', '__match_args__',\n",
       "'__module__', '__mul__', '__ne__', '__new__', '__reduce__', '__reduce_ex__', '__replace__', '__repr__', '__rmul__',\n",
       "'__setattr__', '__sizeof__', '__slots__', '__str__', '__subclasshook__', '_asdict', '_field_defaults', '_fields', \n",
       "'_make', '_replace', 'chain', 'count', 'draw_idx', 'index', 'is_last', 'point', 'stats', 'tuning']\n"
      ]
     },
     "metadata": {},
     "output_type": "display_data"
    },
    {
     "data": {
      "text/html": [
       "<pre style=\"white-space:pre;overflow-x:auto;line-height:normal;font-family:Menlo,'DejaVu Sans Mono',consolas,'Courier New',monospace\">Draw object attributes: ['__add__', '__class__', '__class_getitem__', '__contains__', '__delattr__', '__dir__', \n",
       "'__doc__', '__eq__', '__format__', '__ge__', '__getattribute__', '__getitem__', '__getnewargs__', '__getstate__', \n",
       "'__gt__', '__hash__', '__init__', '__init_subclass__', '__iter__', '__le__', '__len__', '__lt__', '__match_args__',\n",
       "'__module__', '__mul__', '__ne__', '__new__', '__reduce__', '__reduce_ex__', '__replace__', '__repr__', '__rmul__',\n",
       "'__setattr__', '__sizeof__', '__slots__', '__str__', '__subclasshook__', '_asdict', '_field_defaults', '_fields', \n",
       "'_make', '_replace', 'chain', 'count', 'draw_idx', 'index', 'is_last', 'point', 'stats', 'tuning']\n",
       "</pre>\n"
      ],
      "text/plain": [
       "Draw object attributes: ['__add__', '__class__', '__class_getitem__', '__contains__', '__delattr__', '__dir__', \n",
       "'__doc__', '__eq__', '__format__', '__ge__', '__getattribute__', '__getitem__', '__getnewargs__', '__getstate__', \n",
       "'__gt__', '__hash__', '__init__', '__init_subclass__', '__iter__', '__le__', '__len__', '__lt__', '__match_args__',\n",
       "'__module__', '__mul__', '__ne__', '__new__', '__reduce__', '__reduce_ex__', '__replace__', '__repr__', '__rmul__',\n",
       "'__setattr__', '__sizeof__', '__slots__', '__str__', '__subclasshook__', '_asdict', '_field_defaults', '_fields', \n",
       "'_make', '_replace', 'chain', 'count', 'draw_idx', 'index', 'is_last', 'point', 'stats', 'tuning']\n"
      ]
     },
     "metadata": {},
     "output_type": "display_data"
    },
    {
     "data": {
      "text/html": [
       "<pre style=\"white-space:pre;overflow-x:auto;line-height:normal;font-family:Menlo,'DejaVu Sans Mono',consolas,'Courier New',monospace\">Draw object attributes: ['__add__', '__class__', '__class_getitem__', '__contains__', '__delattr__', '__dir__', \n",
       "'__doc__', '__eq__', '__format__', '__ge__', '__getattribute__', '__getitem__', '__getnewargs__', '__getstate__', \n",
       "'__gt__', '__hash__', '__init__', '__init_subclass__', '__iter__', '__le__', '__len__', '__lt__', '__match_args__',\n",
       "'__module__', '__mul__', '__ne__', '__new__', '__reduce__', '__reduce_ex__', '__replace__', '__repr__', '__rmul__',\n",
       "'__setattr__', '__sizeof__', '__slots__', '__str__', '__subclasshook__', '_asdict', '_field_defaults', '_fields', \n",
       "'_make', '_replace', 'chain', 'count', 'draw_idx', 'index', 'is_last', 'point', 'stats', 'tuning']\n",
       "</pre>\n"
      ],
      "text/plain": [
       "Draw object attributes: ['__add__', '__class__', '__class_getitem__', '__contains__', '__delattr__', '__dir__', \n",
       "'__doc__', '__eq__', '__format__', '__ge__', '__getattribute__', '__getitem__', '__getnewargs__', '__getstate__', \n",
       "'__gt__', '__hash__', '__init__', '__init_subclass__', '__iter__', '__le__', '__len__', '__lt__', '__match_args__',\n",
       "'__module__', '__mul__', '__ne__', '__new__', '__reduce__', '__reduce_ex__', '__replace__', '__repr__', '__rmul__',\n",
       "'__setattr__', '__sizeof__', '__slots__', '__str__', '__subclasshook__', '_asdict', '_field_defaults', '_fields', \n",
       "'_make', '_replace', 'chain', 'count', 'draw_idx', 'index', 'is_last', 'point', 'stats', 'tuning']\n"
      ]
     },
     "metadata": {},
     "output_type": "display_data"
    },
    {
     "data": {
      "text/html": [
       "<pre style=\"white-space:pre;overflow-x:auto;line-height:normal;font-family:Menlo,'DejaVu Sans Mono',consolas,'Courier New',monospace\">Draw object attributes: ['__add__', '__class__', '__class_getitem__', '__contains__', '__delattr__', '__dir__', \n",
       "'__doc__', '__eq__', '__format__', '__ge__', '__getattribute__', '__getitem__', '__getnewargs__', '__getstate__', \n",
       "'__gt__', '__hash__', '__init__', '__init_subclass__', '__iter__', '__le__', '__len__', '__lt__', '__match_args__',\n",
       "'__module__', '__mul__', '__ne__', '__new__', '__reduce__', '__reduce_ex__', '__replace__', '__repr__', '__rmul__',\n",
       "'__setattr__', '__sizeof__', '__slots__', '__str__', '__subclasshook__', '_asdict', '_field_defaults', '_fields', \n",
       "'_make', '_replace', 'chain', 'count', 'draw_idx', 'index', 'is_last', 'point', 'stats', 'tuning']\n",
       "</pre>\n"
      ],
      "text/plain": [
       "Draw object attributes: ['__add__', '__class__', '__class_getitem__', '__contains__', '__delattr__', '__dir__', \n",
       "'__doc__', '__eq__', '__format__', '__ge__', '__getattribute__', '__getitem__', '__getnewargs__', '__getstate__', \n",
       "'__gt__', '__hash__', '__init__', '__init_subclass__', '__iter__', '__le__', '__len__', '__lt__', '__match_args__',\n",
       "'__module__', '__mul__', '__ne__', '__new__', '__reduce__', '__reduce_ex__', '__replace__', '__repr__', '__rmul__',\n",
       "'__setattr__', '__sizeof__', '__slots__', '__str__', '__subclasshook__', '_asdict', '_field_defaults', '_fields', \n",
       "'_make', '_replace', 'chain', 'count', 'draw_idx', 'index', 'is_last', 'point', 'stats', 'tuning']\n"
      ]
     },
     "metadata": {},
     "output_type": "display_data"
    },
    {
     "data": {
      "text/html": [
       "<pre style=\"white-space:pre;overflow-x:auto;line-height:normal;font-family:Menlo,'DejaVu Sans Mono',consolas,'Courier New',monospace\">Draw object attributes: ['__add__', '__class__', '__class_getitem__', '__contains__', '__delattr__', '__dir__', \n",
       "'__doc__', '__eq__', '__format__', '__ge__', '__getattribute__', '__getitem__', '__getnewargs__', '__getstate__', \n",
       "'__gt__', '__hash__', '__init__', '__init_subclass__', '__iter__', '__le__', '__len__', '__lt__', '__match_args__',\n",
       "'__module__', '__mul__', '__ne__', '__new__', '__reduce__', '__reduce_ex__', '__replace__', '__repr__', '__rmul__',\n",
       "'__setattr__', '__sizeof__', '__slots__', '__str__', '__subclasshook__', '_asdict', '_field_defaults', '_fields', \n",
       "'_make', '_replace', 'chain', 'count', 'draw_idx', 'index', 'is_last', 'point', 'stats', 'tuning']\n",
       "</pre>\n"
      ],
      "text/plain": [
       "Draw object attributes: ['__add__', '__class__', '__class_getitem__', '__contains__', '__delattr__', '__dir__', \n",
       "'__doc__', '__eq__', '__format__', '__ge__', '__getattribute__', '__getitem__', '__getnewargs__', '__getstate__', \n",
       "'__gt__', '__hash__', '__init__', '__init_subclass__', '__iter__', '__le__', '__len__', '__lt__', '__match_args__',\n",
       "'__module__', '__mul__', '__ne__', '__new__', '__reduce__', '__reduce_ex__', '__replace__', '__repr__', '__rmul__',\n",
       "'__setattr__', '__sizeof__', '__slots__', '__str__', '__subclasshook__', '_asdict', '_field_defaults', '_fields', \n",
       "'_make', '_replace', 'chain', 'count', 'draw_idx', 'index', 'is_last', 'point', 'stats', 'tuning']\n"
      ]
     },
     "metadata": {},
     "output_type": "display_data"
    },
    {
     "data": {
      "text/html": [
       "<pre style=\"white-space:pre;overflow-x:auto;line-height:normal;font-family:Menlo,'DejaVu Sans Mono',consolas,'Courier New',monospace\">Draw object attributes: ['__add__', '__class__', '__class_getitem__', '__contains__', '__delattr__', '__dir__', \n",
       "'__doc__', '__eq__', '__format__', '__ge__', '__getattribute__', '__getitem__', '__getnewargs__', '__getstate__', \n",
       "'__gt__', '__hash__', '__init__', '__init_subclass__', '__iter__', '__le__', '__len__', '__lt__', '__match_args__',\n",
       "'__module__', '__mul__', '__ne__', '__new__', '__reduce__', '__reduce_ex__', '__replace__', '__repr__', '__rmul__',\n",
       "'__setattr__', '__sizeof__', '__slots__', '__str__', '__subclasshook__', '_asdict', '_field_defaults', '_fields', \n",
       "'_make', '_replace', 'chain', 'count', 'draw_idx', 'index', 'is_last', 'point', 'stats', 'tuning']\n",
       "</pre>\n"
      ],
      "text/plain": [
       "Draw object attributes: ['__add__', '__class__', '__class_getitem__', '__contains__', '__delattr__', '__dir__', \n",
       "'__doc__', '__eq__', '__format__', '__ge__', '__getattribute__', '__getitem__', '__getnewargs__', '__getstate__', \n",
       "'__gt__', '__hash__', '__init__', '__init_subclass__', '__iter__', '__le__', '__len__', '__lt__', '__match_args__',\n",
       "'__module__', '__mul__', '__ne__', '__new__', '__reduce__', '__reduce_ex__', '__replace__', '__repr__', '__rmul__',\n",
       "'__setattr__', '__sizeof__', '__slots__', '__str__', '__subclasshook__', '_asdict', '_field_defaults', '_fields', \n",
       "'_make', '_replace', 'chain', 'count', 'draw_idx', 'index', 'is_last', 'point', 'stats', 'tuning']\n"
      ]
     },
     "metadata": {},
     "output_type": "display_data"
    },
    {
     "data": {
      "text/html": [
       "<pre style=\"white-space:pre;overflow-x:auto;line-height:normal;font-family:Menlo,'DejaVu Sans Mono',consolas,'Courier New',monospace\">Draw object attributes: ['__add__', '__class__', '__class_getitem__', '__contains__', '__delattr__', '__dir__', \n",
       "'__doc__', '__eq__', '__format__', '__ge__', '__getattribute__', '__getitem__', '__getnewargs__', '__getstate__', \n",
       "'__gt__', '__hash__', '__init__', '__init_subclass__', '__iter__', '__le__', '__len__', '__lt__', '__match_args__',\n",
       "'__module__', '__mul__', '__ne__', '__new__', '__reduce__', '__reduce_ex__', '__replace__', '__repr__', '__rmul__',\n",
       "'__setattr__', '__sizeof__', '__slots__', '__str__', '__subclasshook__', '_asdict', '_field_defaults', '_fields', \n",
       "'_make', '_replace', 'chain', 'count', 'draw_idx', 'index', 'is_last', 'point', 'stats', 'tuning']\n",
       "</pre>\n"
      ],
      "text/plain": [
       "Draw object attributes: ['__add__', '__class__', '__class_getitem__', '__contains__', '__delattr__', '__dir__', \n",
       "'__doc__', '__eq__', '__format__', '__ge__', '__getattribute__', '__getitem__', '__getnewargs__', '__getstate__', \n",
       "'__gt__', '__hash__', '__init__', '__init_subclass__', '__iter__', '__le__', '__len__', '__lt__', '__match_args__',\n",
       "'__module__', '__mul__', '__ne__', '__new__', '__reduce__', '__reduce_ex__', '__replace__', '__repr__', '__rmul__',\n",
       "'__setattr__', '__sizeof__', '__slots__', '__str__', '__subclasshook__', '_asdict', '_field_defaults', '_fields', \n",
       "'_make', '_replace', 'chain', 'count', 'draw_idx', 'index', 'is_last', 'point', 'stats', 'tuning']\n"
      ]
     },
     "metadata": {},
     "output_type": "display_data"
    },
    {
     "data": {
      "text/html": [
       "<pre style=\"white-space:pre;overflow-x:auto;line-height:normal;font-family:Menlo,'DejaVu Sans Mono',consolas,'Courier New',monospace\">Draw object attributes: ['__add__', '__class__', '__class_getitem__', '__contains__', '__delattr__', '__dir__', \n",
       "'__doc__', '__eq__', '__format__', '__ge__', '__getattribute__', '__getitem__', '__getnewargs__', '__getstate__', \n",
       "'__gt__', '__hash__', '__init__', '__init_subclass__', '__iter__', '__le__', '__len__', '__lt__', '__match_args__',\n",
       "'__module__', '__mul__', '__ne__', '__new__', '__reduce__', '__reduce_ex__', '__replace__', '__repr__', '__rmul__',\n",
       "'__setattr__', '__sizeof__', '__slots__', '__str__', '__subclasshook__', '_asdict', '_field_defaults', '_fields', \n",
       "'_make', '_replace', 'chain', 'count', 'draw_idx', 'index', 'is_last', 'point', 'stats', 'tuning']\n",
       "</pre>\n"
      ],
      "text/plain": [
       "Draw object attributes: ['__add__', '__class__', '__class_getitem__', '__contains__', '__delattr__', '__dir__', \n",
       "'__doc__', '__eq__', '__format__', '__ge__', '__getattribute__', '__getitem__', '__getnewargs__', '__getstate__', \n",
       "'__gt__', '__hash__', '__init__', '__init_subclass__', '__iter__', '__le__', '__len__', '__lt__', '__match_args__',\n",
       "'__module__', '__mul__', '__ne__', '__new__', '__reduce__', '__reduce_ex__', '__replace__', '__repr__', '__rmul__',\n",
       "'__setattr__', '__sizeof__', '__slots__', '__str__', '__subclasshook__', '_asdict', '_field_defaults', '_fields', \n",
       "'_make', '_replace', 'chain', 'count', 'draw_idx', 'index', 'is_last', 'point', 'stats', 'tuning']\n"
      ]
     },
     "metadata": {},
     "output_type": "display_data"
    },
    {
     "data": {
      "text/html": [
       "<pre style=\"white-space:pre;overflow-x:auto;line-height:normal;font-family:Menlo,'DejaVu Sans Mono',consolas,'Courier New',monospace\">Draw object attributes: ['__add__', '__class__', '__class_getitem__', '__contains__', '__delattr__', '__dir__', \n",
       "'__doc__', '__eq__', '__format__', '__ge__', '__getattribute__', '__getitem__', '__getnewargs__', '__getstate__', \n",
       "'__gt__', '__hash__', '__init__', '__init_subclass__', '__iter__', '__le__', '__len__', '__lt__', '__match_args__',\n",
       "'__module__', '__mul__', '__ne__', '__new__', '__reduce__', '__reduce_ex__', '__replace__', '__repr__', '__rmul__',\n",
       "'__setattr__', '__sizeof__', '__slots__', '__str__', '__subclasshook__', '_asdict', '_field_defaults', '_fields', \n",
       "'_make', '_replace', 'chain', 'count', 'draw_idx', 'index', 'is_last', 'point', 'stats', 'tuning']\n",
       "</pre>\n"
      ],
      "text/plain": [
       "Draw object attributes: ['__add__', '__class__', '__class_getitem__', '__contains__', '__delattr__', '__dir__', \n",
       "'__doc__', '__eq__', '__format__', '__ge__', '__getattribute__', '__getitem__', '__getnewargs__', '__getstate__', \n",
       "'__gt__', '__hash__', '__init__', '__init_subclass__', '__iter__', '__le__', '__len__', '__lt__', '__match_args__',\n",
       "'__module__', '__mul__', '__ne__', '__new__', '__reduce__', '__reduce_ex__', '__replace__', '__repr__', '__rmul__',\n",
       "'__setattr__', '__sizeof__', '__slots__', '__str__', '__subclasshook__', '_asdict', '_field_defaults', '_fields', \n",
       "'_make', '_replace', 'chain', 'count', 'draw_idx', 'index', 'is_last', 'point', 'stats', 'tuning']\n"
      ]
     },
     "metadata": {},
     "output_type": "display_data"
    },
    {
     "data": {
      "text/html": [
       "<pre style=\"white-space:pre;overflow-x:auto;line-height:normal;font-family:Menlo,'DejaVu Sans Mono',consolas,'Courier New',monospace\">Draw object attributes: ['__add__', '__class__', '__class_getitem__', '__contains__', '__delattr__', '__dir__', \n",
       "'__doc__', '__eq__', '__format__', '__ge__', '__getattribute__', '__getitem__', '__getnewargs__', '__getstate__', \n",
       "'__gt__', '__hash__', '__init__', '__init_subclass__', '__iter__', '__le__', '__len__', '__lt__', '__match_args__',\n",
       "'__module__', '__mul__', '__ne__', '__new__', '__reduce__', '__reduce_ex__', '__replace__', '__repr__', '__rmul__',\n",
       "'__setattr__', '__sizeof__', '__slots__', '__str__', '__subclasshook__', '_asdict', '_field_defaults', '_fields', \n",
       "'_make', '_replace', 'chain', 'count', 'draw_idx', 'index', 'is_last', 'point', 'stats', 'tuning']\n",
       "</pre>\n"
      ],
      "text/plain": [
       "Draw object attributes: ['__add__', '__class__', '__class_getitem__', '__contains__', '__delattr__', '__dir__', \n",
       "'__doc__', '__eq__', '__format__', '__ge__', '__getattribute__', '__getitem__', '__getnewargs__', '__getstate__', \n",
       "'__gt__', '__hash__', '__init__', '__init_subclass__', '__iter__', '__le__', '__len__', '__lt__', '__match_args__',\n",
       "'__module__', '__mul__', '__ne__', '__new__', '__reduce__', '__reduce_ex__', '__replace__', '__repr__', '__rmul__',\n",
       "'__setattr__', '__sizeof__', '__slots__', '__str__', '__subclasshook__', '_asdict', '_field_defaults', '_fields', \n",
       "'_make', '_replace', 'chain', 'count', 'draw_idx', 'index', 'is_last', 'point', 'stats', 'tuning']\n"
      ]
     },
     "metadata": {},
     "output_type": "display_data"
    },
    {
     "data": {
      "text/html": [
       "<pre style=\"white-space:pre;overflow-x:auto;line-height:normal;font-family:Menlo,'DejaVu Sans Mono',consolas,'Courier New',monospace\">Draw object attributes: ['__add__', '__class__', '__class_getitem__', '__contains__', '__delattr__', '__dir__', \n",
       "'__doc__', '__eq__', '__format__', '__ge__', '__getattribute__', '__getitem__', '__getnewargs__', '__getstate__', \n",
       "'__gt__', '__hash__', '__init__', '__init_subclass__', '__iter__', '__le__', '__len__', '__lt__', '__match_args__',\n",
       "'__module__', '__mul__', '__ne__', '__new__', '__reduce__', '__reduce_ex__', '__replace__', '__repr__', '__rmul__',\n",
       "'__setattr__', '__sizeof__', '__slots__', '__str__', '__subclasshook__', '_asdict', '_field_defaults', '_fields', \n",
       "'_make', '_replace', 'chain', 'count', 'draw_idx', 'index', 'is_last', 'point', 'stats', 'tuning']\n",
       "</pre>\n"
      ],
      "text/plain": [
       "Draw object attributes: ['__add__', '__class__', '__class_getitem__', '__contains__', '__delattr__', '__dir__', \n",
       "'__doc__', '__eq__', '__format__', '__ge__', '__getattribute__', '__getitem__', '__getnewargs__', '__getstate__', \n",
       "'__gt__', '__hash__', '__init__', '__init_subclass__', '__iter__', '__le__', '__len__', '__lt__', '__match_args__',\n",
       "'__module__', '__mul__', '__ne__', '__new__', '__reduce__', '__reduce_ex__', '__replace__', '__repr__', '__rmul__',\n",
       "'__setattr__', '__sizeof__', '__slots__', '__str__', '__subclasshook__', '_asdict', '_field_defaults', '_fields', \n",
       "'_make', '_replace', 'chain', 'count', 'draw_idx', 'index', 'is_last', 'point', 'stats', 'tuning']\n"
      ]
     },
     "metadata": {},
     "output_type": "display_data"
    },
    {
     "data": {
      "text/html": [
       "<pre style=\"white-space:pre;overflow-x:auto;line-height:normal;font-family:Menlo,'DejaVu Sans Mono',consolas,'Courier New',monospace\">Draw object attributes: ['__add__', '__class__', '__class_getitem__', '__contains__', '__delattr__', '__dir__', \n",
       "'__doc__', '__eq__', '__format__', '__ge__', '__getattribute__', '__getitem__', '__getnewargs__', '__getstate__', \n",
       "'__gt__', '__hash__', '__init__', '__init_subclass__', '__iter__', '__le__', '__len__', '__lt__', '__match_args__',\n",
       "'__module__', '__mul__', '__ne__', '__new__', '__reduce__', '__reduce_ex__', '__replace__', '__repr__', '__rmul__',\n",
       "'__setattr__', '__sizeof__', '__slots__', '__str__', '__subclasshook__', '_asdict', '_field_defaults', '_fields', \n",
       "'_make', '_replace', 'chain', 'count', 'draw_idx', 'index', 'is_last', 'point', 'stats', 'tuning']\n",
       "</pre>\n"
      ],
      "text/plain": [
       "Draw object attributes: ['__add__', '__class__', '__class_getitem__', '__contains__', '__delattr__', '__dir__', \n",
       "'__doc__', '__eq__', '__format__', '__ge__', '__getattribute__', '__getitem__', '__getnewargs__', '__getstate__', \n",
       "'__gt__', '__hash__', '__init__', '__init_subclass__', '__iter__', '__le__', '__len__', '__lt__', '__match_args__',\n",
       "'__module__', '__mul__', '__ne__', '__new__', '__reduce__', '__reduce_ex__', '__replace__', '__repr__', '__rmul__',\n",
       "'__setattr__', '__sizeof__', '__slots__', '__str__', '__subclasshook__', '_asdict', '_field_defaults', '_fields', \n",
       "'_make', '_replace', 'chain', 'count', 'draw_idx', 'index', 'is_last', 'point', 'stats', 'tuning']\n"
      ]
     },
     "metadata": {},
     "output_type": "display_data"
    },
    {
     "data": {
      "text/html": [
       "<pre style=\"white-space:pre;overflow-x:auto;line-height:normal;font-family:Menlo,'DejaVu Sans Mono',consolas,'Courier New',monospace\">Draw object attributes: ['__add__', '__class__', '__class_getitem__', '__contains__', '__delattr__', '__dir__', \n",
       "'__doc__', '__eq__', '__format__', '__ge__', '__getattribute__', '__getitem__', '__getnewargs__', '__getstate__', \n",
       "'__gt__', '__hash__', '__init__', '__init_subclass__', '__iter__', '__le__', '__len__', '__lt__', '__match_args__',\n",
       "'__module__', '__mul__', '__ne__', '__new__', '__reduce__', '__reduce_ex__', '__replace__', '__repr__', '__rmul__',\n",
       "'__setattr__', '__sizeof__', '__slots__', '__str__', '__subclasshook__', '_asdict', '_field_defaults', '_fields', \n",
       "'_make', '_replace', 'chain', 'count', 'draw_idx', 'index', 'is_last', 'point', 'stats', 'tuning']\n",
       "</pre>\n"
      ],
      "text/plain": [
       "Draw object attributes: ['__add__', '__class__', '__class_getitem__', '__contains__', '__delattr__', '__dir__', \n",
       "'__doc__', '__eq__', '__format__', '__ge__', '__getattribute__', '__getitem__', '__getnewargs__', '__getstate__', \n",
       "'__gt__', '__hash__', '__init__', '__init_subclass__', '__iter__', '__le__', '__len__', '__lt__', '__match_args__',\n",
       "'__module__', '__mul__', '__ne__', '__new__', '__reduce__', '__reduce_ex__', '__replace__', '__repr__', '__rmul__',\n",
       "'__setattr__', '__sizeof__', '__slots__', '__str__', '__subclasshook__', '_asdict', '_field_defaults', '_fields', \n",
       "'_make', '_replace', 'chain', 'count', 'draw_idx', 'index', 'is_last', 'point', 'stats', 'tuning']\n"
      ]
     },
     "metadata": {},
     "output_type": "display_data"
    },
    {
     "data": {
      "text/html": [
       "<pre style=\"white-space:pre;overflow-x:auto;line-height:normal;font-family:Menlo,'DejaVu Sans Mono',consolas,'Courier New',monospace\">Draw object attributes: ['__add__', '__class__', '__class_getitem__', '__contains__', '__delattr__', '__dir__', \n",
       "'__doc__', '__eq__', '__format__', '__ge__', '__getattribute__', '__getitem__', '__getnewargs__', '__getstate__', \n",
       "'__gt__', '__hash__', '__init__', '__init_subclass__', '__iter__', '__le__', '__len__', '__lt__', '__match_args__',\n",
       "'__module__', '__mul__', '__ne__', '__new__', '__reduce__', '__reduce_ex__', '__replace__', '__repr__', '__rmul__',\n",
       "'__setattr__', '__sizeof__', '__slots__', '__str__', '__subclasshook__', '_asdict', '_field_defaults', '_fields', \n",
       "'_make', '_replace', 'chain', 'count', 'draw_idx', 'index', 'is_last', 'point', 'stats', 'tuning']\n",
       "</pre>\n"
      ],
      "text/plain": [
       "Draw object attributes: ['__add__', '__class__', '__class_getitem__', '__contains__', '__delattr__', '__dir__', \n",
       "'__doc__', '__eq__', '__format__', '__ge__', '__getattribute__', '__getitem__', '__getnewargs__', '__getstate__', \n",
       "'__gt__', '__hash__', '__init__', '__init_subclass__', '__iter__', '__le__', '__len__', '__lt__', '__match_args__',\n",
       "'__module__', '__mul__', '__ne__', '__new__', '__reduce__', '__reduce_ex__', '__replace__', '__repr__', '__rmul__',\n",
       "'__setattr__', '__sizeof__', '__slots__', '__str__', '__subclasshook__', '_asdict', '_field_defaults', '_fields', \n",
       "'_make', '_replace', 'chain', 'count', 'draw_idx', 'index', 'is_last', 'point', 'stats', 'tuning']\n"
      ]
     },
     "metadata": {},
     "output_type": "display_data"
    },
    {
     "data": {
      "text/html": [
       "<pre style=\"white-space:pre;overflow-x:auto;line-height:normal;font-family:Menlo,'DejaVu Sans Mono',consolas,'Courier New',monospace\">Draw object attributes: ['__add__', '__class__', '__class_getitem__', '__contains__', '__delattr__', '__dir__', \n",
       "'__doc__', '__eq__', '__format__', '__ge__', '__getattribute__', '__getitem__', '__getnewargs__', '__getstate__', \n",
       "'__gt__', '__hash__', '__init__', '__init_subclass__', '__iter__', '__le__', '__len__', '__lt__', '__match_args__',\n",
       "'__module__', '__mul__', '__ne__', '__new__', '__reduce__', '__reduce_ex__', '__replace__', '__repr__', '__rmul__',\n",
       "'__setattr__', '__sizeof__', '__slots__', '__str__', '__subclasshook__', '_asdict', '_field_defaults', '_fields', \n",
       "'_make', '_replace', 'chain', 'count', 'draw_idx', 'index', 'is_last', 'point', 'stats', 'tuning']\n",
       "</pre>\n"
      ],
      "text/plain": [
       "Draw object attributes: ['__add__', '__class__', '__class_getitem__', '__contains__', '__delattr__', '__dir__', \n",
       "'__doc__', '__eq__', '__format__', '__ge__', '__getattribute__', '__getitem__', '__getnewargs__', '__getstate__', \n",
       "'__gt__', '__hash__', '__init__', '__init_subclass__', '__iter__', '__le__', '__len__', '__lt__', '__match_args__',\n",
       "'__module__', '__mul__', '__ne__', '__new__', '__reduce__', '__reduce_ex__', '__replace__', '__repr__', '__rmul__',\n",
       "'__setattr__', '__sizeof__', '__slots__', '__str__', '__subclasshook__', '_asdict', '_field_defaults', '_fields', \n",
       "'_make', '_replace', 'chain', 'count', 'draw_idx', 'index', 'is_last', 'point', 'stats', 'tuning']\n"
      ]
     },
     "metadata": {},
     "output_type": "display_data"
    },
    {
     "data": {
      "text/html": [
       "<pre style=\"white-space:pre;overflow-x:auto;line-height:normal;font-family:Menlo,'DejaVu Sans Mono',consolas,'Courier New',monospace\">Draw object attributes: ['__add__', '__class__', '__class_getitem__', '__contains__', '__delattr__', '__dir__', \n",
       "'__doc__', '__eq__', '__format__', '__ge__', '__getattribute__', '__getitem__', '__getnewargs__', '__getstate__', \n",
       "'__gt__', '__hash__', '__init__', '__init_subclass__', '__iter__', '__le__', '__len__', '__lt__', '__match_args__',\n",
       "'__module__', '__mul__', '__ne__', '__new__', '__reduce__', '__reduce_ex__', '__replace__', '__repr__', '__rmul__',\n",
       "'__setattr__', '__sizeof__', '__slots__', '__str__', '__subclasshook__', '_asdict', '_field_defaults', '_fields', \n",
       "'_make', '_replace', 'chain', 'count', 'draw_idx', 'index', 'is_last', 'point', 'stats', 'tuning']\n",
       "</pre>\n"
      ],
      "text/plain": [
       "Draw object attributes: ['__add__', '__class__', '__class_getitem__', '__contains__', '__delattr__', '__dir__', \n",
       "'__doc__', '__eq__', '__format__', '__ge__', '__getattribute__', '__getitem__', '__getnewargs__', '__getstate__', \n",
       "'__gt__', '__hash__', '__init__', '__init_subclass__', '__iter__', '__le__', '__len__', '__lt__', '__match_args__',\n",
       "'__module__', '__mul__', '__ne__', '__new__', '__reduce__', '__reduce_ex__', '__replace__', '__repr__', '__rmul__',\n",
       "'__setattr__', '__sizeof__', '__slots__', '__str__', '__subclasshook__', '_asdict', '_field_defaults', '_fields', \n",
       "'_make', '_replace', 'chain', 'count', 'draw_idx', 'index', 'is_last', 'point', 'stats', 'tuning']\n"
      ]
     },
     "metadata": {},
     "output_type": "display_data"
    },
    {
     "data": {
      "text/html": [
       "<pre style=\"white-space:pre;overflow-x:auto;line-height:normal;font-family:Menlo,'DejaVu Sans Mono',consolas,'Courier New',monospace\">Draw object attributes: ['__add__', '__class__', '__class_getitem__', '__contains__', '__delattr__', '__dir__', \n",
       "'__doc__', '__eq__', '__format__', '__ge__', '__getattribute__', '__getitem__', '__getnewargs__', '__getstate__', \n",
       "'__gt__', '__hash__', '__init__', '__init_subclass__', '__iter__', '__le__', '__len__', '__lt__', '__match_args__',\n",
       "'__module__', '__mul__', '__ne__', '__new__', '__reduce__', '__reduce_ex__', '__replace__', '__repr__', '__rmul__',\n",
       "'__setattr__', '__sizeof__', '__slots__', '__str__', '__subclasshook__', '_asdict', '_field_defaults', '_fields', \n",
       "'_make', '_replace', 'chain', 'count', 'draw_idx', 'index', 'is_last', 'point', 'stats', 'tuning']\n",
       "</pre>\n"
      ],
      "text/plain": [
       "Draw object attributes: ['__add__', '__class__', '__class_getitem__', '__contains__', '__delattr__', '__dir__', \n",
       "'__doc__', '__eq__', '__format__', '__ge__', '__getattribute__', '__getitem__', '__getnewargs__', '__getstate__', \n",
       "'__gt__', '__hash__', '__init__', '__init_subclass__', '__iter__', '__le__', '__len__', '__lt__', '__match_args__',\n",
       "'__module__', '__mul__', '__ne__', '__new__', '__reduce__', '__reduce_ex__', '__replace__', '__repr__', '__rmul__',\n",
       "'__setattr__', '__sizeof__', '__slots__', '__str__', '__subclasshook__', '_asdict', '_field_defaults', '_fields', \n",
       "'_make', '_replace', 'chain', 'count', 'draw_idx', 'index', 'is_last', 'point', 'stats', 'tuning']\n"
      ]
     },
     "metadata": {},
     "output_type": "display_data"
    },
    {
     "data": {
      "text/html": [
       "<pre style=\"white-space:pre;overflow-x:auto;line-height:normal;font-family:Menlo,'DejaVu Sans Mono',consolas,'Courier New',monospace\">Draw object attributes: ['__add__', '__class__', '__class_getitem__', '__contains__', '__delattr__', '__dir__', \n",
       "'__doc__', '__eq__', '__format__', '__ge__', '__getattribute__', '__getitem__', '__getnewargs__', '__getstate__', \n",
       "'__gt__', '__hash__', '__init__', '__init_subclass__', '__iter__', '__le__', '__len__', '__lt__', '__match_args__',\n",
       "'__module__', '__mul__', '__ne__', '__new__', '__reduce__', '__reduce_ex__', '__replace__', '__repr__', '__rmul__',\n",
       "'__setattr__', '__sizeof__', '__slots__', '__str__', '__subclasshook__', '_asdict', '_field_defaults', '_fields', \n",
       "'_make', '_replace', 'chain', 'count', 'draw_idx', 'index', 'is_last', 'point', 'stats', 'tuning']\n",
       "</pre>\n"
      ],
      "text/plain": [
       "Draw object attributes: ['__add__', '__class__', '__class_getitem__', '__contains__', '__delattr__', '__dir__', \n",
       "'__doc__', '__eq__', '__format__', '__ge__', '__getattribute__', '__getitem__', '__getnewargs__', '__getstate__', \n",
       "'__gt__', '__hash__', '__init__', '__init_subclass__', '__iter__', '__le__', '__len__', '__lt__', '__match_args__',\n",
       "'__module__', '__mul__', '__ne__', '__new__', '__reduce__', '__reduce_ex__', '__replace__', '__repr__', '__rmul__',\n",
       "'__setattr__', '__sizeof__', '__slots__', '__str__', '__subclasshook__', '_asdict', '_field_defaults', '_fields', \n",
       "'_make', '_replace', 'chain', 'count', 'draw_idx', 'index', 'is_last', 'point', 'stats', 'tuning']\n"
      ]
     },
     "metadata": {},
     "output_type": "display_data"
    },
    {
     "data": {
      "text/html": [
       "<pre style=\"white-space:pre;overflow-x:auto;line-height:normal;font-family:Menlo,'DejaVu Sans Mono',consolas,'Courier New',monospace\">Draw object attributes: ['__add__', '__class__', '__class_getitem__', '__contains__', '__delattr__', '__dir__', \n",
       "'__doc__', '__eq__', '__format__', '__ge__', '__getattribute__', '__getitem__', '__getnewargs__', '__getstate__', \n",
       "'__gt__', '__hash__', '__init__', '__init_subclass__', '__iter__', '__le__', '__len__', '__lt__', '__match_args__',\n",
       "'__module__', '__mul__', '__ne__', '__new__', '__reduce__', '__reduce_ex__', '__replace__', '__repr__', '__rmul__',\n",
       "'__setattr__', '__sizeof__', '__slots__', '__str__', '__subclasshook__', '_asdict', '_field_defaults', '_fields', \n",
       "'_make', '_replace', 'chain', 'count', 'draw_idx', 'index', 'is_last', 'point', 'stats', 'tuning']\n",
       "</pre>\n"
      ],
      "text/plain": [
       "Draw object attributes: ['__add__', '__class__', '__class_getitem__', '__contains__', '__delattr__', '__dir__', \n",
       "'__doc__', '__eq__', '__format__', '__ge__', '__getattribute__', '__getitem__', '__getnewargs__', '__getstate__', \n",
       "'__gt__', '__hash__', '__init__', '__init_subclass__', '__iter__', '__le__', '__len__', '__lt__', '__match_args__',\n",
       "'__module__', '__mul__', '__ne__', '__new__', '__reduce__', '__reduce_ex__', '__replace__', '__repr__', '__rmul__',\n",
       "'__setattr__', '__sizeof__', '__slots__', '__str__', '__subclasshook__', '_asdict', '_field_defaults', '_fields', \n",
       "'_make', '_replace', 'chain', 'count', 'draw_idx', 'index', 'is_last', 'point', 'stats', 'tuning']\n"
      ]
     },
     "metadata": {},
     "output_type": "display_data"
    },
    {
     "data": {
      "text/html": [
       "<pre style=\"white-space:pre;overflow-x:auto;line-height:normal;font-family:Menlo,'DejaVu Sans Mono',consolas,'Courier New',monospace\">Draw object attributes: ['__add__', '__class__', '__class_getitem__', '__contains__', '__delattr__', '__dir__', \n",
       "'__doc__', '__eq__', '__format__', '__ge__', '__getattribute__', '__getitem__', '__getnewargs__', '__getstate__', \n",
       "'__gt__', '__hash__', '__init__', '__init_subclass__', '__iter__', '__le__', '__len__', '__lt__', '__match_args__',\n",
       "'__module__', '__mul__', '__ne__', '__new__', '__reduce__', '__reduce_ex__', '__replace__', '__repr__', '__rmul__',\n",
       "'__setattr__', '__sizeof__', '__slots__', '__str__', '__subclasshook__', '_asdict', '_field_defaults', '_fields', \n",
       "'_make', '_replace', 'chain', 'count', 'draw_idx', 'index', 'is_last', 'point', 'stats', 'tuning']\n",
       "</pre>\n"
      ],
      "text/plain": [
       "Draw object attributes: ['__add__', '__class__', '__class_getitem__', '__contains__', '__delattr__', '__dir__', \n",
       "'__doc__', '__eq__', '__format__', '__ge__', '__getattribute__', '__getitem__', '__getnewargs__', '__getstate__', \n",
       "'__gt__', '__hash__', '__init__', '__init_subclass__', '__iter__', '__le__', '__len__', '__lt__', '__match_args__',\n",
       "'__module__', '__mul__', '__ne__', '__new__', '__reduce__', '__reduce_ex__', '__replace__', '__repr__', '__rmul__',\n",
       "'__setattr__', '__sizeof__', '__slots__', '__str__', '__subclasshook__', '_asdict', '_field_defaults', '_fields', \n",
       "'_make', '_replace', 'chain', 'count', 'draw_idx', 'index', 'is_last', 'point', 'stats', 'tuning']\n"
      ]
     },
     "metadata": {},
     "output_type": "display_data"
    },
    {
     "data": {
      "text/html": [
       "<pre style=\"white-space:pre;overflow-x:auto;line-height:normal;font-family:Menlo,'DejaVu Sans Mono',consolas,'Courier New',monospace\">Draw object attributes: ['__add__', '__class__', '__class_getitem__', '__contains__', '__delattr__', '__dir__', \n",
       "'__doc__', '__eq__', '__format__', '__ge__', '__getattribute__', '__getitem__', '__getnewargs__', '__getstate__', \n",
       "'__gt__', '__hash__', '__init__', '__init_subclass__', '__iter__', '__le__', '__len__', '__lt__', '__match_args__',\n",
       "'__module__', '__mul__', '__ne__', '__new__', '__reduce__', '__reduce_ex__', '__replace__', '__repr__', '__rmul__',\n",
       "'__setattr__', '__sizeof__', '__slots__', '__str__', '__subclasshook__', '_asdict', '_field_defaults', '_fields', \n",
       "'_make', '_replace', 'chain', 'count', 'draw_idx', 'index', 'is_last', 'point', 'stats', 'tuning']\n",
       "</pre>\n"
      ],
      "text/plain": [
       "Draw object attributes: ['__add__', '__class__', '__class_getitem__', '__contains__', '__delattr__', '__dir__', \n",
       "'__doc__', '__eq__', '__format__', '__ge__', '__getattribute__', '__getitem__', '__getnewargs__', '__getstate__', \n",
       "'__gt__', '__hash__', '__init__', '__init_subclass__', '__iter__', '__le__', '__len__', '__lt__', '__match_args__',\n",
       "'__module__', '__mul__', '__ne__', '__new__', '__reduce__', '__reduce_ex__', '__replace__', '__repr__', '__rmul__',\n",
       "'__setattr__', '__sizeof__', '__slots__', '__str__', '__subclasshook__', '_asdict', '_field_defaults', '_fields', \n",
       "'_make', '_replace', 'chain', 'count', 'draw_idx', 'index', 'is_last', 'point', 'stats', 'tuning']\n"
      ]
     },
     "metadata": {},
     "output_type": "display_data"
    },
    {
     "data": {
      "text/html": [
       "<pre style=\"white-space:pre;overflow-x:auto;line-height:normal;font-family:Menlo,'DejaVu Sans Mono',consolas,'Courier New',monospace\">Draw object attributes: ['__add__', '__class__', '__class_getitem__', '__contains__', '__delattr__', '__dir__', \n",
       "'__doc__', '__eq__', '__format__', '__ge__', '__getattribute__', '__getitem__', '__getnewargs__', '__getstate__', \n",
       "'__gt__', '__hash__', '__init__', '__init_subclass__', '__iter__', '__le__', '__len__', '__lt__', '__match_args__',\n",
       "'__module__', '__mul__', '__ne__', '__new__', '__reduce__', '__reduce_ex__', '__replace__', '__repr__', '__rmul__',\n",
       "'__setattr__', '__sizeof__', '__slots__', '__str__', '__subclasshook__', '_asdict', '_field_defaults', '_fields', \n",
       "'_make', '_replace', 'chain', 'count', 'draw_idx', 'index', 'is_last', 'point', 'stats', 'tuning']\n",
       "</pre>\n"
      ],
      "text/plain": [
       "Draw object attributes: ['__add__', '__class__', '__class_getitem__', '__contains__', '__delattr__', '__dir__', \n",
       "'__doc__', '__eq__', '__format__', '__ge__', '__getattribute__', '__getitem__', '__getnewargs__', '__getstate__', \n",
       "'__gt__', '__hash__', '__init__', '__init_subclass__', '__iter__', '__le__', '__len__', '__lt__', '__match_args__',\n",
       "'__module__', '__mul__', '__ne__', '__new__', '__reduce__', '__reduce_ex__', '__replace__', '__repr__', '__rmul__',\n",
       "'__setattr__', '__sizeof__', '__slots__', '__str__', '__subclasshook__', '_asdict', '_field_defaults', '_fields', \n",
       "'_make', '_replace', 'chain', 'count', 'draw_idx', 'index', 'is_last', 'point', 'stats', 'tuning']\n"
      ]
     },
     "metadata": {},
     "output_type": "display_data"
    },
    {
     "data": {
      "text/html": [
       "<pre style=\"white-space:pre;overflow-x:auto;line-height:normal;font-family:Menlo,'DejaVu Sans Mono',consolas,'Courier New',monospace\">Draw object attributes: ['__add__', '__class__', '__class_getitem__', '__contains__', '__delattr__', '__dir__', \n",
       "'__doc__', '__eq__', '__format__', '__ge__', '__getattribute__', '__getitem__', '__getnewargs__', '__getstate__', \n",
       "'__gt__', '__hash__', '__init__', '__init_subclass__', '__iter__', '__le__', '__len__', '__lt__', '__match_args__',\n",
       "'__module__', '__mul__', '__ne__', '__new__', '__reduce__', '__reduce_ex__', '__replace__', '__repr__', '__rmul__',\n",
       "'__setattr__', '__sizeof__', '__slots__', '__str__', '__subclasshook__', '_asdict', '_field_defaults', '_fields', \n",
       "'_make', '_replace', 'chain', 'count', 'draw_idx', 'index', 'is_last', 'point', 'stats', 'tuning']\n",
       "</pre>\n"
      ],
      "text/plain": [
       "Draw object attributes: ['__add__', '__class__', '__class_getitem__', '__contains__', '__delattr__', '__dir__', \n",
       "'__doc__', '__eq__', '__format__', '__ge__', '__getattribute__', '__getitem__', '__getnewargs__', '__getstate__', \n",
       "'__gt__', '__hash__', '__init__', '__init_subclass__', '__iter__', '__le__', '__len__', '__lt__', '__match_args__',\n",
       "'__module__', '__mul__', '__ne__', '__new__', '__reduce__', '__reduce_ex__', '__replace__', '__repr__', '__rmul__',\n",
       "'__setattr__', '__sizeof__', '__slots__', '__str__', '__subclasshook__', '_asdict', '_field_defaults', '_fields', \n",
       "'_make', '_replace', 'chain', 'count', 'draw_idx', 'index', 'is_last', 'point', 'stats', 'tuning']\n"
      ]
     },
     "metadata": {},
     "output_type": "display_data"
    },
    {
     "data": {
      "text/html": [
       "<pre style=\"white-space:pre;overflow-x:auto;line-height:normal;font-family:Menlo,'DejaVu Sans Mono',consolas,'Courier New',monospace\">Draw object attributes: ['__add__', '__class__', '__class_getitem__', '__contains__', '__delattr__', '__dir__', \n",
       "'__doc__', '__eq__', '__format__', '__ge__', '__getattribute__', '__getitem__', '__getnewargs__', '__getstate__', \n",
       "'__gt__', '__hash__', '__init__', '__init_subclass__', '__iter__', '__le__', '__len__', '__lt__', '__match_args__',\n",
       "'__module__', '__mul__', '__ne__', '__new__', '__reduce__', '__reduce_ex__', '__replace__', '__repr__', '__rmul__',\n",
       "'__setattr__', '__sizeof__', '__slots__', '__str__', '__subclasshook__', '_asdict', '_field_defaults', '_fields', \n",
       "'_make', '_replace', 'chain', 'count', 'draw_idx', 'index', 'is_last', 'point', 'stats', 'tuning']\n",
       "</pre>\n"
      ],
      "text/plain": [
       "Draw object attributes: ['__add__', '__class__', '__class_getitem__', '__contains__', '__delattr__', '__dir__', \n",
       "'__doc__', '__eq__', '__format__', '__ge__', '__getattribute__', '__getitem__', '__getnewargs__', '__getstate__', \n",
       "'__gt__', '__hash__', '__init__', '__init_subclass__', '__iter__', '__le__', '__len__', '__lt__', '__match_args__',\n",
       "'__module__', '__mul__', '__ne__', '__new__', '__reduce__', '__reduce_ex__', '__replace__', '__repr__', '__rmul__',\n",
       "'__setattr__', '__sizeof__', '__slots__', '__str__', '__subclasshook__', '_asdict', '_field_defaults', '_fields', \n",
       "'_make', '_replace', 'chain', 'count', 'draw_idx', 'index', 'is_last', 'point', 'stats', 'tuning']\n"
      ]
     },
     "metadata": {},
     "output_type": "display_data"
    },
    {
     "data": {
      "text/html": [
       "<pre style=\"white-space:pre;overflow-x:auto;line-height:normal;font-family:Menlo,'DejaVu Sans Mono',consolas,'Courier New',monospace\">Draw object attributes: ['__add__', '__class__', '__class_getitem__', '__contains__', '__delattr__', '__dir__', \n",
       "'__doc__', '__eq__', '__format__', '__ge__', '__getattribute__', '__getitem__', '__getnewargs__', '__getstate__', \n",
       "'__gt__', '__hash__', '__init__', '__init_subclass__', '__iter__', '__le__', '__len__', '__lt__', '__match_args__',\n",
       "'__module__', '__mul__', '__ne__', '__new__', '__reduce__', '__reduce_ex__', '__replace__', '__repr__', '__rmul__',\n",
       "'__setattr__', '__sizeof__', '__slots__', '__str__', '__subclasshook__', '_asdict', '_field_defaults', '_fields', \n",
       "'_make', '_replace', 'chain', 'count', 'draw_idx', 'index', 'is_last', 'point', 'stats', 'tuning']\n",
       "</pre>\n"
      ],
      "text/plain": [
       "Draw object attributes: ['__add__', '__class__', '__class_getitem__', '__contains__', '__delattr__', '__dir__', \n",
       "'__doc__', '__eq__', '__format__', '__ge__', '__getattribute__', '__getitem__', '__getnewargs__', '__getstate__', \n",
       "'__gt__', '__hash__', '__init__', '__init_subclass__', '__iter__', '__le__', '__len__', '__lt__', '__match_args__',\n",
       "'__module__', '__mul__', '__ne__', '__new__', '__reduce__', '__reduce_ex__', '__replace__', '__repr__', '__rmul__',\n",
       "'__setattr__', '__sizeof__', '__slots__', '__str__', '__subclasshook__', '_asdict', '_field_defaults', '_fields', \n",
       "'_make', '_replace', 'chain', 'count', 'draw_idx', 'index', 'is_last', 'point', 'stats', 'tuning']\n"
      ]
     },
     "metadata": {},
     "output_type": "display_data"
    },
    {
     "data": {
      "text/html": [
       "<pre style=\"white-space:pre;overflow-x:auto;line-height:normal;font-family:Menlo,'DejaVu Sans Mono',consolas,'Courier New',monospace\">Draw object attributes: ['__add__', '__class__', '__class_getitem__', '__contains__', '__delattr__', '__dir__', \n",
       "'__doc__', '__eq__', '__format__', '__ge__', '__getattribute__', '__getitem__', '__getnewargs__', '__getstate__', \n",
       "'__gt__', '__hash__', '__init__', '__init_subclass__', '__iter__', '__le__', '__len__', '__lt__', '__match_args__',\n",
       "'__module__', '__mul__', '__ne__', '__new__', '__reduce__', '__reduce_ex__', '__replace__', '__repr__', '__rmul__',\n",
       "'__setattr__', '__sizeof__', '__slots__', '__str__', '__subclasshook__', '_asdict', '_field_defaults', '_fields', \n",
       "'_make', '_replace', 'chain', 'count', 'draw_idx', 'index', 'is_last', 'point', 'stats', 'tuning']\n",
       "</pre>\n"
      ],
      "text/plain": [
       "Draw object attributes: ['__add__', '__class__', '__class_getitem__', '__contains__', '__delattr__', '__dir__', \n",
       "'__doc__', '__eq__', '__format__', '__ge__', '__getattribute__', '__getitem__', '__getnewargs__', '__getstate__', \n",
       "'__gt__', '__hash__', '__init__', '__init_subclass__', '__iter__', '__le__', '__len__', '__lt__', '__match_args__',\n",
       "'__module__', '__mul__', '__ne__', '__new__', '__reduce__', '__reduce_ex__', '__replace__', '__repr__', '__rmul__',\n",
       "'__setattr__', '__sizeof__', '__slots__', '__str__', '__subclasshook__', '_asdict', '_field_defaults', '_fields', \n",
       "'_make', '_replace', 'chain', 'count', 'draw_idx', 'index', 'is_last', 'point', 'stats', 'tuning']\n"
      ]
     },
     "metadata": {},
     "output_type": "display_data"
    },
    {
     "data": {
      "text/html": [
       "<pre style=\"white-space:pre;overflow-x:auto;line-height:normal;font-family:Menlo,'DejaVu Sans Mono',consolas,'Courier New',monospace\">Draw object attributes: ['__add__', '__class__', '__class_getitem__', '__contains__', '__delattr__', '__dir__', \n",
       "'__doc__', '__eq__', '__format__', '__ge__', '__getattribute__', '__getitem__', '__getnewargs__', '__getstate__', \n",
       "'__gt__', '__hash__', '__init__', '__init_subclass__', '__iter__', '__le__', '__len__', '__lt__', '__match_args__',\n",
       "'__module__', '__mul__', '__ne__', '__new__', '__reduce__', '__reduce_ex__', '__replace__', '__repr__', '__rmul__',\n",
       "'__setattr__', '__sizeof__', '__slots__', '__str__', '__subclasshook__', '_asdict', '_field_defaults', '_fields', \n",
       "'_make', '_replace', 'chain', 'count', 'draw_idx', 'index', 'is_last', 'point', 'stats', 'tuning']\n",
       "</pre>\n"
      ],
      "text/plain": [
       "Draw object attributes: ['__add__', '__class__', '__class_getitem__', '__contains__', '__delattr__', '__dir__', \n",
       "'__doc__', '__eq__', '__format__', '__ge__', '__getattribute__', '__getitem__', '__getnewargs__', '__getstate__', \n",
       "'__gt__', '__hash__', '__init__', '__init_subclass__', '__iter__', '__le__', '__len__', '__lt__', '__match_args__',\n",
       "'__module__', '__mul__', '__ne__', '__new__', '__reduce__', '__reduce_ex__', '__replace__', '__repr__', '__rmul__',\n",
       "'__setattr__', '__sizeof__', '__slots__', '__str__', '__subclasshook__', '_asdict', '_field_defaults', '_fields', \n",
       "'_make', '_replace', 'chain', 'count', 'draw_idx', 'index', 'is_last', 'point', 'stats', 'tuning']\n"
      ]
     },
     "metadata": {},
     "output_type": "display_data"
    },
    {
     "data": {
      "text/html": [
       "<pre style=\"white-space:pre;overflow-x:auto;line-height:normal;font-family:Menlo,'DejaVu Sans Mono',consolas,'Courier New',monospace\">Draw object attributes: ['__add__', '__class__', '__class_getitem__', '__contains__', '__delattr__', '__dir__', \n",
       "'__doc__', '__eq__', '__format__', '__ge__', '__getattribute__', '__getitem__', '__getnewargs__', '__getstate__', \n",
       "'__gt__', '__hash__', '__init__', '__init_subclass__', '__iter__', '__le__', '__len__', '__lt__', '__match_args__',\n",
       "'__module__', '__mul__', '__ne__', '__new__', '__reduce__', '__reduce_ex__', '__replace__', '__repr__', '__rmul__',\n",
       "'__setattr__', '__sizeof__', '__slots__', '__str__', '__subclasshook__', '_asdict', '_field_defaults', '_fields', \n",
       "'_make', '_replace', 'chain', 'count', 'draw_idx', 'index', 'is_last', 'point', 'stats', 'tuning']\n",
       "</pre>\n"
      ],
      "text/plain": [
       "Draw object attributes: ['__add__', '__class__', '__class_getitem__', '__contains__', '__delattr__', '__dir__', \n",
       "'__doc__', '__eq__', '__format__', '__ge__', '__getattribute__', '__getitem__', '__getnewargs__', '__getstate__', \n",
       "'__gt__', '__hash__', '__init__', '__init_subclass__', '__iter__', '__le__', '__len__', '__lt__', '__match_args__',\n",
       "'__module__', '__mul__', '__ne__', '__new__', '__reduce__', '__reduce_ex__', '__replace__', '__repr__', '__rmul__',\n",
       "'__setattr__', '__sizeof__', '__slots__', '__str__', '__subclasshook__', '_asdict', '_field_defaults', '_fields', \n",
       "'_make', '_replace', 'chain', 'count', 'draw_idx', 'index', 'is_last', 'point', 'stats', 'tuning']\n"
      ]
     },
     "metadata": {},
     "output_type": "display_data"
    },
    {
     "data": {
      "text/html": [
       "<pre style=\"white-space:pre;overflow-x:auto;line-height:normal;font-family:Menlo,'DejaVu Sans Mono',consolas,'Courier New',monospace\">Draw object attributes: ['__add__', '__class__', '__class_getitem__', '__contains__', '__delattr__', '__dir__', \n",
       "'__doc__', '__eq__', '__format__', '__ge__', '__getattribute__', '__getitem__', '__getnewargs__', '__getstate__', \n",
       "'__gt__', '__hash__', '__init__', '__init_subclass__', '__iter__', '__le__', '__len__', '__lt__', '__match_args__',\n",
       "'__module__', '__mul__', '__ne__', '__new__', '__reduce__', '__reduce_ex__', '__replace__', '__repr__', '__rmul__',\n",
       "'__setattr__', '__sizeof__', '__slots__', '__str__', '__subclasshook__', '_asdict', '_field_defaults', '_fields', \n",
       "'_make', '_replace', 'chain', 'count', 'draw_idx', 'index', 'is_last', 'point', 'stats', 'tuning']\n",
       "</pre>\n"
      ],
      "text/plain": [
       "Draw object attributes: ['__add__', '__class__', '__class_getitem__', '__contains__', '__delattr__', '__dir__', \n",
       "'__doc__', '__eq__', '__format__', '__ge__', '__getattribute__', '__getitem__', '__getnewargs__', '__getstate__', \n",
       "'__gt__', '__hash__', '__init__', '__init_subclass__', '__iter__', '__le__', '__len__', '__lt__', '__match_args__',\n",
       "'__module__', '__mul__', '__ne__', '__new__', '__reduce__', '__reduce_ex__', '__replace__', '__repr__', '__rmul__',\n",
       "'__setattr__', '__sizeof__', '__slots__', '__str__', '__subclasshook__', '_asdict', '_field_defaults', '_fields', \n",
       "'_make', '_replace', 'chain', 'count', 'draw_idx', 'index', 'is_last', 'point', 'stats', 'tuning']\n"
      ]
     },
     "metadata": {},
     "output_type": "display_data"
    },
    {
     "data": {
      "text/html": [
       "<pre style=\"white-space:pre;overflow-x:auto;line-height:normal;font-family:Menlo,'DejaVu Sans Mono',consolas,'Courier New',monospace\">Draw object attributes: ['__add__', '__class__', '__class_getitem__', '__contains__', '__delattr__', '__dir__', \n",
       "'__doc__', '__eq__', '__format__', '__ge__', '__getattribute__', '__getitem__', '__getnewargs__', '__getstate__', \n",
       "'__gt__', '__hash__', '__init__', '__init_subclass__', '__iter__', '__le__', '__len__', '__lt__', '__match_args__',\n",
       "'__module__', '__mul__', '__ne__', '__new__', '__reduce__', '__reduce_ex__', '__replace__', '__repr__', '__rmul__',\n",
       "'__setattr__', '__sizeof__', '__slots__', '__str__', '__subclasshook__', '_asdict', '_field_defaults', '_fields', \n",
       "'_make', '_replace', 'chain', 'count', 'draw_idx', 'index', 'is_last', 'point', 'stats', 'tuning']\n",
       "</pre>\n"
      ],
      "text/plain": [
       "Draw object attributes: ['__add__', '__class__', '__class_getitem__', '__contains__', '__delattr__', '__dir__', \n",
       "'__doc__', '__eq__', '__format__', '__ge__', '__getattribute__', '__getitem__', '__getnewargs__', '__getstate__', \n",
       "'__gt__', '__hash__', '__init__', '__init_subclass__', '__iter__', '__le__', '__len__', '__lt__', '__match_args__',\n",
       "'__module__', '__mul__', '__ne__', '__new__', '__reduce__', '__reduce_ex__', '__replace__', '__repr__', '__rmul__',\n",
       "'__setattr__', '__sizeof__', '__slots__', '__str__', '__subclasshook__', '_asdict', '_field_defaults', '_fields', \n",
       "'_make', '_replace', 'chain', 'count', 'draw_idx', 'index', 'is_last', 'point', 'stats', 'tuning']\n"
      ]
     },
     "metadata": {},
     "output_type": "display_data"
    },
    {
     "data": {
      "text/html": [
       "<pre style=\"white-space:pre;overflow-x:auto;line-height:normal;font-family:Menlo,'DejaVu Sans Mono',consolas,'Courier New',monospace\">Draw object attributes: ['__add__', '__class__', '__class_getitem__', '__contains__', '__delattr__', '__dir__', \n",
       "'__doc__', '__eq__', '__format__', '__ge__', '__getattribute__', '__getitem__', '__getnewargs__', '__getstate__', \n",
       "'__gt__', '__hash__', '__init__', '__init_subclass__', '__iter__', '__le__', '__len__', '__lt__', '__match_args__',\n",
       "'__module__', '__mul__', '__ne__', '__new__', '__reduce__', '__reduce_ex__', '__replace__', '__repr__', '__rmul__',\n",
       "'__setattr__', '__sizeof__', '__slots__', '__str__', '__subclasshook__', '_asdict', '_field_defaults', '_fields', \n",
       "'_make', '_replace', 'chain', 'count', 'draw_idx', 'index', 'is_last', 'point', 'stats', 'tuning']\n",
       "</pre>\n"
      ],
      "text/plain": [
       "Draw object attributes: ['__add__', '__class__', '__class_getitem__', '__contains__', '__delattr__', '__dir__', \n",
       "'__doc__', '__eq__', '__format__', '__ge__', '__getattribute__', '__getitem__', '__getnewargs__', '__getstate__', \n",
       "'__gt__', '__hash__', '__init__', '__init_subclass__', '__iter__', '__le__', '__len__', '__lt__', '__match_args__',\n",
       "'__module__', '__mul__', '__ne__', '__new__', '__reduce__', '__reduce_ex__', '__replace__', '__repr__', '__rmul__',\n",
       "'__setattr__', '__sizeof__', '__slots__', '__str__', '__subclasshook__', '_asdict', '_field_defaults', '_fields', \n",
       "'_make', '_replace', 'chain', 'count', 'draw_idx', 'index', 'is_last', 'point', 'stats', 'tuning']\n"
      ]
     },
     "metadata": {},
     "output_type": "display_data"
    },
    {
     "data": {
      "text/html": [
       "<pre style=\"white-space:pre;overflow-x:auto;line-height:normal;font-family:Menlo,'DejaVu Sans Mono',consolas,'Courier New',monospace\">Draw object attributes: ['__add__', '__class__', '__class_getitem__', '__contains__', '__delattr__', '__dir__', \n",
       "'__doc__', '__eq__', '__format__', '__ge__', '__getattribute__', '__getitem__', '__getnewargs__', '__getstate__', \n",
       "'__gt__', '__hash__', '__init__', '__init_subclass__', '__iter__', '__le__', '__len__', '__lt__', '__match_args__',\n",
       "'__module__', '__mul__', '__ne__', '__new__', '__reduce__', '__reduce_ex__', '__replace__', '__repr__', '__rmul__',\n",
       "'__setattr__', '__sizeof__', '__slots__', '__str__', '__subclasshook__', '_asdict', '_field_defaults', '_fields', \n",
       "'_make', '_replace', 'chain', 'count', 'draw_idx', 'index', 'is_last', 'point', 'stats', 'tuning']\n",
       "</pre>\n"
      ],
      "text/plain": [
       "Draw object attributes: ['__add__', '__class__', '__class_getitem__', '__contains__', '__delattr__', '__dir__', \n",
       "'__doc__', '__eq__', '__format__', '__ge__', '__getattribute__', '__getitem__', '__getnewargs__', '__getstate__', \n",
       "'__gt__', '__hash__', '__init__', '__init_subclass__', '__iter__', '__le__', '__len__', '__lt__', '__match_args__',\n",
       "'__module__', '__mul__', '__ne__', '__new__', '__reduce__', '__reduce_ex__', '__replace__', '__repr__', '__rmul__',\n",
       "'__setattr__', '__sizeof__', '__slots__', '__str__', '__subclasshook__', '_asdict', '_field_defaults', '_fields', \n",
       "'_make', '_replace', 'chain', 'count', 'draw_idx', 'index', 'is_last', 'point', 'stats', 'tuning']\n"
      ]
     },
     "metadata": {},
     "output_type": "display_data"
    },
    {
     "data": {
      "text/html": [
       "<pre style=\"white-space:pre;overflow-x:auto;line-height:normal;font-family:Menlo,'DejaVu Sans Mono',consolas,'Courier New',monospace\">Draw object attributes: ['__add__', '__class__', '__class_getitem__', '__contains__', '__delattr__', '__dir__', \n",
       "'__doc__', '__eq__', '__format__', '__ge__', '__getattribute__', '__getitem__', '__getnewargs__', '__getstate__', \n",
       "'__gt__', '__hash__', '__init__', '__init_subclass__', '__iter__', '__le__', '__len__', '__lt__', '__match_args__',\n",
       "'__module__', '__mul__', '__ne__', '__new__', '__reduce__', '__reduce_ex__', '__replace__', '__repr__', '__rmul__',\n",
       "'__setattr__', '__sizeof__', '__slots__', '__str__', '__subclasshook__', '_asdict', '_field_defaults', '_fields', \n",
       "'_make', '_replace', 'chain', 'count', 'draw_idx', 'index', 'is_last', 'point', 'stats', 'tuning']\n",
       "</pre>\n"
      ],
      "text/plain": [
       "Draw object attributes: ['__add__', '__class__', '__class_getitem__', '__contains__', '__delattr__', '__dir__', \n",
       "'__doc__', '__eq__', '__format__', '__ge__', '__getattribute__', '__getitem__', '__getnewargs__', '__getstate__', \n",
       "'__gt__', '__hash__', '__init__', '__init_subclass__', '__iter__', '__le__', '__len__', '__lt__', '__match_args__',\n",
       "'__module__', '__mul__', '__ne__', '__new__', '__reduce__', '__reduce_ex__', '__replace__', '__repr__', '__rmul__',\n",
       "'__setattr__', '__sizeof__', '__slots__', '__str__', '__subclasshook__', '_asdict', '_field_defaults', '_fields', \n",
       "'_make', '_replace', 'chain', 'count', 'draw_idx', 'index', 'is_last', 'point', 'stats', 'tuning']\n"
      ]
     },
     "metadata": {},
     "output_type": "display_data"
    },
    {
     "data": {
      "text/html": [
       "<pre style=\"white-space:pre;overflow-x:auto;line-height:normal;font-family:Menlo,'DejaVu Sans Mono',consolas,'Courier New',monospace\">Draw object attributes: ['__add__', '__class__', '__class_getitem__', '__contains__', '__delattr__', '__dir__', \n",
       "'__doc__', '__eq__', '__format__', '__ge__', '__getattribute__', '__getitem__', '__getnewargs__', '__getstate__', \n",
       "'__gt__', '__hash__', '__init__', '__init_subclass__', '__iter__', '__le__', '__len__', '__lt__', '__match_args__',\n",
       "'__module__', '__mul__', '__ne__', '__new__', '__reduce__', '__reduce_ex__', '__replace__', '__repr__', '__rmul__',\n",
       "'__setattr__', '__sizeof__', '__slots__', '__str__', '__subclasshook__', '_asdict', '_field_defaults', '_fields', \n",
       "'_make', '_replace', 'chain', 'count', 'draw_idx', 'index', 'is_last', 'point', 'stats', 'tuning']\n",
       "</pre>\n"
      ],
      "text/plain": [
       "Draw object attributes: ['__add__', '__class__', '__class_getitem__', '__contains__', '__delattr__', '__dir__', \n",
       "'__doc__', '__eq__', '__format__', '__ge__', '__getattribute__', '__getitem__', '__getnewargs__', '__getstate__', \n",
       "'__gt__', '__hash__', '__init__', '__init_subclass__', '__iter__', '__le__', '__len__', '__lt__', '__match_args__',\n",
       "'__module__', '__mul__', '__ne__', '__new__', '__reduce__', '__reduce_ex__', '__replace__', '__repr__', '__rmul__',\n",
       "'__setattr__', '__sizeof__', '__slots__', '__str__', '__subclasshook__', '_asdict', '_field_defaults', '_fields', \n",
       "'_make', '_replace', 'chain', 'count', 'draw_idx', 'index', 'is_last', 'point', 'stats', 'tuning']\n"
      ]
     },
     "metadata": {},
     "output_type": "display_data"
    },
    {
     "data": {
      "text/html": [
       "<pre style=\"white-space:pre;overflow-x:auto;line-height:normal;font-family:Menlo,'DejaVu Sans Mono',consolas,'Courier New',monospace\">Draw object attributes: ['__add__', '__class__', '__class_getitem__', '__contains__', '__delattr__', '__dir__', \n",
       "'__doc__', '__eq__', '__format__', '__ge__', '__getattribute__', '__getitem__', '__getnewargs__', '__getstate__', \n",
       "'__gt__', '__hash__', '__init__', '__init_subclass__', '__iter__', '__le__', '__len__', '__lt__', '__match_args__',\n",
       "'__module__', '__mul__', '__ne__', '__new__', '__reduce__', '__reduce_ex__', '__replace__', '__repr__', '__rmul__',\n",
       "'__setattr__', '__sizeof__', '__slots__', '__str__', '__subclasshook__', '_asdict', '_field_defaults', '_fields', \n",
       "'_make', '_replace', 'chain', 'count', 'draw_idx', 'index', 'is_last', 'point', 'stats', 'tuning']\n",
       "</pre>\n"
      ],
      "text/plain": [
       "Draw object attributes: ['__add__', '__class__', '__class_getitem__', '__contains__', '__delattr__', '__dir__', \n",
       "'__doc__', '__eq__', '__format__', '__ge__', '__getattribute__', '__getitem__', '__getnewargs__', '__getstate__', \n",
       "'__gt__', '__hash__', '__init__', '__init_subclass__', '__iter__', '__le__', '__len__', '__lt__', '__match_args__',\n",
       "'__module__', '__mul__', '__ne__', '__new__', '__reduce__', '__reduce_ex__', '__replace__', '__repr__', '__rmul__',\n",
       "'__setattr__', '__sizeof__', '__slots__', '__str__', '__subclasshook__', '_asdict', '_field_defaults', '_fields', \n",
       "'_make', '_replace', 'chain', 'count', 'draw_idx', 'index', 'is_last', 'point', 'stats', 'tuning']\n"
      ]
     },
     "metadata": {},
     "output_type": "display_data"
    },
    {
     "data": {
      "text/html": [
       "<pre style=\"white-space:pre;overflow-x:auto;line-height:normal;font-family:Menlo,'DejaVu Sans Mono',consolas,'Courier New',monospace\">Draw object attributes: ['__add__', '__class__', '__class_getitem__', '__contains__', '__delattr__', '__dir__', \n",
       "'__doc__', '__eq__', '__format__', '__ge__', '__getattribute__', '__getitem__', '__getnewargs__', '__getstate__', \n",
       "'__gt__', '__hash__', '__init__', '__init_subclass__', '__iter__', '__le__', '__len__', '__lt__', '__match_args__',\n",
       "'__module__', '__mul__', '__ne__', '__new__', '__reduce__', '__reduce_ex__', '__replace__', '__repr__', '__rmul__',\n",
       "'__setattr__', '__sizeof__', '__slots__', '__str__', '__subclasshook__', '_asdict', '_field_defaults', '_fields', \n",
       "'_make', '_replace', 'chain', 'count', 'draw_idx', 'index', 'is_last', 'point', 'stats', 'tuning']\n",
       "</pre>\n"
      ],
      "text/plain": [
       "Draw object attributes: ['__add__', '__class__', '__class_getitem__', '__contains__', '__delattr__', '__dir__', \n",
       "'__doc__', '__eq__', '__format__', '__ge__', '__getattribute__', '__getitem__', '__getnewargs__', '__getstate__', \n",
       "'__gt__', '__hash__', '__init__', '__init_subclass__', '__iter__', '__le__', '__len__', '__lt__', '__match_args__',\n",
       "'__module__', '__mul__', '__ne__', '__new__', '__reduce__', '__reduce_ex__', '__replace__', '__repr__', '__rmul__',\n",
       "'__setattr__', '__sizeof__', '__slots__', '__str__', '__subclasshook__', '_asdict', '_field_defaults', '_fields', \n",
       "'_make', '_replace', 'chain', 'count', 'draw_idx', 'index', 'is_last', 'point', 'stats', 'tuning']\n"
      ]
     },
     "metadata": {},
     "output_type": "display_data"
    },
    {
     "data": {
      "text/html": [
       "<pre style=\"white-space:pre;overflow-x:auto;line-height:normal;font-family:Menlo,'DejaVu Sans Mono',consolas,'Courier New',monospace\">Draw object attributes: ['__add__', '__class__', '__class_getitem__', '__contains__', '__delattr__', '__dir__', \n",
       "'__doc__', '__eq__', '__format__', '__ge__', '__getattribute__', '__getitem__', '__getnewargs__', '__getstate__', \n",
       "'__gt__', '__hash__', '__init__', '__init_subclass__', '__iter__', '__le__', '__len__', '__lt__', '__match_args__',\n",
       "'__module__', '__mul__', '__ne__', '__new__', '__reduce__', '__reduce_ex__', '__replace__', '__repr__', '__rmul__',\n",
       "'__setattr__', '__sizeof__', '__slots__', '__str__', '__subclasshook__', '_asdict', '_field_defaults', '_fields', \n",
       "'_make', '_replace', 'chain', 'count', 'draw_idx', 'index', 'is_last', 'point', 'stats', 'tuning']\n",
       "</pre>\n"
      ],
      "text/plain": [
       "Draw object attributes: ['__add__', '__class__', '__class_getitem__', '__contains__', '__delattr__', '__dir__', \n",
       "'__doc__', '__eq__', '__format__', '__ge__', '__getattribute__', '__getitem__', '__getnewargs__', '__getstate__', \n",
       "'__gt__', '__hash__', '__init__', '__init_subclass__', '__iter__', '__le__', '__len__', '__lt__', '__match_args__',\n",
       "'__module__', '__mul__', '__ne__', '__new__', '__reduce__', '__reduce_ex__', '__replace__', '__repr__', '__rmul__',\n",
       "'__setattr__', '__sizeof__', '__slots__', '__str__', '__subclasshook__', '_asdict', '_field_defaults', '_fields', \n",
       "'_make', '_replace', 'chain', 'count', 'draw_idx', 'index', 'is_last', 'point', 'stats', 'tuning']\n"
      ]
     },
     "metadata": {},
     "output_type": "display_data"
    },
    {
     "data": {
      "text/html": [
       "<pre style=\"white-space:pre;overflow-x:auto;line-height:normal;font-family:Menlo,'DejaVu Sans Mono',consolas,'Courier New',monospace\">Draw object attributes: ['__add__', '__class__', '__class_getitem__', '__contains__', '__delattr__', '__dir__', \n",
       "'__doc__', '__eq__', '__format__', '__ge__', '__getattribute__', '__getitem__', '__getnewargs__', '__getstate__', \n",
       "'__gt__', '__hash__', '__init__', '__init_subclass__', '__iter__', '__le__', '__len__', '__lt__', '__match_args__',\n",
       "'__module__', '__mul__', '__ne__', '__new__', '__reduce__', '__reduce_ex__', '__replace__', '__repr__', '__rmul__',\n",
       "'__setattr__', '__sizeof__', '__slots__', '__str__', '__subclasshook__', '_asdict', '_field_defaults', '_fields', \n",
       "'_make', '_replace', 'chain', 'count', 'draw_idx', 'index', 'is_last', 'point', 'stats', 'tuning']\n",
       "</pre>\n"
      ],
      "text/plain": [
       "Draw object attributes: ['__add__', '__class__', '__class_getitem__', '__contains__', '__delattr__', '__dir__', \n",
       "'__doc__', '__eq__', '__format__', '__ge__', '__getattribute__', '__getitem__', '__getnewargs__', '__getstate__', \n",
       "'__gt__', '__hash__', '__init__', '__init_subclass__', '__iter__', '__le__', '__len__', '__lt__', '__match_args__',\n",
       "'__module__', '__mul__', '__ne__', '__new__', '__reduce__', '__reduce_ex__', '__replace__', '__repr__', '__rmul__',\n",
       "'__setattr__', '__sizeof__', '__slots__', '__str__', '__subclasshook__', '_asdict', '_field_defaults', '_fields', \n",
       "'_make', '_replace', 'chain', 'count', 'draw_idx', 'index', 'is_last', 'point', 'stats', 'tuning']\n"
      ]
     },
     "metadata": {},
     "output_type": "display_data"
    },
    {
     "data": {
      "text/html": [
       "<pre style=\"white-space:pre;overflow-x:auto;line-height:normal;font-family:Menlo,'DejaVu Sans Mono',consolas,'Courier New',monospace\">Draw object attributes: ['__add__', '__class__', '__class_getitem__', '__contains__', '__delattr__', '__dir__', \n",
       "'__doc__', '__eq__', '__format__', '__ge__', '__getattribute__', '__getitem__', '__getnewargs__', '__getstate__', \n",
       "'__gt__', '__hash__', '__init__', '__init_subclass__', '__iter__', '__le__', '__len__', '__lt__', '__match_args__',\n",
       "'__module__', '__mul__', '__ne__', '__new__', '__reduce__', '__reduce_ex__', '__replace__', '__repr__', '__rmul__',\n",
       "'__setattr__', '__sizeof__', '__slots__', '__str__', '__subclasshook__', '_asdict', '_field_defaults', '_fields', \n",
       "'_make', '_replace', 'chain', 'count', 'draw_idx', 'index', 'is_last', 'point', 'stats', 'tuning']\n",
       "</pre>\n"
      ],
      "text/plain": [
       "Draw object attributes: ['__add__', '__class__', '__class_getitem__', '__contains__', '__delattr__', '__dir__', \n",
       "'__doc__', '__eq__', '__format__', '__ge__', '__getattribute__', '__getitem__', '__getnewargs__', '__getstate__', \n",
       "'__gt__', '__hash__', '__init__', '__init_subclass__', '__iter__', '__le__', '__len__', '__lt__', '__match_args__',\n",
       "'__module__', '__mul__', '__ne__', '__new__', '__reduce__', '__reduce_ex__', '__replace__', '__repr__', '__rmul__',\n",
       "'__setattr__', '__sizeof__', '__slots__', '__str__', '__subclasshook__', '_asdict', '_field_defaults', '_fields', \n",
       "'_make', '_replace', 'chain', 'count', 'draw_idx', 'index', 'is_last', 'point', 'stats', 'tuning']\n"
      ]
     },
     "metadata": {},
     "output_type": "display_data"
    },
    {
     "data": {
      "text/html": [
       "<pre style=\"white-space:pre;overflow-x:auto;line-height:normal;font-family:Menlo,'DejaVu Sans Mono',consolas,'Courier New',monospace\">Draw object attributes: ['__add__', '__class__', '__class_getitem__', '__contains__', '__delattr__', '__dir__', \n",
       "'__doc__', '__eq__', '__format__', '__ge__', '__getattribute__', '__getitem__', '__getnewargs__', '__getstate__', \n",
       "'__gt__', '__hash__', '__init__', '__init_subclass__', '__iter__', '__le__', '__len__', '__lt__', '__match_args__',\n",
       "'__module__', '__mul__', '__ne__', '__new__', '__reduce__', '__reduce_ex__', '__replace__', '__repr__', '__rmul__',\n",
       "'__setattr__', '__sizeof__', '__slots__', '__str__', '__subclasshook__', '_asdict', '_field_defaults', '_fields', \n",
       "'_make', '_replace', 'chain', 'count', 'draw_idx', 'index', 'is_last', 'point', 'stats', 'tuning']\n",
       "</pre>\n"
      ],
      "text/plain": [
       "Draw object attributes: ['__add__', '__class__', '__class_getitem__', '__contains__', '__delattr__', '__dir__', \n",
       "'__doc__', '__eq__', '__format__', '__ge__', '__getattribute__', '__getitem__', '__getnewargs__', '__getstate__', \n",
       "'__gt__', '__hash__', '__init__', '__init_subclass__', '__iter__', '__le__', '__len__', '__lt__', '__match_args__',\n",
       "'__module__', '__mul__', '__ne__', '__new__', '__reduce__', '__reduce_ex__', '__replace__', '__repr__', '__rmul__',\n",
       "'__setattr__', '__sizeof__', '__slots__', '__str__', '__subclasshook__', '_asdict', '_field_defaults', '_fields', \n",
       "'_make', '_replace', 'chain', 'count', 'draw_idx', 'index', 'is_last', 'point', 'stats', 'tuning']\n"
      ]
     },
     "metadata": {},
     "output_type": "display_data"
    },
    {
     "data": {
      "text/html": [
       "<pre style=\"white-space:pre;overflow-x:auto;line-height:normal;font-family:Menlo,'DejaVu Sans Mono',consolas,'Courier New',monospace\">Draw object attributes: ['__add__', '__class__', '__class_getitem__', '__contains__', '__delattr__', '__dir__', \n",
       "'__doc__', '__eq__', '__format__', '__ge__', '__getattribute__', '__getitem__', '__getnewargs__', '__getstate__', \n",
       "'__gt__', '__hash__', '__init__', '__init_subclass__', '__iter__', '__le__', '__len__', '__lt__', '__match_args__',\n",
       "'__module__', '__mul__', '__ne__', '__new__', '__reduce__', '__reduce_ex__', '__replace__', '__repr__', '__rmul__',\n",
       "'__setattr__', '__sizeof__', '__slots__', '__str__', '__subclasshook__', '_asdict', '_field_defaults', '_fields', \n",
       "'_make', '_replace', 'chain', 'count', 'draw_idx', 'index', 'is_last', 'point', 'stats', 'tuning']\n",
       "</pre>\n"
      ],
      "text/plain": [
       "Draw object attributes: ['__add__', '__class__', '__class_getitem__', '__contains__', '__delattr__', '__dir__', \n",
       "'__doc__', '__eq__', '__format__', '__ge__', '__getattribute__', '__getitem__', '__getnewargs__', '__getstate__', \n",
       "'__gt__', '__hash__', '__init__', '__init_subclass__', '__iter__', '__le__', '__len__', '__lt__', '__match_args__',\n",
       "'__module__', '__mul__', '__ne__', '__new__', '__reduce__', '__reduce_ex__', '__replace__', '__repr__', '__rmul__',\n",
       "'__setattr__', '__sizeof__', '__slots__', '__str__', '__subclasshook__', '_asdict', '_field_defaults', '_fields', \n",
       "'_make', '_replace', 'chain', 'count', 'draw_idx', 'index', 'is_last', 'point', 'stats', 'tuning']\n"
      ]
     },
     "metadata": {},
     "output_type": "display_data"
    },
    {
     "data": {
      "text/html": [
       "<pre style=\"white-space:pre;overflow-x:auto;line-height:normal;font-family:Menlo,'DejaVu Sans Mono',consolas,'Courier New',monospace\">Draw object attributes: ['__add__', '__class__', '__class_getitem__', '__contains__', '__delattr__', '__dir__', \n",
       "'__doc__', '__eq__', '__format__', '__ge__', '__getattribute__', '__getitem__', '__getnewargs__', '__getstate__', \n",
       "'__gt__', '__hash__', '__init__', '__init_subclass__', '__iter__', '__le__', '__len__', '__lt__', '__match_args__',\n",
       "'__module__', '__mul__', '__ne__', '__new__', '__reduce__', '__reduce_ex__', '__replace__', '__repr__', '__rmul__',\n",
       "'__setattr__', '__sizeof__', '__slots__', '__str__', '__subclasshook__', '_asdict', '_field_defaults', '_fields', \n",
       "'_make', '_replace', 'chain', 'count', 'draw_idx', 'index', 'is_last', 'point', 'stats', 'tuning']\n",
       "</pre>\n"
      ],
      "text/plain": [
       "Draw object attributes: ['__add__', '__class__', '__class_getitem__', '__contains__', '__delattr__', '__dir__', \n",
       "'__doc__', '__eq__', '__format__', '__ge__', '__getattribute__', '__getitem__', '__getnewargs__', '__getstate__', \n",
       "'__gt__', '__hash__', '__init__', '__init_subclass__', '__iter__', '__le__', '__len__', '__lt__', '__match_args__',\n",
       "'__module__', '__mul__', '__ne__', '__new__', '__reduce__', '__reduce_ex__', '__replace__', '__repr__', '__rmul__',\n",
       "'__setattr__', '__sizeof__', '__slots__', '__str__', '__subclasshook__', '_asdict', '_field_defaults', '_fields', \n",
       "'_make', '_replace', 'chain', 'count', 'draw_idx', 'index', 'is_last', 'point', 'stats', 'tuning']\n"
      ]
     },
     "metadata": {},
     "output_type": "display_data"
    },
    {
     "data": {
      "text/html": [
       "<pre style=\"white-space:pre;overflow-x:auto;line-height:normal;font-family:Menlo,'DejaVu Sans Mono',consolas,'Courier New',monospace\">Draw object attributes: ['__add__', '__class__', '__class_getitem__', '__contains__', '__delattr__', '__dir__', \n",
       "'__doc__', '__eq__', '__format__', '__ge__', '__getattribute__', '__getitem__', '__getnewargs__', '__getstate__', \n",
       "'__gt__', '__hash__', '__init__', '__init_subclass__', '__iter__', '__le__', '__len__', '__lt__', '__match_args__',\n",
       "'__module__', '__mul__', '__ne__', '__new__', '__reduce__', '__reduce_ex__', '__replace__', '__repr__', '__rmul__',\n",
       "'__setattr__', '__sizeof__', '__slots__', '__str__', '__subclasshook__', '_asdict', '_field_defaults', '_fields', \n",
       "'_make', '_replace', 'chain', 'count', 'draw_idx', 'index', 'is_last', 'point', 'stats', 'tuning']\n",
       "</pre>\n"
      ],
      "text/plain": [
       "Draw object attributes: ['__add__', '__class__', '__class_getitem__', '__contains__', '__delattr__', '__dir__', \n",
       "'__doc__', '__eq__', '__format__', '__ge__', '__getattribute__', '__getitem__', '__getnewargs__', '__getstate__', \n",
       "'__gt__', '__hash__', '__init__', '__init_subclass__', '__iter__', '__le__', '__len__', '__lt__', '__match_args__',\n",
       "'__module__', '__mul__', '__ne__', '__new__', '__reduce__', '__reduce_ex__', '__replace__', '__repr__', '__rmul__',\n",
       "'__setattr__', '__sizeof__', '__slots__', '__str__', '__subclasshook__', '_asdict', '_field_defaults', '_fields', \n",
       "'_make', '_replace', 'chain', 'count', 'draw_idx', 'index', 'is_last', 'point', 'stats', 'tuning']\n"
      ]
     },
     "metadata": {},
     "output_type": "display_data"
    },
    {
     "data": {
      "text/html": [
       "<pre style=\"white-space:pre;overflow-x:auto;line-height:normal;font-family:Menlo,'DejaVu Sans Mono',consolas,'Courier New',monospace\">Draw object attributes: ['__add__', '__class__', '__class_getitem__', '__contains__', '__delattr__', '__dir__', \n",
       "'__doc__', '__eq__', '__format__', '__ge__', '__getattribute__', '__getitem__', '__getnewargs__', '__getstate__', \n",
       "'__gt__', '__hash__', '__init__', '__init_subclass__', '__iter__', '__le__', '__len__', '__lt__', '__match_args__',\n",
       "'__module__', '__mul__', '__ne__', '__new__', '__reduce__', '__reduce_ex__', '__replace__', '__repr__', '__rmul__',\n",
       "'__setattr__', '__sizeof__', '__slots__', '__str__', '__subclasshook__', '_asdict', '_field_defaults', '_fields', \n",
       "'_make', '_replace', 'chain', 'count', 'draw_idx', 'index', 'is_last', 'point', 'stats', 'tuning']\n",
       "</pre>\n"
      ],
      "text/plain": [
       "Draw object attributes: ['__add__', '__class__', '__class_getitem__', '__contains__', '__delattr__', '__dir__', \n",
       "'__doc__', '__eq__', '__format__', '__ge__', '__getattribute__', '__getitem__', '__getnewargs__', '__getstate__', \n",
       "'__gt__', '__hash__', '__init__', '__init_subclass__', '__iter__', '__le__', '__len__', '__lt__', '__match_args__',\n",
       "'__module__', '__mul__', '__ne__', '__new__', '__reduce__', '__reduce_ex__', '__replace__', '__repr__', '__rmul__',\n",
       "'__setattr__', '__sizeof__', '__slots__', '__str__', '__subclasshook__', '_asdict', '_field_defaults', '_fields', \n",
       "'_make', '_replace', 'chain', 'count', 'draw_idx', 'index', 'is_last', 'point', 'stats', 'tuning']\n"
      ]
     },
     "metadata": {},
     "output_type": "display_data"
    },
    {
     "data": {
      "text/html": [
       "<pre style=\"white-space:pre;overflow-x:auto;line-height:normal;font-family:Menlo,'DejaVu Sans Mono',consolas,'Courier New',monospace\">Draw object attributes: ['__add__', '__class__', '__class_getitem__', '__contains__', '__delattr__', '__dir__', \n",
       "'__doc__', '__eq__', '__format__', '__ge__', '__getattribute__', '__getitem__', '__getnewargs__', '__getstate__', \n",
       "'__gt__', '__hash__', '__init__', '__init_subclass__', '__iter__', '__le__', '__len__', '__lt__', '__match_args__',\n",
       "'__module__', '__mul__', '__ne__', '__new__', '__reduce__', '__reduce_ex__', '__replace__', '__repr__', '__rmul__',\n",
       "'__setattr__', '__sizeof__', '__slots__', '__str__', '__subclasshook__', '_asdict', '_field_defaults', '_fields', \n",
       "'_make', '_replace', 'chain', 'count', 'draw_idx', 'index', 'is_last', 'point', 'stats', 'tuning']\n",
       "</pre>\n"
      ],
      "text/plain": [
       "Draw object attributes: ['__add__', '__class__', '__class_getitem__', '__contains__', '__delattr__', '__dir__', \n",
       "'__doc__', '__eq__', '__format__', '__ge__', '__getattribute__', '__getitem__', '__getnewargs__', '__getstate__', \n",
       "'__gt__', '__hash__', '__init__', '__init_subclass__', '__iter__', '__le__', '__len__', '__lt__', '__match_args__',\n",
       "'__module__', '__mul__', '__ne__', '__new__', '__reduce__', '__reduce_ex__', '__replace__', '__repr__', '__rmul__',\n",
       "'__setattr__', '__sizeof__', '__slots__', '__str__', '__subclasshook__', '_asdict', '_field_defaults', '_fields', \n",
       "'_make', '_replace', 'chain', 'count', 'draw_idx', 'index', 'is_last', 'point', 'stats', 'tuning']\n"
      ]
     },
     "metadata": {},
     "output_type": "display_data"
    },
    {
     "data": {
      "text/html": [
       "<pre style=\"white-space:pre;overflow-x:auto;line-height:normal;font-family:Menlo,'DejaVu Sans Mono',consolas,'Courier New',monospace\">Draw object attributes: ['__add__', '__class__', '__class_getitem__', '__contains__', '__delattr__', '__dir__', \n",
       "'__doc__', '__eq__', '__format__', '__ge__', '__getattribute__', '__getitem__', '__getnewargs__', '__getstate__', \n",
       "'__gt__', '__hash__', '__init__', '__init_subclass__', '__iter__', '__le__', '__len__', '__lt__', '__match_args__',\n",
       "'__module__', '__mul__', '__ne__', '__new__', '__reduce__', '__reduce_ex__', '__replace__', '__repr__', '__rmul__',\n",
       "'__setattr__', '__sizeof__', '__slots__', '__str__', '__subclasshook__', '_asdict', '_field_defaults', '_fields', \n",
       "'_make', '_replace', 'chain', 'count', 'draw_idx', 'index', 'is_last', 'point', 'stats', 'tuning']\n",
       "</pre>\n"
      ],
      "text/plain": [
       "Draw object attributes: ['__add__', '__class__', '__class_getitem__', '__contains__', '__delattr__', '__dir__', \n",
       "'__doc__', '__eq__', '__format__', '__ge__', '__getattribute__', '__getitem__', '__getnewargs__', '__getstate__', \n",
       "'__gt__', '__hash__', '__init__', '__init_subclass__', '__iter__', '__le__', '__len__', '__lt__', '__match_args__',\n",
       "'__module__', '__mul__', '__ne__', '__new__', '__reduce__', '__reduce_ex__', '__replace__', '__repr__', '__rmul__',\n",
       "'__setattr__', '__sizeof__', '__slots__', '__str__', '__subclasshook__', '_asdict', '_field_defaults', '_fields', \n",
       "'_make', '_replace', 'chain', 'count', 'draw_idx', 'index', 'is_last', 'point', 'stats', 'tuning']\n"
      ]
     },
     "metadata": {},
     "output_type": "display_data"
    },
    {
     "data": {
      "text/html": [
       "<pre style=\"white-space:pre;overflow-x:auto;line-height:normal;font-family:Menlo,'DejaVu Sans Mono',consolas,'Courier New',monospace\">Draw object attributes: ['__add__', '__class__', '__class_getitem__', '__contains__', '__delattr__', '__dir__', \n",
       "'__doc__', '__eq__', '__format__', '__ge__', '__getattribute__', '__getitem__', '__getnewargs__', '__getstate__', \n",
       "'__gt__', '__hash__', '__init__', '__init_subclass__', '__iter__', '__le__', '__len__', '__lt__', '__match_args__',\n",
       "'__module__', '__mul__', '__ne__', '__new__', '__reduce__', '__reduce_ex__', '__replace__', '__repr__', '__rmul__',\n",
       "'__setattr__', '__sizeof__', '__slots__', '__str__', '__subclasshook__', '_asdict', '_field_defaults', '_fields', \n",
       "'_make', '_replace', 'chain', 'count', 'draw_idx', 'index', 'is_last', 'point', 'stats', 'tuning']\n",
       "</pre>\n"
      ],
      "text/plain": [
       "Draw object attributes: ['__add__', '__class__', '__class_getitem__', '__contains__', '__delattr__', '__dir__', \n",
       "'__doc__', '__eq__', '__format__', '__ge__', '__getattribute__', '__getitem__', '__getnewargs__', '__getstate__', \n",
       "'__gt__', '__hash__', '__init__', '__init_subclass__', '__iter__', '__le__', '__len__', '__lt__', '__match_args__',\n",
       "'__module__', '__mul__', '__ne__', '__new__', '__reduce__', '__reduce_ex__', '__replace__', '__repr__', '__rmul__',\n",
       "'__setattr__', '__sizeof__', '__slots__', '__str__', '__subclasshook__', '_asdict', '_field_defaults', '_fields', \n",
       "'_make', '_replace', 'chain', 'count', 'draw_idx', 'index', 'is_last', 'point', 'stats', 'tuning']\n"
      ]
     },
     "metadata": {},
     "output_type": "display_data"
    },
    {
     "data": {
      "text/html": [
       "<pre style=\"white-space:pre;overflow-x:auto;line-height:normal;font-family:Menlo,'DejaVu Sans Mono',consolas,'Courier New',monospace\">Draw object attributes: ['__add__', '__class__', '__class_getitem__', '__contains__', '__delattr__', '__dir__', \n",
       "'__doc__', '__eq__', '__format__', '__ge__', '__getattribute__', '__getitem__', '__getnewargs__', '__getstate__', \n",
       "'__gt__', '__hash__', '__init__', '__init_subclass__', '__iter__', '__le__', '__len__', '__lt__', '__match_args__',\n",
       "'__module__', '__mul__', '__ne__', '__new__', '__reduce__', '__reduce_ex__', '__replace__', '__repr__', '__rmul__',\n",
       "'__setattr__', '__sizeof__', '__slots__', '__str__', '__subclasshook__', '_asdict', '_field_defaults', '_fields', \n",
       "'_make', '_replace', 'chain', 'count', 'draw_idx', 'index', 'is_last', 'point', 'stats', 'tuning']\n",
       "</pre>\n"
      ],
      "text/plain": [
       "Draw object attributes: ['__add__', '__class__', '__class_getitem__', '__contains__', '__delattr__', '__dir__', \n",
       "'__doc__', '__eq__', '__format__', '__ge__', '__getattribute__', '__getitem__', '__getnewargs__', '__getstate__', \n",
       "'__gt__', '__hash__', '__init__', '__init_subclass__', '__iter__', '__le__', '__len__', '__lt__', '__match_args__',\n",
       "'__module__', '__mul__', '__ne__', '__new__', '__reduce__', '__reduce_ex__', '__replace__', '__repr__', '__rmul__',\n",
       "'__setattr__', '__sizeof__', '__slots__', '__str__', '__subclasshook__', '_asdict', '_field_defaults', '_fields', \n",
       "'_make', '_replace', 'chain', 'count', 'draw_idx', 'index', 'is_last', 'point', 'stats', 'tuning']\n"
      ]
     },
     "metadata": {},
     "output_type": "display_data"
    },
    {
     "data": {
      "text/html": [
       "<pre style=\"white-space:pre;overflow-x:auto;line-height:normal;font-family:Menlo,'DejaVu Sans Mono',consolas,'Courier New',monospace\">Draw object attributes: ['__add__', '__class__', '__class_getitem__', '__contains__', '__delattr__', '__dir__', \n",
       "'__doc__', '__eq__', '__format__', '__ge__', '__getattribute__', '__getitem__', '__getnewargs__', '__getstate__', \n",
       "'__gt__', '__hash__', '__init__', '__init_subclass__', '__iter__', '__le__', '__len__', '__lt__', '__match_args__',\n",
       "'__module__', '__mul__', '__ne__', '__new__', '__reduce__', '__reduce_ex__', '__replace__', '__repr__', '__rmul__',\n",
       "'__setattr__', '__sizeof__', '__slots__', '__str__', '__subclasshook__', '_asdict', '_field_defaults', '_fields', \n",
       "'_make', '_replace', 'chain', 'count', 'draw_idx', 'index', 'is_last', 'point', 'stats', 'tuning']\n",
       "</pre>\n"
      ],
      "text/plain": [
       "Draw object attributes: ['__add__', '__class__', '__class_getitem__', '__contains__', '__delattr__', '__dir__', \n",
       "'__doc__', '__eq__', '__format__', '__ge__', '__getattribute__', '__getitem__', '__getnewargs__', '__getstate__', \n",
       "'__gt__', '__hash__', '__init__', '__init_subclass__', '__iter__', '__le__', '__len__', '__lt__', '__match_args__',\n",
       "'__module__', '__mul__', '__ne__', '__new__', '__reduce__', '__reduce_ex__', '__replace__', '__repr__', '__rmul__',\n",
       "'__setattr__', '__sizeof__', '__slots__', '__str__', '__subclasshook__', '_asdict', '_field_defaults', '_fields', \n",
       "'_make', '_replace', 'chain', 'count', 'draw_idx', 'index', 'is_last', 'point', 'stats', 'tuning']\n"
      ]
     },
     "metadata": {},
     "output_type": "display_data"
    },
    {
     "data": {
      "text/html": [
       "<pre style=\"white-space:pre;overflow-x:auto;line-height:normal;font-family:Menlo,'DejaVu Sans Mono',consolas,'Courier New',monospace\">Draw object attributes: ['__add__', '__class__', '__class_getitem__', '__contains__', '__delattr__', '__dir__', \n",
       "'__doc__', '__eq__', '__format__', '__ge__', '__getattribute__', '__getitem__', '__getnewargs__', '__getstate__', \n",
       "'__gt__', '__hash__', '__init__', '__init_subclass__', '__iter__', '__le__', '__len__', '__lt__', '__match_args__',\n",
       "'__module__', '__mul__', '__ne__', '__new__', '__reduce__', '__reduce_ex__', '__replace__', '__repr__', '__rmul__',\n",
       "'__setattr__', '__sizeof__', '__slots__', '__str__', '__subclasshook__', '_asdict', '_field_defaults', '_fields', \n",
       "'_make', '_replace', 'chain', 'count', 'draw_idx', 'index', 'is_last', 'point', 'stats', 'tuning']\n",
       "</pre>\n"
      ],
      "text/plain": [
       "Draw object attributes: ['__add__', '__class__', '__class_getitem__', '__contains__', '__delattr__', '__dir__', \n",
       "'__doc__', '__eq__', '__format__', '__ge__', '__getattribute__', '__getitem__', '__getnewargs__', '__getstate__', \n",
       "'__gt__', '__hash__', '__init__', '__init_subclass__', '__iter__', '__le__', '__len__', '__lt__', '__match_args__',\n",
       "'__module__', '__mul__', '__ne__', '__new__', '__reduce__', '__reduce_ex__', '__replace__', '__repr__', '__rmul__',\n",
       "'__setattr__', '__sizeof__', '__slots__', '__str__', '__subclasshook__', '_asdict', '_field_defaults', '_fields', \n",
       "'_make', '_replace', 'chain', 'count', 'draw_idx', 'index', 'is_last', 'point', 'stats', 'tuning']\n"
      ]
     },
     "metadata": {},
     "output_type": "display_data"
    },
    {
     "data": {
      "text/html": [
       "<pre style=\"white-space:pre;overflow-x:auto;line-height:normal;font-family:Menlo,'DejaVu Sans Mono',consolas,'Courier New',monospace\">Draw object attributes: ['__add__', '__class__', '__class_getitem__', '__contains__', '__delattr__', '__dir__', \n",
       "'__doc__', '__eq__', '__format__', '__ge__', '__getattribute__', '__getitem__', '__getnewargs__', '__getstate__', \n",
       "'__gt__', '__hash__', '__init__', '__init_subclass__', '__iter__', '__le__', '__len__', '__lt__', '__match_args__',\n",
       "'__module__', '__mul__', '__ne__', '__new__', '__reduce__', '__reduce_ex__', '__replace__', '__repr__', '__rmul__',\n",
       "'__setattr__', '__sizeof__', '__slots__', '__str__', '__subclasshook__', '_asdict', '_field_defaults', '_fields', \n",
       "'_make', '_replace', 'chain', 'count', 'draw_idx', 'index', 'is_last', 'point', 'stats', 'tuning']\n",
       "</pre>\n"
      ],
      "text/plain": [
       "Draw object attributes: ['__add__', '__class__', '__class_getitem__', '__contains__', '__delattr__', '__dir__', \n",
       "'__doc__', '__eq__', '__format__', '__ge__', '__getattribute__', '__getitem__', '__getnewargs__', '__getstate__', \n",
       "'__gt__', '__hash__', '__init__', '__init_subclass__', '__iter__', '__le__', '__len__', '__lt__', '__match_args__',\n",
       "'__module__', '__mul__', '__ne__', '__new__', '__reduce__', '__reduce_ex__', '__replace__', '__repr__', '__rmul__',\n",
       "'__setattr__', '__sizeof__', '__slots__', '__str__', '__subclasshook__', '_asdict', '_field_defaults', '_fields', \n",
       "'_make', '_replace', 'chain', 'count', 'draw_idx', 'index', 'is_last', 'point', 'stats', 'tuning']\n"
      ]
     },
     "metadata": {},
     "output_type": "display_data"
    },
    {
     "data": {
      "text/html": [
       "<pre style=\"white-space:pre;overflow-x:auto;line-height:normal;font-family:Menlo,'DejaVu Sans Mono',consolas,'Courier New',monospace\">Draw object attributes: ['__add__', '__class__', '__class_getitem__', '__contains__', '__delattr__', '__dir__', \n",
       "'__doc__', '__eq__', '__format__', '__ge__', '__getattribute__', '__getitem__', '__getnewargs__', '__getstate__', \n",
       "'__gt__', '__hash__', '__init__', '__init_subclass__', '__iter__', '__le__', '__len__', '__lt__', '__match_args__',\n",
       "'__module__', '__mul__', '__ne__', '__new__', '__reduce__', '__reduce_ex__', '__replace__', '__repr__', '__rmul__',\n",
       "'__setattr__', '__sizeof__', '__slots__', '__str__', '__subclasshook__', '_asdict', '_field_defaults', '_fields', \n",
       "'_make', '_replace', 'chain', 'count', 'draw_idx', 'index', 'is_last', 'point', 'stats', 'tuning']\n",
       "</pre>\n"
      ],
      "text/plain": [
       "Draw object attributes: ['__add__', '__class__', '__class_getitem__', '__contains__', '__delattr__', '__dir__', \n",
       "'__doc__', '__eq__', '__format__', '__ge__', '__getattribute__', '__getitem__', '__getnewargs__', '__getstate__', \n",
       "'__gt__', '__hash__', '__init__', '__init_subclass__', '__iter__', '__le__', '__len__', '__lt__', '__match_args__',\n",
       "'__module__', '__mul__', '__ne__', '__new__', '__reduce__', '__reduce_ex__', '__replace__', '__repr__', '__rmul__',\n",
       "'__setattr__', '__sizeof__', '__slots__', '__str__', '__subclasshook__', '_asdict', '_field_defaults', '_fields', \n",
       "'_make', '_replace', 'chain', 'count', 'draw_idx', 'index', 'is_last', 'point', 'stats', 'tuning']\n"
      ]
     },
     "metadata": {},
     "output_type": "display_data"
    },
    {
     "data": {
      "text/html": [
       "<pre style=\"white-space:pre;overflow-x:auto;line-height:normal;font-family:Menlo,'DejaVu Sans Mono',consolas,'Courier New',monospace\">Draw object attributes: ['__add__', '__class__', '__class_getitem__', '__contains__', '__delattr__', '__dir__', \n",
       "'__doc__', '__eq__', '__format__', '__ge__', '__getattribute__', '__getitem__', '__getnewargs__', '__getstate__', \n",
       "'__gt__', '__hash__', '__init__', '__init_subclass__', '__iter__', '__le__', '__len__', '__lt__', '__match_args__',\n",
       "'__module__', '__mul__', '__ne__', '__new__', '__reduce__', '__reduce_ex__', '__replace__', '__repr__', '__rmul__',\n",
       "'__setattr__', '__sizeof__', '__slots__', '__str__', '__subclasshook__', '_asdict', '_field_defaults', '_fields', \n",
       "'_make', '_replace', 'chain', 'count', 'draw_idx', 'index', 'is_last', 'point', 'stats', 'tuning']\n",
       "</pre>\n"
      ],
      "text/plain": [
       "Draw object attributes: ['__add__', '__class__', '__class_getitem__', '__contains__', '__delattr__', '__dir__', \n",
       "'__doc__', '__eq__', '__format__', '__ge__', '__getattribute__', '__getitem__', '__getnewargs__', '__getstate__', \n",
       "'__gt__', '__hash__', '__init__', '__init_subclass__', '__iter__', '__le__', '__len__', '__lt__', '__match_args__',\n",
       "'__module__', '__mul__', '__ne__', '__new__', '__reduce__', '__reduce_ex__', '__replace__', '__repr__', '__rmul__',\n",
       "'__setattr__', '__sizeof__', '__slots__', '__str__', '__subclasshook__', '_asdict', '_field_defaults', '_fields', \n",
       "'_make', '_replace', 'chain', 'count', 'draw_idx', 'index', 'is_last', 'point', 'stats', 'tuning']\n"
      ]
     },
     "metadata": {},
     "output_type": "display_data"
    },
    {
     "data": {
      "text/html": [
       "<pre style=\"white-space:pre;overflow-x:auto;line-height:normal;font-family:Menlo,'DejaVu Sans Mono',consolas,'Courier New',monospace\">Draw object attributes: ['__add__', '__class__', '__class_getitem__', '__contains__', '__delattr__', '__dir__', \n",
       "'__doc__', '__eq__', '__format__', '__ge__', '__getattribute__', '__getitem__', '__getnewargs__', '__getstate__', \n",
       "'__gt__', '__hash__', '__init__', '__init_subclass__', '__iter__', '__le__', '__len__', '__lt__', '__match_args__',\n",
       "'__module__', '__mul__', '__ne__', '__new__', '__reduce__', '__reduce_ex__', '__replace__', '__repr__', '__rmul__',\n",
       "'__setattr__', '__sizeof__', '__slots__', '__str__', '__subclasshook__', '_asdict', '_field_defaults', '_fields', \n",
       "'_make', '_replace', 'chain', 'count', 'draw_idx', 'index', 'is_last', 'point', 'stats', 'tuning']\n",
       "</pre>\n"
      ],
      "text/plain": [
       "Draw object attributes: ['__add__', '__class__', '__class_getitem__', '__contains__', '__delattr__', '__dir__', \n",
       "'__doc__', '__eq__', '__format__', '__ge__', '__getattribute__', '__getitem__', '__getnewargs__', '__getstate__', \n",
       "'__gt__', '__hash__', '__init__', '__init_subclass__', '__iter__', '__le__', '__len__', '__lt__', '__match_args__',\n",
       "'__module__', '__mul__', '__ne__', '__new__', '__reduce__', '__reduce_ex__', '__replace__', '__repr__', '__rmul__',\n",
       "'__setattr__', '__sizeof__', '__slots__', '__str__', '__subclasshook__', '_asdict', '_field_defaults', '_fields', \n",
       "'_make', '_replace', 'chain', 'count', 'draw_idx', 'index', 'is_last', 'point', 'stats', 'tuning']\n"
      ]
     },
     "metadata": {},
     "output_type": "display_data"
    },
    {
     "data": {
      "text/html": [
       "<pre style=\"white-space:pre;overflow-x:auto;line-height:normal;font-family:Menlo,'DejaVu Sans Mono',consolas,'Courier New',monospace\">Draw object attributes: ['__add__', '__class__', '__class_getitem__', '__contains__', '__delattr__', '__dir__', \n",
       "'__doc__', '__eq__', '__format__', '__ge__', '__getattribute__', '__getitem__', '__getnewargs__', '__getstate__', \n",
       "'__gt__', '__hash__', '__init__', '__init_subclass__', '__iter__', '__le__', '__len__', '__lt__', '__match_args__',\n",
       "'__module__', '__mul__', '__ne__', '__new__', '__reduce__', '__reduce_ex__', '__replace__', '__repr__', '__rmul__',\n",
       "'__setattr__', '__sizeof__', '__slots__', '__str__', '__subclasshook__', '_asdict', '_field_defaults', '_fields', \n",
       "'_make', '_replace', 'chain', 'count', 'draw_idx', 'index', 'is_last', 'point', 'stats', 'tuning']\n",
       "</pre>\n"
      ],
      "text/plain": [
       "Draw object attributes: ['__add__', '__class__', '__class_getitem__', '__contains__', '__delattr__', '__dir__', \n",
       "'__doc__', '__eq__', '__format__', '__ge__', '__getattribute__', '__getitem__', '__getnewargs__', '__getstate__', \n",
       "'__gt__', '__hash__', '__init__', '__init_subclass__', '__iter__', '__le__', '__len__', '__lt__', '__match_args__',\n",
       "'__module__', '__mul__', '__ne__', '__new__', '__reduce__', '__reduce_ex__', '__replace__', '__repr__', '__rmul__',\n",
       "'__setattr__', '__sizeof__', '__slots__', '__str__', '__subclasshook__', '_asdict', '_field_defaults', '_fields', \n",
       "'_make', '_replace', 'chain', 'count', 'draw_idx', 'index', 'is_last', 'point', 'stats', 'tuning']\n"
      ]
     },
     "metadata": {},
     "output_type": "display_data"
    },
    {
     "data": {
      "text/html": [
       "<pre style=\"white-space:pre;overflow-x:auto;line-height:normal;font-family:Menlo,'DejaVu Sans Mono',consolas,'Courier New',monospace\">Draw object attributes: ['__add__', '__class__', '__class_getitem__', '__contains__', '__delattr__', '__dir__', \n",
       "'__doc__', '__eq__', '__format__', '__ge__', '__getattribute__', '__getitem__', '__getnewargs__', '__getstate__', \n",
       "'__gt__', '__hash__', '__init__', '__init_subclass__', '__iter__', '__le__', '__len__', '__lt__', '__match_args__',\n",
       "'__module__', '__mul__', '__ne__', '__new__', '__reduce__', '__reduce_ex__', '__replace__', '__repr__', '__rmul__',\n",
       "'__setattr__', '__sizeof__', '__slots__', '__str__', '__subclasshook__', '_asdict', '_field_defaults', '_fields', \n",
       "'_make', '_replace', 'chain', 'count', 'draw_idx', 'index', 'is_last', 'point', 'stats', 'tuning']\n",
       "</pre>\n"
      ],
      "text/plain": [
       "Draw object attributes: ['__add__', '__class__', '__class_getitem__', '__contains__', '__delattr__', '__dir__', \n",
       "'__doc__', '__eq__', '__format__', '__ge__', '__getattribute__', '__getitem__', '__getnewargs__', '__getstate__', \n",
       "'__gt__', '__hash__', '__init__', '__init_subclass__', '__iter__', '__le__', '__len__', '__lt__', '__match_args__',\n",
       "'__module__', '__mul__', '__ne__', '__new__', '__reduce__', '__reduce_ex__', '__replace__', '__repr__', '__rmul__',\n",
       "'__setattr__', '__sizeof__', '__slots__', '__str__', '__subclasshook__', '_asdict', '_field_defaults', '_fields', \n",
       "'_make', '_replace', 'chain', 'count', 'draw_idx', 'index', 'is_last', 'point', 'stats', 'tuning']\n"
      ]
     },
     "metadata": {},
     "output_type": "display_data"
    },
    {
     "data": {
      "text/html": [
       "<pre style=\"white-space:pre;overflow-x:auto;line-height:normal;font-family:Menlo,'DejaVu Sans Mono',consolas,'Courier New',monospace\">Draw object attributes: ['__add__', '__class__', '__class_getitem__', '__contains__', '__delattr__', '__dir__', \n",
       "'__doc__', '__eq__', '__format__', '__ge__', '__getattribute__', '__getitem__', '__getnewargs__', '__getstate__', \n",
       "'__gt__', '__hash__', '__init__', '__init_subclass__', '__iter__', '__le__', '__len__', '__lt__', '__match_args__',\n",
       "'__module__', '__mul__', '__ne__', '__new__', '__reduce__', '__reduce_ex__', '__replace__', '__repr__', '__rmul__',\n",
       "'__setattr__', '__sizeof__', '__slots__', '__str__', '__subclasshook__', '_asdict', '_field_defaults', '_fields', \n",
       "'_make', '_replace', 'chain', 'count', 'draw_idx', 'index', 'is_last', 'point', 'stats', 'tuning']\n",
       "</pre>\n"
      ],
      "text/plain": [
       "Draw object attributes: ['__add__', '__class__', '__class_getitem__', '__contains__', '__delattr__', '__dir__', \n",
       "'__doc__', '__eq__', '__format__', '__ge__', '__getattribute__', '__getitem__', '__getnewargs__', '__getstate__', \n",
       "'__gt__', '__hash__', '__init__', '__init_subclass__', '__iter__', '__le__', '__len__', '__lt__', '__match_args__',\n",
       "'__module__', '__mul__', '__ne__', '__new__', '__reduce__', '__reduce_ex__', '__replace__', '__repr__', '__rmul__',\n",
       "'__setattr__', '__sizeof__', '__slots__', '__str__', '__subclasshook__', '_asdict', '_field_defaults', '_fields', \n",
       "'_make', '_replace', 'chain', 'count', 'draw_idx', 'index', 'is_last', 'point', 'stats', 'tuning']\n"
      ]
     },
     "metadata": {},
     "output_type": "display_data"
    },
    {
     "data": {
      "text/html": [
       "<pre style=\"white-space:pre;overflow-x:auto;line-height:normal;font-family:Menlo,'DejaVu Sans Mono',consolas,'Courier New',monospace\">Draw object attributes: ['__add__', '__class__', '__class_getitem__', '__contains__', '__delattr__', '__dir__', \n",
       "'__doc__', '__eq__', '__format__', '__ge__', '__getattribute__', '__getitem__', '__getnewargs__', '__getstate__', \n",
       "'__gt__', '__hash__', '__init__', '__init_subclass__', '__iter__', '__le__', '__len__', '__lt__', '__match_args__',\n",
       "'__module__', '__mul__', '__ne__', '__new__', '__reduce__', '__reduce_ex__', '__replace__', '__repr__', '__rmul__',\n",
       "'__setattr__', '__sizeof__', '__slots__', '__str__', '__subclasshook__', '_asdict', '_field_defaults', '_fields', \n",
       "'_make', '_replace', 'chain', 'count', 'draw_idx', 'index', 'is_last', 'point', 'stats', 'tuning']\n",
       "</pre>\n"
      ],
      "text/plain": [
       "Draw object attributes: ['__add__', '__class__', '__class_getitem__', '__contains__', '__delattr__', '__dir__', \n",
       "'__doc__', '__eq__', '__format__', '__ge__', '__getattribute__', '__getitem__', '__getnewargs__', '__getstate__', \n",
       "'__gt__', '__hash__', '__init__', '__init_subclass__', '__iter__', '__le__', '__len__', '__lt__', '__match_args__',\n",
       "'__module__', '__mul__', '__ne__', '__new__', '__reduce__', '__reduce_ex__', '__replace__', '__repr__', '__rmul__',\n",
       "'__setattr__', '__sizeof__', '__slots__', '__str__', '__subclasshook__', '_asdict', '_field_defaults', '_fields', \n",
       "'_make', '_replace', 'chain', 'count', 'draw_idx', 'index', 'is_last', 'point', 'stats', 'tuning']\n"
      ]
     },
     "metadata": {},
     "output_type": "display_data"
    },
    {
     "data": {
      "text/html": [
       "<pre style=\"white-space:pre;overflow-x:auto;line-height:normal;font-family:Menlo,'DejaVu Sans Mono',consolas,'Courier New',monospace\">Draw object attributes: ['__add__', '__class__', '__class_getitem__', '__contains__', '__delattr__', '__dir__', \n",
       "'__doc__', '__eq__', '__format__', '__ge__', '__getattribute__', '__getitem__', '__getnewargs__', '__getstate__', \n",
       "'__gt__', '__hash__', '__init__', '__init_subclass__', '__iter__', '__le__', '__len__', '__lt__', '__match_args__',\n",
       "'__module__', '__mul__', '__ne__', '__new__', '__reduce__', '__reduce_ex__', '__replace__', '__repr__', '__rmul__',\n",
       "'__setattr__', '__sizeof__', '__slots__', '__str__', '__subclasshook__', '_asdict', '_field_defaults', '_fields', \n",
       "'_make', '_replace', 'chain', 'count', 'draw_idx', 'index', 'is_last', 'point', 'stats', 'tuning']\n",
       "</pre>\n"
      ],
      "text/plain": [
       "Draw object attributes: ['__add__', '__class__', '__class_getitem__', '__contains__', '__delattr__', '__dir__', \n",
       "'__doc__', '__eq__', '__format__', '__ge__', '__getattribute__', '__getitem__', '__getnewargs__', '__getstate__', \n",
       "'__gt__', '__hash__', '__init__', '__init_subclass__', '__iter__', '__le__', '__len__', '__lt__', '__match_args__',\n",
       "'__module__', '__mul__', '__ne__', '__new__', '__reduce__', '__reduce_ex__', '__replace__', '__repr__', '__rmul__',\n",
       "'__setattr__', '__sizeof__', '__slots__', '__str__', '__subclasshook__', '_asdict', '_field_defaults', '_fields', \n",
       "'_make', '_replace', 'chain', 'count', 'draw_idx', 'index', 'is_last', 'point', 'stats', 'tuning']\n"
      ]
     },
     "metadata": {},
     "output_type": "display_data"
    },
    {
     "data": {
      "text/html": [
       "<pre style=\"white-space:pre;overflow-x:auto;line-height:normal;font-family:Menlo,'DejaVu Sans Mono',consolas,'Courier New',monospace\">Draw object attributes: ['__add__', '__class__', '__class_getitem__', '__contains__', '__delattr__', '__dir__', \n",
       "'__doc__', '__eq__', '__format__', '__ge__', '__getattribute__', '__getitem__', '__getnewargs__', '__getstate__', \n",
       "'__gt__', '__hash__', '__init__', '__init_subclass__', '__iter__', '__le__', '__len__', '__lt__', '__match_args__',\n",
       "'__module__', '__mul__', '__ne__', '__new__', '__reduce__', '__reduce_ex__', '__replace__', '__repr__', '__rmul__',\n",
       "'__setattr__', '__sizeof__', '__slots__', '__str__', '__subclasshook__', '_asdict', '_field_defaults', '_fields', \n",
       "'_make', '_replace', 'chain', 'count', 'draw_idx', 'index', 'is_last', 'point', 'stats', 'tuning']\n",
       "</pre>\n"
      ],
      "text/plain": [
       "Draw object attributes: ['__add__', '__class__', '__class_getitem__', '__contains__', '__delattr__', '__dir__', \n",
       "'__doc__', '__eq__', '__format__', '__ge__', '__getattribute__', '__getitem__', '__getnewargs__', '__getstate__', \n",
       "'__gt__', '__hash__', '__init__', '__init_subclass__', '__iter__', '__le__', '__len__', '__lt__', '__match_args__',\n",
       "'__module__', '__mul__', '__ne__', '__new__', '__reduce__', '__reduce_ex__', '__replace__', '__repr__', '__rmul__',\n",
       "'__setattr__', '__sizeof__', '__slots__', '__str__', '__subclasshook__', '_asdict', '_field_defaults', '_fields', \n",
       "'_make', '_replace', 'chain', 'count', 'draw_idx', 'index', 'is_last', 'point', 'stats', 'tuning']\n"
      ]
     },
     "metadata": {},
     "output_type": "display_data"
    },
    {
     "data": {
      "text/html": [
       "<pre style=\"white-space:pre;overflow-x:auto;line-height:normal;font-family:Menlo,'DejaVu Sans Mono',consolas,'Courier New',monospace\">Draw object attributes: ['__add__', '__class__', '__class_getitem__', '__contains__', '__delattr__', '__dir__', \n",
       "'__doc__', '__eq__', '__format__', '__ge__', '__getattribute__', '__getitem__', '__getnewargs__', '__getstate__', \n",
       "'__gt__', '__hash__', '__init__', '__init_subclass__', '__iter__', '__le__', '__len__', '__lt__', '__match_args__',\n",
       "'__module__', '__mul__', '__ne__', '__new__', '__reduce__', '__reduce_ex__', '__replace__', '__repr__', '__rmul__',\n",
       "'__setattr__', '__sizeof__', '__slots__', '__str__', '__subclasshook__', '_asdict', '_field_defaults', '_fields', \n",
       "'_make', '_replace', 'chain', 'count', 'draw_idx', 'index', 'is_last', 'point', 'stats', 'tuning']\n",
       "</pre>\n"
      ],
      "text/plain": [
       "Draw object attributes: ['__add__', '__class__', '__class_getitem__', '__contains__', '__delattr__', '__dir__', \n",
       "'__doc__', '__eq__', '__format__', '__ge__', '__getattribute__', '__getitem__', '__getnewargs__', '__getstate__', \n",
       "'__gt__', '__hash__', '__init__', '__init_subclass__', '__iter__', '__le__', '__len__', '__lt__', '__match_args__',\n",
       "'__module__', '__mul__', '__ne__', '__new__', '__reduce__', '__reduce_ex__', '__replace__', '__repr__', '__rmul__',\n",
       "'__setattr__', '__sizeof__', '__slots__', '__str__', '__subclasshook__', '_asdict', '_field_defaults', '_fields', \n",
       "'_make', '_replace', 'chain', 'count', 'draw_idx', 'index', 'is_last', 'point', 'stats', 'tuning']\n"
      ]
     },
     "metadata": {},
     "output_type": "display_data"
    },
    {
     "data": {
      "text/html": [
       "<pre style=\"white-space:pre;overflow-x:auto;line-height:normal;font-family:Menlo,'DejaVu Sans Mono',consolas,'Courier New',monospace\">Draw object attributes: ['__add__', '__class__', '__class_getitem__', '__contains__', '__delattr__', '__dir__', \n",
       "'__doc__', '__eq__', '__format__', '__ge__', '__getattribute__', '__getitem__', '__getnewargs__', '__getstate__', \n",
       "'__gt__', '__hash__', '__init__', '__init_subclass__', '__iter__', '__le__', '__len__', '__lt__', '__match_args__',\n",
       "'__module__', '__mul__', '__ne__', '__new__', '__reduce__', '__reduce_ex__', '__replace__', '__repr__', '__rmul__',\n",
       "'__setattr__', '__sizeof__', '__slots__', '__str__', '__subclasshook__', '_asdict', '_field_defaults', '_fields', \n",
       "'_make', '_replace', 'chain', 'count', 'draw_idx', 'index', 'is_last', 'point', 'stats', 'tuning']\n",
       "</pre>\n"
      ],
      "text/plain": [
       "Draw object attributes: ['__add__', '__class__', '__class_getitem__', '__contains__', '__delattr__', '__dir__', \n",
       "'__doc__', '__eq__', '__format__', '__ge__', '__getattribute__', '__getitem__', '__getnewargs__', '__getstate__', \n",
       "'__gt__', '__hash__', '__init__', '__init_subclass__', '__iter__', '__le__', '__len__', '__lt__', '__match_args__',\n",
       "'__module__', '__mul__', '__ne__', '__new__', '__reduce__', '__reduce_ex__', '__replace__', '__repr__', '__rmul__',\n",
       "'__setattr__', '__sizeof__', '__slots__', '__str__', '__subclasshook__', '_asdict', '_field_defaults', '_fields', \n",
       "'_make', '_replace', 'chain', 'count', 'draw_idx', 'index', 'is_last', 'point', 'stats', 'tuning']\n"
      ]
     },
     "metadata": {},
     "output_type": "display_data"
    },
    {
     "data": {
      "text/html": [
       "<pre style=\"white-space:pre;overflow-x:auto;line-height:normal;font-family:Menlo,'DejaVu Sans Mono',consolas,'Courier New',monospace\">Draw object attributes: ['__add__', '__class__', '__class_getitem__', '__contains__', '__delattr__', '__dir__', \n",
       "'__doc__', '__eq__', '__format__', '__ge__', '__getattribute__', '__getitem__', '__getnewargs__', '__getstate__', \n",
       "'__gt__', '__hash__', '__init__', '__init_subclass__', '__iter__', '__le__', '__len__', '__lt__', '__match_args__',\n",
       "'__module__', '__mul__', '__ne__', '__new__', '__reduce__', '__reduce_ex__', '__replace__', '__repr__', '__rmul__',\n",
       "'__setattr__', '__sizeof__', '__slots__', '__str__', '__subclasshook__', '_asdict', '_field_defaults', '_fields', \n",
       "'_make', '_replace', 'chain', 'count', 'draw_idx', 'index', 'is_last', 'point', 'stats', 'tuning']\n",
       "</pre>\n"
      ],
      "text/plain": [
       "Draw object attributes: ['__add__', '__class__', '__class_getitem__', '__contains__', '__delattr__', '__dir__', \n",
       "'__doc__', '__eq__', '__format__', '__ge__', '__getattribute__', '__getitem__', '__getnewargs__', '__getstate__', \n",
       "'__gt__', '__hash__', '__init__', '__init_subclass__', '__iter__', '__le__', '__len__', '__lt__', '__match_args__',\n",
       "'__module__', '__mul__', '__ne__', '__new__', '__reduce__', '__reduce_ex__', '__replace__', '__repr__', '__rmul__',\n",
       "'__setattr__', '__sizeof__', '__slots__', '__str__', '__subclasshook__', '_asdict', '_field_defaults', '_fields', \n",
       "'_make', '_replace', 'chain', 'count', 'draw_idx', 'index', 'is_last', 'point', 'stats', 'tuning']\n"
      ]
     },
     "metadata": {},
     "output_type": "display_data"
    },
    {
     "data": {
      "text/html": [
       "<pre style=\"white-space:pre;overflow-x:auto;line-height:normal;font-family:Menlo,'DejaVu Sans Mono',consolas,'Courier New',monospace\">Draw object attributes: ['__add__', '__class__', '__class_getitem__', '__contains__', '__delattr__', '__dir__', \n",
       "'__doc__', '__eq__', '__format__', '__ge__', '__getattribute__', '__getitem__', '__getnewargs__', '__getstate__', \n",
       "'__gt__', '__hash__', '__init__', '__init_subclass__', '__iter__', '__le__', '__len__', '__lt__', '__match_args__',\n",
       "'__module__', '__mul__', '__ne__', '__new__', '__reduce__', '__reduce_ex__', '__replace__', '__repr__', '__rmul__',\n",
       "'__setattr__', '__sizeof__', '__slots__', '__str__', '__subclasshook__', '_asdict', '_field_defaults', '_fields', \n",
       "'_make', '_replace', 'chain', 'count', 'draw_idx', 'index', 'is_last', 'point', 'stats', 'tuning']\n",
       "</pre>\n"
      ],
      "text/plain": [
       "Draw object attributes: ['__add__', '__class__', '__class_getitem__', '__contains__', '__delattr__', '__dir__', \n",
       "'__doc__', '__eq__', '__format__', '__ge__', '__getattribute__', '__getitem__', '__getnewargs__', '__getstate__', \n",
       "'__gt__', '__hash__', '__init__', '__init_subclass__', '__iter__', '__le__', '__len__', '__lt__', '__match_args__',\n",
       "'__module__', '__mul__', '__ne__', '__new__', '__reduce__', '__reduce_ex__', '__replace__', '__repr__', '__rmul__',\n",
       "'__setattr__', '__sizeof__', '__slots__', '__str__', '__subclasshook__', '_asdict', '_field_defaults', '_fields', \n",
       "'_make', '_replace', 'chain', 'count', 'draw_idx', 'index', 'is_last', 'point', 'stats', 'tuning']\n"
      ]
     },
     "metadata": {},
     "output_type": "display_data"
    },
    {
     "data": {
      "text/html": [
       "<pre style=\"white-space:pre;overflow-x:auto;line-height:normal;font-family:Menlo,'DejaVu Sans Mono',consolas,'Courier New',monospace\">Draw object attributes: ['__add__', '__class__', '__class_getitem__', '__contains__', '__delattr__', '__dir__', \n",
       "'__doc__', '__eq__', '__format__', '__ge__', '__getattribute__', '__getitem__', '__getnewargs__', '__getstate__', \n",
       "'__gt__', '__hash__', '__init__', '__init_subclass__', '__iter__', '__le__', '__len__', '__lt__', '__match_args__',\n",
       "'__module__', '__mul__', '__ne__', '__new__', '__reduce__', '__reduce_ex__', '__replace__', '__repr__', '__rmul__',\n",
       "'__setattr__', '__sizeof__', '__slots__', '__str__', '__subclasshook__', '_asdict', '_field_defaults', '_fields', \n",
       "'_make', '_replace', 'chain', 'count', 'draw_idx', 'index', 'is_last', 'point', 'stats', 'tuning']\n",
       "</pre>\n"
      ],
      "text/plain": [
       "Draw object attributes: ['__add__', '__class__', '__class_getitem__', '__contains__', '__delattr__', '__dir__', \n",
       "'__doc__', '__eq__', '__format__', '__ge__', '__getattribute__', '__getitem__', '__getnewargs__', '__getstate__', \n",
       "'__gt__', '__hash__', '__init__', '__init_subclass__', '__iter__', '__le__', '__len__', '__lt__', '__match_args__',\n",
       "'__module__', '__mul__', '__ne__', '__new__', '__reduce__', '__reduce_ex__', '__replace__', '__repr__', '__rmul__',\n",
       "'__setattr__', '__sizeof__', '__slots__', '__str__', '__subclasshook__', '_asdict', '_field_defaults', '_fields', \n",
       "'_make', '_replace', 'chain', 'count', 'draw_idx', 'index', 'is_last', 'point', 'stats', 'tuning']\n"
      ]
     },
     "metadata": {},
     "output_type": "display_data"
    },
    {
     "data": {
      "text/html": [
       "<pre style=\"white-space:pre;overflow-x:auto;line-height:normal;font-family:Menlo,'DejaVu Sans Mono',consolas,'Courier New',monospace\">Draw object attributes: ['__add__', '__class__', '__class_getitem__', '__contains__', '__delattr__', '__dir__', \n",
       "'__doc__', '__eq__', '__format__', '__ge__', '__getattribute__', '__getitem__', '__getnewargs__', '__getstate__', \n",
       "'__gt__', '__hash__', '__init__', '__init_subclass__', '__iter__', '__le__', '__len__', '__lt__', '__match_args__',\n",
       "'__module__', '__mul__', '__ne__', '__new__', '__reduce__', '__reduce_ex__', '__replace__', '__repr__', '__rmul__',\n",
       "'__setattr__', '__sizeof__', '__slots__', '__str__', '__subclasshook__', '_asdict', '_field_defaults', '_fields', \n",
       "'_make', '_replace', 'chain', 'count', 'draw_idx', 'index', 'is_last', 'point', 'stats', 'tuning']\n",
       "</pre>\n"
      ],
      "text/plain": [
       "Draw object attributes: ['__add__', '__class__', '__class_getitem__', '__contains__', '__delattr__', '__dir__', \n",
       "'__doc__', '__eq__', '__format__', '__ge__', '__getattribute__', '__getitem__', '__getnewargs__', '__getstate__', \n",
       "'__gt__', '__hash__', '__init__', '__init_subclass__', '__iter__', '__le__', '__len__', '__lt__', '__match_args__',\n",
       "'__module__', '__mul__', '__ne__', '__new__', '__reduce__', '__reduce_ex__', '__replace__', '__repr__', '__rmul__',\n",
       "'__setattr__', '__sizeof__', '__slots__', '__str__', '__subclasshook__', '_asdict', '_field_defaults', '_fields', \n",
       "'_make', '_replace', 'chain', 'count', 'draw_idx', 'index', 'is_last', 'point', 'stats', 'tuning']\n"
      ]
     },
     "metadata": {},
     "output_type": "display_data"
    },
    {
     "data": {
      "text/html": [
       "<pre style=\"white-space:pre;overflow-x:auto;line-height:normal;font-family:Menlo,'DejaVu Sans Mono',consolas,'Courier New',monospace\">Draw object attributes: ['__add__', '__class__', '__class_getitem__', '__contains__', '__delattr__', '__dir__', \n",
       "'__doc__', '__eq__', '__format__', '__ge__', '__getattribute__', '__getitem__', '__getnewargs__', '__getstate__', \n",
       "'__gt__', '__hash__', '__init__', '__init_subclass__', '__iter__', '__le__', '__len__', '__lt__', '__match_args__',\n",
       "'__module__', '__mul__', '__ne__', '__new__', '__reduce__', '__reduce_ex__', '__replace__', '__repr__', '__rmul__',\n",
       "'__setattr__', '__sizeof__', '__slots__', '__str__', '__subclasshook__', '_asdict', '_field_defaults', '_fields', \n",
       "'_make', '_replace', 'chain', 'count', 'draw_idx', 'index', 'is_last', 'point', 'stats', 'tuning']\n",
       "</pre>\n"
      ],
      "text/plain": [
       "Draw object attributes: ['__add__', '__class__', '__class_getitem__', '__contains__', '__delattr__', '__dir__', \n",
       "'__doc__', '__eq__', '__format__', '__ge__', '__getattribute__', '__getitem__', '__getnewargs__', '__getstate__', \n",
       "'__gt__', '__hash__', '__init__', '__init_subclass__', '__iter__', '__le__', '__len__', '__lt__', '__match_args__',\n",
       "'__module__', '__mul__', '__ne__', '__new__', '__reduce__', '__reduce_ex__', '__replace__', '__repr__', '__rmul__',\n",
       "'__setattr__', '__sizeof__', '__slots__', '__str__', '__subclasshook__', '_asdict', '_field_defaults', '_fields', \n",
       "'_make', '_replace', 'chain', 'count', 'draw_idx', 'index', 'is_last', 'point', 'stats', 'tuning']\n"
      ]
     },
     "metadata": {},
     "output_type": "display_data"
    },
    {
     "data": {
      "text/html": [
       "<pre style=\"white-space:pre;overflow-x:auto;line-height:normal;font-family:Menlo,'DejaVu Sans Mono',consolas,'Courier New',monospace\">Draw object attributes: ['__add__', '__class__', '__class_getitem__', '__contains__', '__delattr__', '__dir__', \n",
       "'__doc__', '__eq__', '__format__', '__ge__', '__getattribute__', '__getitem__', '__getnewargs__', '__getstate__', \n",
       "'__gt__', '__hash__', '__init__', '__init_subclass__', '__iter__', '__le__', '__len__', '__lt__', '__match_args__',\n",
       "'__module__', '__mul__', '__ne__', '__new__', '__reduce__', '__reduce_ex__', '__replace__', '__repr__', '__rmul__',\n",
       "'__setattr__', '__sizeof__', '__slots__', '__str__', '__subclasshook__', '_asdict', '_field_defaults', '_fields', \n",
       "'_make', '_replace', 'chain', 'count', 'draw_idx', 'index', 'is_last', 'point', 'stats', 'tuning']\n",
       "</pre>\n"
      ],
      "text/plain": [
       "Draw object attributes: ['__add__', '__class__', '__class_getitem__', '__contains__', '__delattr__', '__dir__', \n",
       "'__doc__', '__eq__', '__format__', '__ge__', '__getattribute__', '__getitem__', '__getnewargs__', '__getstate__', \n",
       "'__gt__', '__hash__', '__init__', '__init_subclass__', '__iter__', '__le__', '__len__', '__lt__', '__match_args__',\n",
       "'__module__', '__mul__', '__ne__', '__new__', '__reduce__', '__reduce_ex__', '__replace__', '__repr__', '__rmul__',\n",
       "'__setattr__', '__sizeof__', '__slots__', '__str__', '__subclasshook__', '_asdict', '_field_defaults', '_fields', \n",
       "'_make', '_replace', 'chain', 'count', 'draw_idx', 'index', 'is_last', 'point', 'stats', 'tuning']\n"
      ]
     },
     "metadata": {},
     "output_type": "display_data"
    },
    {
     "data": {
      "text/html": [
       "<pre style=\"white-space:pre;overflow-x:auto;line-height:normal;font-family:Menlo,'DejaVu Sans Mono',consolas,'Courier New',monospace\">Draw object attributes: ['__add__', '__class__', '__class_getitem__', '__contains__', '__delattr__', '__dir__', \n",
       "'__doc__', '__eq__', '__format__', '__ge__', '__getattribute__', '__getitem__', '__getnewargs__', '__getstate__', \n",
       "'__gt__', '__hash__', '__init__', '__init_subclass__', '__iter__', '__le__', '__len__', '__lt__', '__match_args__',\n",
       "'__module__', '__mul__', '__ne__', '__new__', '__reduce__', '__reduce_ex__', '__replace__', '__repr__', '__rmul__',\n",
       "'__setattr__', '__sizeof__', '__slots__', '__str__', '__subclasshook__', '_asdict', '_field_defaults', '_fields', \n",
       "'_make', '_replace', 'chain', 'count', 'draw_idx', 'index', 'is_last', 'point', 'stats', 'tuning']\n",
       "</pre>\n"
      ],
      "text/plain": [
       "Draw object attributes: ['__add__', '__class__', '__class_getitem__', '__contains__', '__delattr__', '__dir__', \n",
       "'__doc__', '__eq__', '__format__', '__ge__', '__getattribute__', '__getitem__', '__getnewargs__', '__getstate__', \n",
       "'__gt__', '__hash__', '__init__', '__init_subclass__', '__iter__', '__le__', '__len__', '__lt__', '__match_args__',\n",
       "'__module__', '__mul__', '__ne__', '__new__', '__reduce__', '__reduce_ex__', '__replace__', '__repr__', '__rmul__',\n",
       "'__setattr__', '__sizeof__', '__slots__', '__str__', '__subclasshook__', '_asdict', '_field_defaults', '_fields', \n",
       "'_make', '_replace', 'chain', 'count', 'draw_idx', 'index', 'is_last', 'point', 'stats', 'tuning']\n"
      ]
     },
     "metadata": {},
     "output_type": "display_data"
    },
    {
     "data": {
      "text/html": [
       "<pre style=\"white-space:pre;overflow-x:auto;line-height:normal;font-family:Menlo,'DejaVu Sans Mono',consolas,'Courier New',monospace\">Draw object attributes: ['__add__', '__class__', '__class_getitem__', '__contains__', '__delattr__', '__dir__', \n",
       "'__doc__', '__eq__', '__format__', '__ge__', '__getattribute__', '__getitem__', '__getnewargs__', '__getstate__', \n",
       "'__gt__', '__hash__', '__init__', '__init_subclass__', '__iter__', '__le__', '__len__', '__lt__', '__match_args__',\n",
       "'__module__', '__mul__', '__ne__', '__new__', '__reduce__', '__reduce_ex__', '__replace__', '__repr__', '__rmul__',\n",
       "'__setattr__', '__sizeof__', '__slots__', '__str__', '__subclasshook__', '_asdict', '_field_defaults', '_fields', \n",
       "'_make', '_replace', 'chain', 'count', 'draw_idx', 'index', 'is_last', 'point', 'stats', 'tuning']\n",
       "</pre>\n"
      ],
      "text/plain": [
       "Draw object attributes: ['__add__', '__class__', '__class_getitem__', '__contains__', '__delattr__', '__dir__', \n",
       "'__doc__', '__eq__', '__format__', '__ge__', '__getattribute__', '__getitem__', '__getnewargs__', '__getstate__', \n",
       "'__gt__', '__hash__', '__init__', '__init_subclass__', '__iter__', '__le__', '__len__', '__lt__', '__match_args__',\n",
       "'__module__', '__mul__', '__ne__', '__new__', '__reduce__', '__reduce_ex__', '__replace__', '__repr__', '__rmul__',\n",
       "'__setattr__', '__sizeof__', '__slots__', '__str__', '__subclasshook__', '_asdict', '_field_defaults', '_fields', \n",
       "'_make', '_replace', 'chain', 'count', 'draw_idx', 'index', 'is_last', 'point', 'stats', 'tuning']\n"
      ]
     },
     "metadata": {},
     "output_type": "display_data"
    },
    {
     "data": {
      "text/html": [
       "<pre style=\"white-space:pre;overflow-x:auto;line-height:normal;font-family:Menlo,'DejaVu Sans Mono',consolas,'Courier New',monospace\">Draw object attributes: ['__add__', '__class__', '__class_getitem__', '__contains__', '__delattr__', '__dir__', \n",
       "'__doc__', '__eq__', '__format__', '__ge__', '__getattribute__', '__getitem__', '__getnewargs__', '__getstate__', \n",
       "'__gt__', '__hash__', '__init__', '__init_subclass__', '__iter__', '__le__', '__len__', '__lt__', '__match_args__',\n",
       "'__module__', '__mul__', '__ne__', '__new__', '__reduce__', '__reduce_ex__', '__replace__', '__repr__', '__rmul__',\n",
       "'__setattr__', '__sizeof__', '__slots__', '__str__', '__subclasshook__', '_asdict', '_field_defaults', '_fields', \n",
       "'_make', '_replace', 'chain', 'count', 'draw_idx', 'index', 'is_last', 'point', 'stats', 'tuning']\n",
       "</pre>\n"
      ],
      "text/plain": [
       "Draw object attributes: ['__add__', '__class__', '__class_getitem__', '__contains__', '__delattr__', '__dir__', \n",
       "'__doc__', '__eq__', '__format__', '__ge__', '__getattribute__', '__getitem__', '__getnewargs__', '__getstate__', \n",
       "'__gt__', '__hash__', '__init__', '__init_subclass__', '__iter__', '__le__', '__len__', '__lt__', '__match_args__',\n",
       "'__module__', '__mul__', '__ne__', '__new__', '__reduce__', '__reduce_ex__', '__replace__', '__repr__', '__rmul__',\n",
       "'__setattr__', '__sizeof__', '__slots__', '__str__', '__subclasshook__', '_asdict', '_field_defaults', '_fields', \n",
       "'_make', '_replace', 'chain', 'count', 'draw_idx', 'index', 'is_last', 'point', 'stats', 'tuning']\n"
      ]
     },
     "metadata": {},
     "output_type": "display_data"
    },
    {
     "data": {
      "text/html": [
       "<pre style=\"white-space:pre;overflow-x:auto;line-height:normal;font-family:Menlo,'DejaVu Sans Mono',consolas,'Courier New',monospace\">Draw object attributes: ['__add__', '__class__', '__class_getitem__', '__contains__', '__delattr__', '__dir__', \n",
       "'__doc__', '__eq__', '__format__', '__ge__', '__getattribute__', '__getitem__', '__getnewargs__', '__getstate__', \n",
       "'__gt__', '__hash__', '__init__', '__init_subclass__', '__iter__', '__le__', '__len__', '__lt__', '__match_args__',\n",
       "'__module__', '__mul__', '__ne__', '__new__', '__reduce__', '__reduce_ex__', '__replace__', '__repr__', '__rmul__',\n",
       "'__setattr__', '__sizeof__', '__slots__', '__str__', '__subclasshook__', '_asdict', '_field_defaults', '_fields', \n",
       "'_make', '_replace', 'chain', 'count', 'draw_idx', 'index', 'is_last', 'point', 'stats', 'tuning']\n",
       "</pre>\n"
      ],
      "text/plain": [
       "Draw object attributes: ['__add__', '__class__', '__class_getitem__', '__contains__', '__delattr__', '__dir__', \n",
       "'__doc__', '__eq__', '__format__', '__ge__', '__getattribute__', '__getitem__', '__getnewargs__', '__getstate__', \n",
       "'__gt__', '__hash__', '__init__', '__init_subclass__', '__iter__', '__le__', '__len__', '__lt__', '__match_args__',\n",
       "'__module__', '__mul__', '__ne__', '__new__', '__reduce__', '__reduce_ex__', '__replace__', '__repr__', '__rmul__',\n",
       "'__setattr__', '__sizeof__', '__slots__', '__str__', '__subclasshook__', '_asdict', '_field_defaults', '_fields', \n",
       "'_make', '_replace', 'chain', 'count', 'draw_idx', 'index', 'is_last', 'point', 'stats', 'tuning']\n"
      ]
     },
     "metadata": {},
     "output_type": "display_data"
    },
    {
     "data": {
      "text/html": [
       "<pre style=\"white-space:pre;overflow-x:auto;line-height:normal;font-family:Menlo,'DejaVu Sans Mono',consolas,'Courier New',monospace\">Draw object attributes: ['__add__', '__class__', '__class_getitem__', '__contains__', '__delattr__', '__dir__', \n",
       "'__doc__', '__eq__', '__format__', '__ge__', '__getattribute__', '__getitem__', '__getnewargs__', '__getstate__', \n",
       "'__gt__', '__hash__', '__init__', '__init_subclass__', '__iter__', '__le__', '__len__', '__lt__', '__match_args__',\n",
       "'__module__', '__mul__', '__ne__', '__new__', '__reduce__', '__reduce_ex__', '__replace__', '__repr__', '__rmul__',\n",
       "'__setattr__', '__sizeof__', '__slots__', '__str__', '__subclasshook__', '_asdict', '_field_defaults', '_fields', \n",
       "'_make', '_replace', 'chain', 'count', 'draw_idx', 'index', 'is_last', 'point', 'stats', 'tuning']\n",
       "</pre>\n"
      ],
      "text/plain": [
       "Draw object attributes: ['__add__', '__class__', '__class_getitem__', '__contains__', '__delattr__', '__dir__', \n",
       "'__doc__', '__eq__', '__format__', '__ge__', '__getattribute__', '__getitem__', '__getnewargs__', '__getstate__', \n",
       "'__gt__', '__hash__', '__init__', '__init_subclass__', '__iter__', '__le__', '__len__', '__lt__', '__match_args__',\n",
       "'__module__', '__mul__', '__ne__', '__new__', '__reduce__', '__reduce_ex__', '__replace__', '__repr__', '__rmul__',\n",
       "'__setattr__', '__sizeof__', '__slots__', '__str__', '__subclasshook__', '_asdict', '_field_defaults', '_fields', \n",
       "'_make', '_replace', 'chain', 'count', 'draw_idx', 'index', 'is_last', 'point', 'stats', 'tuning']\n"
      ]
     },
     "metadata": {},
     "output_type": "display_data"
    },
    {
     "data": {
      "text/html": [
       "<pre style=\"white-space:pre;overflow-x:auto;line-height:normal;font-family:Menlo,'DejaVu Sans Mono',consolas,'Courier New',monospace\">Draw object attributes: ['__add__', '__class__', '__class_getitem__', '__contains__', '__delattr__', '__dir__', \n",
       "'__doc__', '__eq__', '__format__', '__ge__', '__getattribute__', '__getitem__', '__getnewargs__', '__getstate__', \n",
       "'__gt__', '__hash__', '__init__', '__init_subclass__', '__iter__', '__le__', '__len__', '__lt__', '__match_args__',\n",
       "'__module__', '__mul__', '__ne__', '__new__', '__reduce__', '__reduce_ex__', '__replace__', '__repr__', '__rmul__',\n",
       "'__setattr__', '__sizeof__', '__slots__', '__str__', '__subclasshook__', '_asdict', '_field_defaults', '_fields', \n",
       "'_make', '_replace', 'chain', 'count', 'draw_idx', 'index', 'is_last', 'point', 'stats', 'tuning']\n",
       "</pre>\n"
      ],
      "text/plain": [
       "Draw object attributes: ['__add__', '__class__', '__class_getitem__', '__contains__', '__delattr__', '__dir__', \n",
       "'__doc__', '__eq__', '__format__', '__ge__', '__getattribute__', '__getitem__', '__getnewargs__', '__getstate__', \n",
       "'__gt__', '__hash__', '__init__', '__init_subclass__', '__iter__', '__le__', '__len__', '__lt__', '__match_args__',\n",
       "'__module__', '__mul__', '__ne__', '__new__', '__reduce__', '__reduce_ex__', '__replace__', '__repr__', '__rmul__',\n",
       "'__setattr__', '__sizeof__', '__slots__', '__str__', '__subclasshook__', '_asdict', '_field_defaults', '_fields', \n",
       "'_make', '_replace', 'chain', 'count', 'draw_idx', 'index', 'is_last', 'point', 'stats', 'tuning']\n"
      ]
     },
     "metadata": {},
     "output_type": "display_data"
    },
    {
     "data": {
      "text/html": [
       "<pre style=\"white-space:pre;overflow-x:auto;line-height:normal;font-family:Menlo,'DejaVu Sans Mono',consolas,'Courier New',monospace\">Draw object attributes: ['__add__', '__class__', '__class_getitem__', '__contains__', '__delattr__', '__dir__', \n",
       "'__doc__', '__eq__', '__format__', '__ge__', '__getattribute__', '__getitem__', '__getnewargs__', '__getstate__', \n",
       "'__gt__', '__hash__', '__init__', '__init_subclass__', '__iter__', '__le__', '__len__', '__lt__', '__match_args__',\n",
       "'__module__', '__mul__', '__ne__', '__new__', '__reduce__', '__reduce_ex__', '__replace__', '__repr__', '__rmul__',\n",
       "'__setattr__', '__sizeof__', '__slots__', '__str__', '__subclasshook__', '_asdict', '_field_defaults', '_fields', \n",
       "'_make', '_replace', 'chain', 'count', 'draw_idx', 'index', 'is_last', 'point', 'stats', 'tuning']\n",
       "</pre>\n"
      ],
      "text/plain": [
       "Draw object attributes: ['__add__', '__class__', '__class_getitem__', '__contains__', '__delattr__', '__dir__', \n",
       "'__doc__', '__eq__', '__format__', '__ge__', '__getattribute__', '__getitem__', '__getnewargs__', '__getstate__', \n",
       "'__gt__', '__hash__', '__init__', '__init_subclass__', '__iter__', '__le__', '__len__', '__lt__', '__match_args__',\n",
       "'__module__', '__mul__', '__ne__', '__new__', '__reduce__', '__reduce_ex__', '__replace__', '__repr__', '__rmul__',\n",
       "'__setattr__', '__sizeof__', '__slots__', '__str__', '__subclasshook__', '_asdict', '_field_defaults', '_fields', \n",
       "'_make', '_replace', 'chain', 'count', 'draw_idx', 'index', 'is_last', 'point', 'stats', 'tuning']\n"
      ]
     },
     "metadata": {},
     "output_type": "display_data"
    },
    {
     "data": {
      "text/html": [
       "<pre style=\"white-space:pre;overflow-x:auto;line-height:normal;font-family:Menlo,'DejaVu Sans Mono',consolas,'Courier New',monospace\">Draw object attributes: ['__add__', '__class__', '__class_getitem__', '__contains__', '__delattr__', '__dir__', \n",
       "'__doc__', '__eq__', '__format__', '__ge__', '__getattribute__', '__getitem__', '__getnewargs__', '__getstate__', \n",
       "'__gt__', '__hash__', '__init__', '__init_subclass__', '__iter__', '__le__', '__len__', '__lt__', '__match_args__',\n",
       "'__module__', '__mul__', '__ne__', '__new__', '__reduce__', '__reduce_ex__', '__replace__', '__repr__', '__rmul__',\n",
       "'__setattr__', '__sizeof__', '__slots__', '__str__', '__subclasshook__', '_asdict', '_field_defaults', '_fields', \n",
       "'_make', '_replace', 'chain', 'count', 'draw_idx', 'index', 'is_last', 'point', 'stats', 'tuning']\n",
       "</pre>\n"
      ],
      "text/plain": [
       "Draw object attributes: ['__add__', '__class__', '__class_getitem__', '__contains__', '__delattr__', '__dir__', \n",
       "'__doc__', '__eq__', '__format__', '__ge__', '__getattribute__', '__getitem__', '__getnewargs__', '__getstate__', \n",
       "'__gt__', '__hash__', '__init__', '__init_subclass__', '__iter__', '__le__', '__len__', '__lt__', '__match_args__',\n",
       "'__module__', '__mul__', '__ne__', '__new__', '__reduce__', '__reduce_ex__', '__replace__', '__repr__', '__rmul__',\n",
       "'__setattr__', '__sizeof__', '__slots__', '__str__', '__subclasshook__', '_asdict', '_field_defaults', '_fields', \n",
       "'_make', '_replace', 'chain', 'count', 'draw_idx', 'index', 'is_last', 'point', 'stats', 'tuning']\n"
      ]
     },
     "metadata": {},
     "output_type": "display_data"
    },
    {
     "data": {
      "text/html": [
       "<pre style=\"white-space:pre;overflow-x:auto;line-height:normal;font-family:Menlo,'DejaVu Sans Mono',consolas,'Courier New',monospace\">Draw object attributes: ['__add__', '__class__', '__class_getitem__', '__contains__', '__delattr__', '__dir__', \n",
       "'__doc__', '__eq__', '__format__', '__ge__', '__getattribute__', '__getitem__', '__getnewargs__', '__getstate__', \n",
       "'__gt__', '__hash__', '__init__', '__init_subclass__', '__iter__', '__le__', '__len__', '__lt__', '__match_args__',\n",
       "'__module__', '__mul__', '__ne__', '__new__', '__reduce__', '__reduce_ex__', '__replace__', '__repr__', '__rmul__',\n",
       "'__setattr__', '__sizeof__', '__slots__', '__str__', '__subclasshook__', '_asdict', '_field_defaults', '_fields', \n",
       "'_make', '_replace', 'chain', 'count', 'draw_idx', 'index', 'is_last', 'point', 'stats', 'tuning']\n",
       "</pre>\n"
      ],
      "text/plain": [
       "Draw object attributes: ['__add__', '__class__', '__class_getitem__', '__contains__', '__delattr__', '__dir__', \n",
       "'__doc__', '__eq__', '__format__', '__ge__', '__getattribute__', '__getitem__', '__getnewargs__', '__getstate__', \n",
       "'__gt__', '__hash__', '__init__', '__init_subclass__', '__iter__', '__le__', '__len__', '__lt__', '__match_args__',\n",
       "'__module__', '__mul__', '__ne__', '__new__', '__reduce__', '__reduce_ex__', '__replace__', '__repr__', '__rmul__',\n",
       "'__setattr__', '__sizeof__', '__slots__', '__str__', '__subclasshook__', '_asdict', '_field_defaults', '_fields', \n",
       "'_make', '_replace', 'chain', 'count', 'draw_idx', 'index', 'is_last', 'point', 'stats', 'tuning']\n"
      ]
     },
     "metadata": {},
     "output_type": "display_data"
    },
    {
     "data": {
      "text/html": [
       "<pre style=\"white-space:pre;overflow-x:auto;line-height:normal;font-family:Menlo,'DejaVu Sans Mono',consolas,'Courier New',monospace\">Draw object attributes: ['__add__', '__class__', '__class_getitem__', '__contains__', '__delattr__', '__dir__', \n",
       "'__doc__', '__eq__', '__format__', '__ge__', '__getattribute__', '__getitem__', '__getnewargs__', '__getstate__', \n",
       "'__gt__', '__hash__', '__init__', '__init_subclass__', '__iter__', '__le__', '__len__', '__lt__', '__match_args__',\n",
       "'__module__', '__mul__', '__ne__', '__new__', '__reduce__', '__reduce_ex__', '__replace__', '__repr__', '__rmul__',\n",
       "'__setattr__', '__sizeof__', '__slots__', '__str__', '__subclasshook__', '_asdict', '_field_defaults', '_fields', \n",
       "'_make', '_replace', 'chain', 'count', 'draw_idx', 'index', 'is_last', 'point', 'stats', 'tuning']\n",
       "</pre>\n"
      ],
      "text/plain": [
       "Draw object attributes: ['__add__', '__class__', '__class_getitem__', '__contains__', '__delattr__', '__dir__', \n",
       "'__doc__', '__eq__', '__format__', '__ge__', '__getattribute__', '__getitem__', '__getnewargs__', '__getstate__', \n",
       "'__gt__', '__hash__', '__init__', '__init_subclass__', '__iter__', '__le__', '__len__', '__lt__', '__match_args__',\n",
       "'__module__', '__mul__', '__ne__', '__new__', '__reduce__', '__reduce_ex__', '__replace__', '__repr__', '__rmul__',\n",
       "'__setattr__', '__sizeof__', '__slots__', '__str__', '__subclasshook__', '_asdict', '_field_defaults', '_fields', \n",
       "'_make', '_replace', 'chain', 'count', 'draw_idx', 'index', 'is_last', 'point', 'stats', 'tuning']\n"
      ]
     },
     "metadata": {},
     "output_type": "display_data"
    },
    {
     "data": {
      "text/html": [
       "<pre style=\"white-space:pre;overflow-x:auto;line-height:normal;font-family:Menlo,'DejaVu Sans Mono',consolas,'Courier New',monospace\">Draw object attributes: ['__add__', '__class__', '__class_getitem__', '__contains__', '__delattr__', '__dir__', \n",
       "'__doc__', '__eq__', '__format__', '__ge__', '__getattribute__', '__getitem__', '__getnewargs__', '__getstate__', \n",
       "'__gt__', '__hash__', '__init__', '__init_subclass__', '__iter__', '__le__', '__len__', '__lt__', '__match_args__',\n",
       "'__module__', '__mul__', '__ne__', '__new__', '__reduce__', '__reduce_ex__', '__replace__', '__repr__', '__rmul__',\n",
       "'__setattr__', '__sizeof__', '__slots__', '__str__', '__subclasshook__', '_asdict', '_field_defaults', '_fields', \n",
       "'_make', '_replace', 'chain', 'count', 'draw_idx', 'index', 'is_last', 'point', 'stats', 'tuning']\n",
       "</pre>\n"
      ],
      "text/plain": [
       "Draw object attributes: ['__add__', '__class__', '__class_getitem__', '__contains__', '__delattr__', '__dir__', \n",
       "'__doc__', '__eq__', '__format__', '__ge__', '__getattribute__', '__getitem__', '__getnewargs__', '__getstate__', \n",
       "'__gt__', '__hash__', '__init__', '__init_subclass__', '__iter__', '__le__', '__len__', '__lt__', '__match_args__',\n",
       "'__module__', '__mul__', '__ne__', '__new__', '__reduce__', '__reduce_ex__', '__replace__', '__repr__', '__rmul__',\n",
       "'__setattr__', '__sizeof__', '__slots__', '__str__', '__subclasshook__', '_asdict', '_field_defaults', '_fields', \n",
       "'_make', '_replace', 'chain', 'count', 'draw_idx', 'index', 'is_last', 'point', 'stats', 'tuning']\n"
      ]
     },
     "metadata": {},
     "output_type": "display_data"
    },
    {
     "data": {
      "text/html": [
       "<pre style=\"white-space:pre;overflow-x:auto;line-height:normal;font-family:Menlo,'DejaVu Sans Mono',consolas,'Courier New',monospace\">Draw object attributes: ['__add__', '__class__', '__class_getitem__', '__contains__', '__delattr__', '__dir__', \n",
       "'__doc__', '__eq__', '__format__', '__ge__', '__getattribute__', '__getitem__', '__getnewargs__', '__getstate__', \n",
       "'__gt__', '__hash__', '__init__', '__init_subclass__', '__iter__', '__le__', '__len__', '__lt__', '__match_args__',\n",
       "'__module__', '__mul__', '__ne__', '__new__', '__reduce__', '__reduce_ex__', '__replace__', '__repr__', '__rmul__',\n",
       "'__setattr__', '__sizeof__', '__slots__', '__str__', '__subclasshook__', '_asdict', '_field_defaults', '_fields', \n",
       "'_make', '_replace', 'chain', 'count', 'draw_idx', 'index', 'is_last', 'point', 'stats', 'tuning']\n",
       "</pre>\n"
      ],
      "text/plain": [
       "Draw object attributes: ['__add__', '__class__', '__class_getitem__', '__contains__', '__delattr__', '__dir__', \n",
       "'__doc__', '__eq__', '__format__', '__ge__', '__getattribute__', '__getitem__', '__getnewargs__', '__getstate__', \n",
       "'__gt__', '__hash__', '__init__', '__init_subclass__', '__iter__', '__le__', '__len__', '__lt__', '__match_args__',\n",
       "'__module__', '__mul__', '__ne__', '__new__', '__reduce__', '__reduce_ex__', '__replace__', '__repr__', '__rmul__',\n",
       "'__setattr__', '__sizeof__', '__slots__', '__str__', '__subclasshook__', '_asdict', '_field_defaults', '_fields', \n",
       "'_make', '_replace', 'chain', 'count', 'draw_idx', 'index', 'is_last', 'point', 'stats', 'tuning']\n"
      ]
     },
     "metadata": {},
     "output_type": "display_data"
    },
    {
     "data": {
      "text/html": [
       "<pre style=\"white-space:pre;overflow-x:auto;line-height:normal;font-family:Menlo,'DejaVu Sans Mono',consolas,'Courier New',monospace\">Draw object attributes: ['__add__', '__class__', '__class_getitem__', '__contains__', '__delattr__', '__dir__', \n",
       "'__doc__', '__eq__', '__format__', '__ge__', '__getattribute__', '__getitem__', '__getnewargs__', '__getstate__', \n",
       "'__gt__', '__hash__', '__init__', '__init_subclass__', '__iter__', '__le__', '__len__', '__lt__', '__match_args__',\n",
       "'__module__', '__mul__', '__ne__', '__new__', '__reduce__', '__reduce_ex__', '__replace__', '__repr__', '__rmul__',\n",
       "'__setattr__', '__sizeof__', '__slots__', '__str__', '__subclasshook__', '_asdict', '_field_defaults', '_fields', \n",
       "'_make', '_replace', 'chain', 'count', 'draw_idx', 'index', 'is_last', 'point', 'stats', 'tuning']\n",
       "</pre>\n"
      ],
      "text/plain": [
       "Draw object attributes: ['__add__', '__class__', '__class_getitem__', '__contains__', '__delattr__', '__dir__', \n",
       "'__doc__', '__eq__', '__format__', '__ge__', '__getattribute__', '__getitem__', '__getnewargs__', '__getstate__', \n",
       "'__gt__', '__hash__', '__init__', '__init_subclass__', '__iter__', '__le__', '__len__', '__lt__', '__match_args__',\n",
       "'__module__', '__mul__', '__ne__', '__new__', '__reduce__', '__reduce_ex__', '__replace__', '__repr__', '__rmul__',\n",
       "'__setattr__', '__sizeof__', '__slots__', '__str__', '__subclasshook__', '_asdict', '_field_defaults', '_fields', \n",
       "'_make', '_replace', 'chain', 'count', 'draw_idx', 'index', 'is_last', 'point', 'stats', 'tuning']\n"
      ]
     },
     "metadata": {},
     "output_type": "display_data"
    },
    {
     "data": {
      "text/html": [
       "<pre style=\"white-space:pre;overflow-x:auto;line-height:normal;font-family:Menlo,'DejaVu Sans Mono',consolas,'Courier New',monospace\">Draw object attributes: ['__add__', '__class__', '__class_getitem__', '__contains__', '__delattr__', '__dir__', \n",
       "'__doc__', '__eq__', '__format__', '__ge__', '__getattribute__', '__getitem__', '__getnewargs__', '__getstate__', \n",
       "'__gt__', '__hash__', '__init__', '__init_subclass__', '__iter__', '__le__', '__len__', '__lt__', '__match_args__',\n",
       "'__module__', '__mul__', '__ne__', '__new__', '__reduce__', '__reduce_ex__', '__replace__', '__repr__', '__rmul__',\n",
       "'__setattr__', '__sizeof__', '__slots__', '__str__', '__subclasshook__', '_asdict', '_field_defaults', '_fields', \n",
       "'_make', '_replace', 'chain', 'count', 'draw_idx', 'index', 'is_last', 'point', 'stats', 'tuning']\n",
       "</pre>\n"
      ],
      "text/plain": [
       "Draw object attributes: ['__add__', '__class__', '__class_getitem__', '__contains__', '__delattr__', '__dir__', \n",
       "'__doc__', '__eq__', '__format__', '__ge__', '__getattribute__', '__getitem__', '__getnewargs__', '__getstate__', \n",
       "'__gt__', '__hash__', '__init__', '__init_subclass__', '__iter__', '__le__', '__len__', '__lt__', '__match_args__',\n",
       "'__module__', '__mul__', '__ne__', '__new__', '__reduce__', '__reduce_ex__', '__replace__', '__repr__', '__rmul__',\n",
       "'__setattr__', '__sizeof__', '__slots__', '__str__', '__subclasshook__', '_asdict', '_field_defaults', '_fields', \n",
       "'_make', '_replace', 'chain', 'count', 'draw_idx', 'index', 'is_last', 'point', 'stats', 'tuning']\n"
      ]
     },
     "metadata": {},
     "output_type": "display_data"
    },
    {
     "data": {
      "text/html": [
       "<pre style=\"white-space:pre;overflow-x:auto;line-height:normal;font-family:Menlo,'DejaVu Sans Mono',consolas,'Courier New',monospace\">Draw object attributes: ['__add__', '__class__', '__class_getitem__', '__contains__', '__delattr__', '__dir__', \n",
       "'__doc__', '__eq__', '__format__', '__ge__', '__getattribute__', '__getitem__', '__getnewargs__', '__getstate__', \n",
       "'__gt__', '__hash__', '__init__', '__init_subclass__', '__iter__', '__le__', '__len__', '__lt__', '__match_args__',\n",
       "'__module__', '__mul__', '__ne__', '__new__', '__reduce__', '__reduce_ex__', '__replace__', '__repr__', '__rmul__',\n",
       "'__setattr__', '__sizeof__', '__slots__', '__str__', '__subclasshook__', '_asdict', '_field_defaults', '_fields', \n",
       "'_make', '_replace', 'chain', 'count', 'draw_idx', 'index', 'is_last', 'point', 'stats', 'tuning']\n",
       "</pre>\n"
      ],
      "text/plain": [
       "Draw object attributes: ['__add__', '__class__', '__class_getitem__', '__contains__', '__delattr__', '__dir__', \n",
       "'__doc__', '__eq__', '__format__', '__ge__', '__getattribute__', '__getitem__', '__getnewargs__', '__getstate__', \n",
       "'__gt__', '__hash__', '__init__', '__init_subclass__', '__iter__', '__le__', '__len__', '__lt__', '__match_args__',\n",
       "'__module__', '__mul__', '__ne__', '__new__', '__reduce__', '__reduce_ex__', '__replace__', '__repr__', '__rmul__',\n",
       "'__setattr__', '__sizeof__', '__slots__', '__str__', '__subclasshook__', '_asdict', '_field_defaults', '_fields', \n",
       "'_make', '_replace', 'chain', 'count', 'draw_idx', 'index', 'is_last', 'point', 'stats', 'tuning']\n"
      ]
     },
     "metadata": {},
     "output_type": "display_data"
    },
    {
     "data": {
      "text/html": [
       "<pre style=\"white-space:pre;overflow-x:auto;line-height:normal;font-family:Menlo,'DejaVu Sans Mono',consolas,'Courier New',monospace\">Draw object attributes: ['__add__', '__class__', '__class_getitem__', '__contains__', '__delattr__', '__dir__', \n",
       "'__doc__', '__eq__', '__format__', '__ge__', '__getattribute__', '__getitem__', '__getnewargs__', '__getstate__', \n",
       "'__gt__', '__hash__', '__init__', '__init_subclass__', '__iter__', '__le__', '__len__', '__lt__', '__match_args__',\n",
       "'__module__', '__mul__', '__ne__', '__new__', '__reduce__', '__reduce_ex__', '__replace__', '__repr__', '__rmul__',\n",
       "'__setattr__', '__sizeof__', '__slots__', '__str__', '__subclasshook__', '_asdict', '_field_defaults', '_fields', \n",
       "'_make', '_replace', 'chain', 'count', 'draw_idx', 'index', 'is_last', 'point', 'stats', 'tuning']\n",
       "</pre>\n"
      ],
      "text/plain": [
       "Draw object attributes: ['__add__', '__class__', '__class_getitem__', '__contains__', '__delattr__', '__dir__', \n",
       "'__doc__', '__eq__', '__format__', '__ge__', '__getattribute__', '__getitem__', '__getnewargs__', '__getstate__', \n",
       "'__gt__', '__hash__', '__init__', '__init_subclass__', '__iter__', '__le__', '__len__', '__lt__', '__match_args__',\n",
       "'__module__', '__mul__', '__ne__', '__new__', '__reduce__', '__reduce_ex__', '__replace__', '__repr__', '__rmul__',\n",
       "'__setattr__', '__sizeof__', '__slots__', '__str__', '__subclasshook__', '_asdict', '_field_defaults', '_fields', \n",
       "'_make', '_replace', 'chain', 'count', 'draw_idx', 'index', 'is_last', 'point', 'stats', 'tuning']\n"
      ]
     },
     "metadata": {},
     "output_type": "display_data"
    },
    {
     "data": {
      "text/html": [
       "<pre style=\"white-space:pre;overflow-x:auto;line-height:normal;font-family:Menlo,'DejaVu Sans Mono',consolas,'Courier New',monospace\">Draw object attributes: ['__add__', '__class__', '__class_getitem__', '__contains__', '__delattr__', '__dir__', \n",
       "'__doc__', '__eq__', '__format__', '__ge__', '__getattribute__', '__getitem__', '__getnewargs__', '__getstate__', \n",
       "'__gt__', '__hash__', '__init__', '__init_subclass__', '__iter__', '__le__', '__len__', '__lt__', '__match_args__',\n",
       "'__module__', '__mul__', '__ne__', '__new__', '__reduce__', '__reduce_ex__', '__replace__', '__repr__', '__rmul__',\n",
       "'__setattr__', '__sizeof__', '__slots__', '__str__', '__subclasshook__', '_asdict', '_field_defaults', '_fields', \n",
       "'_make', '_replace', 'chain', 'count', 'draw_idx', 'index', 'is_last', 'point', 'stats', 'tuning']\n",
       "</pre>\n"
      ],
      "text/plain": [
       "Draw object attributes: ['__add__', '__class__', '__class_getitem__', '__contains__', '__delattr__', '__dir__', \n",
       "'__doc__', '__eq__', '__format__', '__ge__', '__getattribute__', '__getitem__', '__getnewargs__', '__getstate__', \n",
       "'__gt__', '__hash__', '__init__', '__init_subclass__', '__iter__', '__le__', '__len__', '__lt__', '__match_args__',\n",
       "'__module__', '__mul__', '__ne__', '__new__', '__reduce__', '__reduce_ex__', '__replace__', '__repr__', '__rmul__',\n",
       "'__setattr__', '__sizeof__', '__slots__', '__str__', '__subclasshook__', '_asdict', '_field_defaults', '_fields', \n",
       "'_make', '_replace', 'chain', 'count', 'draw_idx', 'index', 'is_last', 'point', 'stats', 'tuning']\n"
      ]
     },
     "metadata": {},
     "output_type": "display_data"
    },
    {
     "data": {
      "text/html": [
       "<pre style=\"white-space:pre;overflow-x:auto;line-height:normal;font-family:Menlo,'DejaVu Sans Mono',consolas,'Courier New',monospace\">Draw object attributes: ['__add__', '__class__', '__class_getitem__', '__contains__', '__delattr__', '__dir__', \n",
       "'__doc__', '__eq__', '__format__', '__ge__', '__getattribute__', '__getitem__', '__getnewargs__', '__getstate__', \n",
       "'__gt__', '__hash__', '__init__', '__init_subclass__', '__iter__', '__le__', '__len__', '__lt__', '__match_args__',\n",
       "'__module__', '__mul__', '__ne__', '__new__', '__reduce__', '__reduce_ex__', '__replace__', '__repr__', '__rmul__',\n",
       "'__setattr__', '__sizeof__', '__slots__', '__str__', '__subclasshook__', '_asdict', '_field_defaults', '_fields', \n",
       "'_make', '_replace', 'chain', 'count', 'draw_idx', 'index', 'is_last', 'point', 'stats', 'tuning']\n",
       "</pre>\n"
      ],
      "text/plain": [
       "Draw object attributes: ['__add__', '__class__', '__class_getitem__', '__contains__', '__delattr__', '__dir__', \n",
       "'__doc__', '__eq__', '__format__', '__ge__', '__getattribute__', '__getitem__', '__getnewargs__', '__getstate__', \n",
       "'__gt__', '__hash__', '__init__', '__init_subclass__', '__iter__', '__le__', '__len__', '__lt__', '__match_args__',\n",
       "'__module__', '__mul__', '__ne__', '__new__', '__reduce__', '__reduce_ex__', '__replace__', '__repr__', '__rmul__',\n",
       "'__setattr__', '__sizeof__', '__slots__', '__str__', '__subclasshook__', '_asdict', '_field_defaults', '_fields', \n",
       "'_make', '_replace', 'chain', 'count', 'draw_idx', 'index', 'is_last', 'point', 'stats', 'tuning']\n"
      ]
     },
     "metadata": {},
     "output_type": "display_data"
    },
    {
     "data": {
      "text/html": [
       "<pre style=\"white-space:pre;overflow-x:auto;line-height:normal;font-family:Menlo,'DejaVu Sans Mono',consolas,'Courier New',monospace\">Draw object attributes: ['__add__', '__class__', '__class_getitem__', '__contains__', '__delattr__', '__dir__', \n",
       "'__doc__', '__eq__', '__format__', '__ge__', '__getattribute__', '__getitem__', '__getnewargs__', '__getstate__', \n",
       "'__gt__', '__hash__', '__init__', '__init_subclass__', '__iter__', '__le__', '__len__', '__lt__', '__match_args__',\n",
       "'__module__', '__mul__', '__ne__', '__new__', '__reduce__', '__reduce_ex__', '__replace__', '__repr__', '__rmul__',\n",
       "'__setattr__', '__sizeof__', '__slots__', '__str__', '__subclasshook__', '_asdict', '_field_defaults', '_fields', \n",
       "'_make', '_replace', 'chain', 'count', 'draw_idx', 'index', 'is_last', 'point', 'stats', 'tuning']\n",
       "</pre>\n"
      ],
      "text/plain": [
       "Draw object attributes: ['__add__', '__class__', '__class_getitem__', '__contains__', '__delattr__', '__dir__', \n",
       "'__doc__', '__eq__', '__format__', '__ge__', '__getattribute__', '__getitem__', '__getnewargs__', '__getstate__', \n",
       "'__gt__', '__hash__', '__init__', '__init_subclass__', '__iter__', '__le__', '__len__', '__lt__', '__match_args__',\n",
       "'__module__', '__mul__', '__ne__', '__new__', '__reduce__', '__reduce_ex__', '__replace__', '__repr__', '__rmul__',\n",
       "'__setattr__', '__sizeof__', '__slots__', '__str__', '__subclasshook__', '_asdict', '_field_defaults', '_fields', \n",
       "'_make', '_replace', 'chain', 'count', 'draw_idx', 'index', 'is_last', 'point', 'stats', 'tuning']\n"
      ]
     },
     "metadata": {},
     "output_type": "display_data"
    },
    {
     "data": {
      "text/html": [
       "<pre style=\"white-space:pre;overflow-x:auto;line-height:normal;font-family:Menlo,'DejaVu Sans Mono',consolas,'Courier New',monospace\">Draw object attributes: ['__add__', '__class__', '__class_getitem__', '__contains__', '__delattr__', '__dir__', \n",
       "'__doc__', '__eq__', '__format__', '__ge__', '__getattribute__', '__getitem__', '__getnewargs__', '__getstate__', \n",
       "'__gt__', '__hash__', '__init__', '__init_subclass__', '__iter__', '__le__', '__len__', '__lt__', '__match_args__',\n",
       "'__module__', '__mul__', '__ne__', '__new__', '__reduce__', '__reduce_ex__', '__replace__', '__repr__', '__rmul__',\n",
       "'__setattr__', '__sizeof__', '__slots__', '__str__', '__subclasshook__', '_asdict', '_field_defaults', '_fields', \n",
       "'_make', '_replace', 'chain', 'count', 'draw_idx', 'index', 'is_last', 'point', 'stats', 'tuning']\n",
       "</pre>\n"
      ],
      "text/plain": [
       "Draw object attributes: ['__add__', '__class__', '__class_getitem__', '__contains__', '__delattr__', '__dir__', \n",
       "'__doc__', '__eq__', '__format__', '__ge__', '__getattribute__', '__getitem__', '__getnewargs__', '__getstate__', \n",
       "'__gt__', '__hash__', '__init__', '__init_subclass__', '__iter__', '__le__', '__len__', '__lt__', '__match_args__',\n",
       "'__module__', '__mul__', '__ne__', '__new__', '__reduce__', '__reduce_ex__', '__replace__', '__repr__', '__rmul__',\n",
       "'__setattr__', '__sizeof__', '__slots__', '__str__', '__subclasshook__', '_asdict', '_field_defaults', '_fields', \n",
       "'_make', '_replace', 'chain', 'count', 'draw_idx', 'index', 'is_last', 'point', 'stats', 'tuning']\n"
      ]
     },
     "metadata": {},
     "output_type": "display_data"
    },
    {
     "data": {
      "text/html": [
       "<pre style=\"white-space:pre;overflow-x:auto;line-height:normal;font-family:Menlo,'DejaVu Sans Mono',consolas,'Courier New',monospace\">Draw object attributes: ['__add__', '__class__', '__class_getitem__', '__contains__', '__delattr__', '__dir__', \n",
       "'__doc__', '__eq__', '__format__', '__ge__', '__getattribute__', '__getitem__', '__getnewargs__', '__getstate__', \n",
       "'__gt__', '__hash__', '__init__', '__init_subclass__', '__iter__', '__le__', '__len__', '__lt__', '__match_args__',\n",
       "'__module__', '__mul__', '__ne__', '__new__', '__reduce__', '__reduce_ex__', '__replace__', '__repr__', '__rmul__',\n",
       "'__setattr__', '__sizeof__', '__slots__', '__str__', '__subclasshook__', '_asdict', '_field_defaults', '_fields', \n",
       "'_make', '_replace', 'chain', 'count', 'draw_idx', 'index', 'is_last', 'point', 'stats', 'tuning']\n",
       "</pre>\n"
      ],
      "text/plain": [
       "Draw object attributes: ['__add__', '__class__', '__class_getitem__', '__contains__', '__delattr__', '__dir__', \n",
       "'__doc__', '__eq__', '__format__', '__ge__', '__getattribute__', '__getitem__', '__getnewargs__', '__getstate__', \n",
       "'__gt__', '__hash__', '__init__', '__init_subclass__', '__iter__', '__le__', '__len__', '__lt__', '__match_args__',\n",
       "'__module__', '__mul__', '__ne__', '__new__', '__reduce__', '__reduce_ex__', '__replace__', '__repr__', '__rmul__',\n",
       "'__setattr__', '__sizeof__', '__slots__', '__str__', '__subclasshook__', '_asdict', '_field_defaults', '_fields', \n",
       "'_make', '_replace', 'chain', 'count', 'draw_idx', 'index', 'is_last', 'point', 'stats', 'tuning']\n"
      ]
     },
     "metadata": {},
     "output_type": "display_data"
    },
    {
     "data": {
      "text/html": [
       "<pre style=\"white-space:pre;overflow-x:auto;line-height:normal;font-family:Menlo,'DejaVu Sans Mono',consolas,'Courier New',monospace\">Draw object attributes: ['__add__', '__class__', '__class_getitem__', '__contains__', '__delattr__', '__dir__', \n",
       "'__doc__', '__eq__', '__format__', '__ge__', '__getattribute__', '__getitem__', '__getnewargs__', '__getstate__', \n",
       "'__gt__', '__hash__', '__init__', '__init_subclass__', '__iter__', '__le__', '__len__', '__lt__', '__match_args__',\n",
       "'__module__', '__mul__', '__ne__', '__new__', '__reduce__', '__reduce_ex__', '__replace__', '__repr__', '__rmul__',\n",
       "'__setattr__', '__sizeof__', '__slots__', '__str__', '__subclasshook__', '_asdict', '_field_defaults', '_fields', \n",
       "'_make', '_replace', 'chain', 'count', 'draw_idx', 'index', 'is_last', 'point', 'stats', 'tuning']\n",
       "</pre>\n"
      ],
      "text/plain": [
       "Draw object attributes: ['__add__', '__class__', '__class_getitem__', '__contains__', '__delattr__', '__dir__', \n",
       "'__doc__', '__eq__', '__format__', '__ge__', '__getattribute__', '__getitem__', '__getnewargs__', '__getstate__', \n",
       "'__gt__', '__hash__', '__init__', '__init_subclass__', '__iter__', '__le__', '__len__', '__lt__', '__match_args__',\n",
       "'__module__', '__mul__', '__ne__', '__new__', '__reduce__', '__reduce_ex__', '__replace__', '__repr__', '__rmul__',\n",
       "'__setattr__', '__sizeof__', '__slots__', '__str__', '__subclasshook__', '_asdict', '_field_defaults', '_fields', \n",
       "'_make', '_replace', 'chain', 'count', 'draw_idx', 'index', 'is_last', 'point', 'stats', 'tuning']\n"
      ]
     },
     "metadata": {},
     "output_type": "display_data"
    },
    {
     "data": {
      "text/html": [
       "<pre style=\"white-space:pre;overflow-x:auto;line-height:normal;font-family:Menlo,'DejaVu Sans Mono',consolas,'Courier New',monospace\">Draw object attributes: ['__add__', '__class__', '__class_getitem__', '__contains__', '__delattr__', '__dir__', \n",
       "'__doc__', '__eq__', '__format__', '__ge__', '__getattribute__', '__getitem__', '__getnewargs__', '__getstate__', \n",
       "'__gt__', '__hash__', '__init__', '__init_subclass__', '__iter__', '__le__', '__len__', '__lt__', '__match_args__',\n",
       "'__module__', '__mul__', '__ne__', '__new__', '__reduce__', '__reduce_ex__', '__replace__', '__repr__', '__rmul__',\n",
       "'__setattr__', '__sizeof__', '__slots__', '__str__', '__subclasshook__', '_asdict', '_field_defaults', '_fields', \n",
       "'_make', '_replace', 'chain', 'count', 'draw_idx', 'index', 'is_last', 'point', 'stats', 'tuning']\n",
       "</pre>\n"
      ],
      "text/plain": [
       "Draw object attributes: ['__add__', '__class__', '__class_getitem__', '__contains__', '__delattr__', '__dir__', \n",
       "'__doc__', '__eq__', '__format__', '__ge__', '__getattribute__', '__getitem__', '__getnewargs__', '__getstate__', \n",
       "'__gt__', '__hash__', '__init__', '__init_subclass__', '__iter__', '__le__', '__len__', '__lt__', '__match_args__',\n",
       "'__module__', '__mul__', '__ne__', '__new__', '__reduce__', '__reduce_ex__', '__replace__', '__repr__', '__rmul__',\n",
       "'__setattr__', '__sizeof__', '__slots__', '__str__', '__subclasshook__', '_asdict', '_field_defaults', '_fields', \n",
       "'_make', '_replace', 'chain', 'count', 'draw_idx', 'index', 'is_last', 'point', 'stats', 'tuning']\n"
      ]
     },
     "metadata": {},
     "output_type": "display_data"
    },
    {
     "data": {
      "text/html": [
       "<pre style=\"white-space:pre;overflow-x:auto;line-height:normal;font-family:Menlo,'DejaVu Sans Mono',consolas,'Courier New',monospace\">Draw object attributes: ['__add__', '__class__', '__class_getitem__', '__contains__', '__delattr__', '__dir__', \n",
       "'__doc__', '__eq__', '__format__', '__ge__', '__getattribute__', '__getitem__', '__getnewargs__', '__getstate__', \n",
       "'__gt__', '__hash__', '__init__', '__init_subclass__', '__iter__', '__le__', '__len__', '__lt__', '__match_args__',\n",
       "'__module__', '__mul__', '__ne__', '__new__', '__reduce__', '__reduce_ex__', '__replace__', '__repr__', '__rmul__',\n",
       "'__setattr__', '__sizeof__', '__slots__', '__str__', '__subclasshook__', '_asdict', '_field_defaults', '_fields', \n",
       "'_make', '_replace', 'chain', 'count', 'draw_idx', 'index', 'is_last', 'point', 'stats', 'tuning']\n",
       "</pre>\n"
      ],
      "text/plain": [
       "Draw object attributes: ['__add__', '__class__', '__class_getitem__', '__contains__', '__delattr__', '__dir__', \n",
       "'__doc__', '__eq__', '__format__', '__ge__', '__getattribute__', '__getitem__', '__getnewargs__', '__getstate__', \n",
       "'__gt__', '__hash__', '__init__', '__init_subclass__', '__iter__', '__le__', '__len__', '__lt__', '__match_args__',\n",
       "'__module__', '__mul__', '__ne__', '__new__', '__reduce__', '__reduce_ex__', '__replace__', '__repr__', '__rmul__',\n",
       "'__setattr__', '__sizeof__', '__slots__', '__str__', '__subclasshook__', '_asdict', '_field_defaults', '_fields', \n",
       "'_make', '_replace', 'chain', 'count', 'draw_idx', 'index', 'is_last', 'point', 'stats', 'tuning']\n"
      ]
     },
     "metadata": {},
     "output_type": "display_data"
    },
    {
     "data": {
      "text/html": [
       "<pre style=\"white-space:pre;overflow-x:auto;line-height:normal;font-family:Menlo,'DejaVu Sans Mono',consolas,'Courier New',monospace\">Draw object attributes: ['__add__', '__class__', '__class_getitem__', '__contains__', '__delattr__', '__dir__', \n",
       "'__doc__', '__eq__', '__format__', '__ge__', '__getattribute__', '__getitem__', '__getnewargs__', '__getstate__', \n",
       "'__gt__', '__hash__', '__init__', '__init_subclass__', '__iter__', '__le__', '__len__', '__lt__', '__match_args__',\n",
       "'__module__', '__mul__', '__ne__', '__new__', '__reduce__', '__reduce_ex__', '__replace__', '__repr__', '__rmul__',\n",
       "'__setattr__', '__sizeof__', '__slots__', '__str__', '__subclasshook__', '_asdict', '_field_defaults', '_fields', \n",
       "'_make', '_replace', 'chain', 'count', 'draw_idx', 'index', 'is_last', 'point', 'stats', 'tuning']\n",
       "</pre>\n"
      ],
      "text/plain": [
       "Draw object attributes: ['__add__', '__class__', '__class_getitem__', '__contains__', '__delattr__', '__dir__', \n",
       "'__doc__', '__eq__', '__format__', '__ge__', '__getattribute__', '__getitem__', '__getnewargs__', '__getstate__', \n",
       "'__gt__', '__hash__', '__init__', '__init_subclass__', '__iter__', '__le__', '__len__', '__lt__', '__match_args__',\n",
       "'__module__', '__mul__', '__ne__', '__new__', '__reduce__', '__reduce_ex__', '__replace__', '__repr__', '__rmul__',\n",
       "'__setattr__', '__sizeof__', '__slots__', '__str__', '__subclasshook__', '_asdict', '_field_defaults', '_fields', \n",
       "'_make', '_replace', 'chain', 'count', 'draw_idx', 'index', 'is_last', 'point', 'stats', 'tuning']\n"
      ]
     },
     "metadata": {},
     "output_type": "display_data"
    },
    {
     "data": {
      "text/html": [
       "<pre style=\"white-space:pre;overflow-x:auto;line-height:normal;font-family:Menlo,'DejaVu Sans Mono',consolas,'Courier New',monospace\">Draw object attributes: ['__add__', '__class__', '__class_getitem__', '__contains__', '__delattr__', '__dir__', \n",
       "'__doc__', '__eq__', '__format__', '__ge__', '__getattribute__', '__getitem__', '__getnewargs__', '__getstate__', \n",
       "'__gt__', '__hash__', '__init__', '__init_subclass__', '__iter__', '__le__', '__len__', '__lt__', '__match_args__',\n",
       "'__module__', '__mul__', '__ne__', '__new__', '__reduce__', '__reduce_ex__', '__replace__', '__repr__', '__rmul__',\n",
       "'__setattr__', '__sizeof__', '__slots__', '__str__', '__subclasshook__', '_asdict', '_field_defaults', '_fields', \n",
       "'_make', '_replace', 'chain', 'count', 'draw_idx', 'index', 'is_last', 'point', 'stats', 'tuning']\n",
       "</pre>\n"
      ],
      "text/plain": [
       "Draw object attributes: ['__add__', '__class__', '__class_getitem__', '__contains__', '__delattr__', '__dir__', \n",
       "'__doc__', '__eq__', '__format__', '__ge__', '__getattribute__', '__getitem__', '__getnewargs__', '__getstate__', \n",
       "'__gt__', '__hash__', '__init__', '__init_subclass__', '__iter__', '__le__', '__len__', '__lt__', '__match_args__',\n",
       "'__module__', '__mul__', '__ne__', '__new__', '__reduce__', '__reduce_ex__', '__replace__', '__repr__', '__rmul__',\n",
       "'__setattr__', '__sizeof__', '__slots__', '__str__', '__subclasshook__', '_asdict', '_field_defaults', '_fields', \n",
       "'_make', '_replace', 'chain', 'count', 'draw_idx', 'index', 'is_last', 'point', 'stats', 'tuning']\n"
      ]
     },
     "metadata": {},
     "output_type": "display_data"
    },
    {
     "data": {
      "text/html": [
       "<pre style=\"white-space:pre;overflow-x:auto;line-height:normal;font-family:Menlo,'DejaVu Sans Mono',consolas,'Courier New',monospace\">Draw object attributes: ['__add__', '__class__', '__class_getitem__', '__contains__', '__delattr__', '__dir__', \n",
       "'__doc__', '__eq__', '__format__', '__ge__', '__getattribute__', '__getitem__', '__getnewargs__', '__getstate__', \n",
       "'__gt__', '__hash__', '__init__', '__init_subclass__', '__iter__', '__le__', '__len__', '__lt__', '__match_args__',\n",
       "'__module__', '__mul__', '__ne__', '__new__', '__reduce__', '__reduce_ex__', '__replace__', '__repr__', '__rmul__',\n",
       "'__setattr__', '__sizeof__', '__slots__', '__str__', '__subclasshook__', '_asdict', '_field_defaults', '_fields', \n",
       "'_make', '_replace', 'chain', 'count', 'draw_idx', 'index', 'is_last', 'point', 'stats', 'tuning']\n",
       "</pre>\n"
      ],
      "text/plain": [
       "Draw object attributes: ['__add__', '__class__', '__class_getitem__', '__contains__', '__delattr__', '__dir__', \n",
       "'__doc__', '__eq__', '__format__', '__ge__', '__getattribute__', '__getitem__', '__getnewargs__', '__getstate__', \n",
       "'__gt__', '__hash__', '__init__', '__init_subclass__', '__iter__', '__le__', '__len__', '__lt__', '__match_args__',\n",
       "'__module__', '__mul__', '__ne__', '__new__', '__reduce__', '__reduce_ex__', '__replace__', '__repr__', '__rmul__',\n",
       "'__setattr__', '__sizeof__', '__slots__', '__str__', '__subclasshook__', '_asdict', '_field_defaults', '_fields', \n",
       "'_make', '_replace', 'chain', 'count', 'draw_idx', 'index', 'is_last', 'point', 'stats', 'tuning']\n"
      ]
     },
     "metadata": {},
     "output_type": "display_data"
    },
    {
     "data": {
      "text/html": [
       "<pre style=\"white-space:pre;overflow-x:auto;line-height:normal;font-family:Menlo,'DejaVu Sans Mono',consolas,'Courier New',monospace\"></pre>\n"
      ],
      "text/plain": []
     },
     "metadata": {},
     "output_type": "display_data"
    },
    {
     "name": "stderr",
     "output_type": "stream",
     "text": [
      "Sampling 1 chain for 50 tune and 100 draw iterations (50 + 100 draws total) took 2913 seconds.\n",
      "Only one chain was sampled, this makes it impossible to run some convergence checks\n",
      "arviz - WARNING - Shape validation failed: input_shape: (1, 100), minimum_shape: (chains=2, draws=4)\n"
     ]
    },
    {
     "name": "stdout",
     "output_type": "stream",
     "text": [
      "Model Summary:\n",
      "            mean     sd    hdi_3%   hdi_97%  mcse_mean  mcse_sd  ess_bulk  \\\n",
      "tau    4507.820  2.124  4503.000  4511.000      1.318    0.366       3.0   \n",
      "mu1       0.000  0.000    -0.001     0.001      0.000    0.000     112.0   \n",
      "mu2       0.000  0.000    -0.001     0.001      0.000    0.000      92.0   \n",
      "sigma     0.026  0.000     0.025     0.026      0.000    0.000      21.0   \n",
      "\n",
      "       ess_tail  r_hat  \n",
      "tau        17.0    NaN  \n",
      "mu1        55.0    NaN  \n",
      "mu2        78.0    NaN  \n",
      "sigma      21.0    NaN  \n"
     ]
    },
    {
     "data": {
      "image/png": "[encoded data removed]",
      "text/plain": [
       "<Figure size 1200x800 with 8 Axes>"
      ]
     },
     "metadata": {},
     "output_type": "display_data"
    },
    {
     "name": "stdout",
     "output_type": "stream",
     "text": [
      "Max R-hat: nan. Should be close to 1 for convergence.\n",
      "Model runtime: 2916.919100522995 seconds\n"
     ]
    },
    {
     "data": {
      "text/plain": [
       "'trace.nc'"
      ]
     },
     "execution_count": 10,
     "metadata": {},
     "output_type": "execute_result"
    }
   ],
   "source": [
    "import pymc as pm\n",
    "import pandas as pd\n",
    "import numpy as np\n",
    "import matplotlib.pyplot as plt\n",
    "import time\n",
    "\n",
    "# Start timing\n",
    "start = time.time()\n",
    "\n",
    "# Load data\n",
    "df = pd.read_csv('C:/Users/Daniel.Temesgen/Desktop/10 Academy/wk10/BrentOilPrices.csv')\n",
    "df['Date'] = pd.to_datetime(df['Date'])\n",
    "\n",
    "# Check for missing data\n",
    "if df['Price'].isna().sum() > 0:\n",
    "    print(\"Warning: Missing price data detected. Dropping NA values.\")\n",
    "    df = df.dropna()\n",
    "\n",
    "# Calculate log returns\n",
    "log_returns = np.log(df['Price'] / df['Price'].shift(1)).dropna()\n",
    "\n",
    "with pm.Model() as model:\n",
    "    # Priors\n",
    "    tau = pm.DiscreteUniform('tau', lower=0, upper=len(log_returns) - 1)\n",
    "    mu1 = pm.Normal('mu1', mu=0, sigma=0.1)\n",
    "    mu2 = pm.Normal('mu2', mu=0, sigma=0.1)\n",
    "    sigma = pm.HalfNormal('sigma', sigma=0.1)\n",
    "\n",
    "    # Vectorized switching\n",
    "    idx = np.arange(len(log_returns))\n",
    "    mu = pm.math.switch(idx > tau, mu2, mu1)\n",
    "\n",
    "    # Likelihood\n",
    "    returns = pm.Normal('returns', mu=mu, sigma=sigma, observed=log_returns)\n",
    "\n",
    "    # Corrected callback function\n",
    "    def progress_callback(draw, **kwargs):\n",
    "        # Debug: Print draw object attributes\n",
    "        print(f\"Draw object attributes: {dir(draw)}\")\n",
    "        if hasattr(draw, 'draw') and draw.draw % 50 == 0:  # Check if 'draw' attribute exists\n",
    "            print(f\"Completed {draw.draw} draws, time so far: {time.time() - start} seconds\")\n",
    "        elif hasattr(draw, 'iteration'):  # Fallback for different API\n",
    "            if draw.iteration % 50 == 0:\n",
    "                print(f\"Completed {draw.iteration} draws, time so far: {time.time() - start} seconds\")\n",
    "\n",
    "    # Sampling with progress callback\n",
    "    trace = pm.sample(100, tune=50, cores=1, chains=1, target_accept=0.8, callback=progress_callback)\n",
    "\n",
    "# Analysis\n",
    "summary = pm.summary(trace)\n",
    "print(\"Model Summary:\\n\", summary)\n",
    "pm.plot_trace(trace)\n",
    "plt.show()\n",
    "\n",
    "# Check convergence\n",
    "rhat = summary['r_hat'].max()\n",
    "print(f\"Max R-hat: {rhat}. Should be close to 1 for convergence.\")\n",
    "\n",
    "# End timing\n",
    "runtime = time.time() - start\n",
    "print(f\"Model runtime: {runtime} seconds\")\n",
    "\n",
    "# Save trace\n",
    "trace.to_netcdf('trace.nc')"
   ]
  }
 ],
 "metadata": {
  "kernelspec": {
   "display_name": "week10",
   "language": "python",
   "name": "python3"
  },
  "language_info": {
   "codemirror_mode": {
    "name": "ipython",
    "version": 3
   },
   "file_extension": ".py",
   "mimetype": "text/x-python",
   "name": "python",
   "nbconvert_exporter": "python",
   "pygments_lexer": "ipython3",
   "version": "3.13.2"
  }
 },
 "nbformat": 4,
 "nbformat_minor": 5
}
